{
 "cells": [
  {
   "cell_type": "code",
   "execution_count": 3,
   "metadata": {},
   "outputs": [],
   "source": [
    "#py37 env\n",
    "import numpy as np\n",
    "from datetime import datetime, timedelta\n",
    "import sys\n",
    "import numpy as np\n",
    "import datetime as dt\n",
    "from dateutil.relativedelta import relativedelta\n",
    "import os\n",
    "import urllib.request\n",
    "from multiprocessing import Pool\n",
    "from tqdm import tqdm  \n",
    "import datetime as dt\n",
    "import matlab.engine\n",
    "import multiprocessing\n",
    "from joblib import Parallel, delayed\n",
    "import geopandas as gpd\n",
    "import matplotlib.pyplot as plt\n",
    "import pandas as pd\n",
    "from scipy.io import savemat\n",
    "\n",
    "sys.path.append('./Tools')\n",
    "from OC_nc2npz import ReadHYCOMData\n",
    "from GeneralGeoTools import GetDepth\n",
    "\n",
    "sys.path.append('./Tools/KitesMatlab')\n",
    "\n",
    "\n",
    "from KitePortfolioTools import WriteMatlabInputs2Kites, TimeSeriesGeneration_Kite\n"
   ]
  },
  {
   "cell_type": "markdown",
   "metadata": {},
   "source": [
    "# Write a MatlabFile with data from Hycom"
   ]
  },
  {
   "cell_type": "code",
   "execution_count": 4,
   "metadata": {},
   "outputs": [],
   "source": [
    "#Read Hycom and save a .mat file to be used in the Kites model from Dr. Vermillion's team\n",
    "\n",
    "HycomPath=\"./InputData/OceanCurrent/RawHycomData_2007_2011.npz\"\n",
    "StartDTime=datetime(2007, 1, 1, 0, 0, 0) #datetime(2007, 1, 1, 0, 0, 0) \n",
    "EndDTime  =datetime(2007, 12, 31, 23, 0, 0) #datetime(2013, 12, 31, 23, 0, 0)\n",
    "\n",
    "TimeDiscretization=24 #hours between each time step (averaging)\n",
    "SaveMatPath=\"./InputData/OceanCurrent/\"\n",
    "FullMatlabHycomDataPath=SaveMatPath+\"OCSpeedHycom_\"+StartDTime.strftime(\"%Y%m%d\")+\"_\"+EndDTime.strftime(\"%Y%m%d\")+\".mat\"\n",
    "\n",
    "# WriteMatlabInputs2Kites (HycomPath, StartDTime, EndDTime, TimeDiscretization, SaveMatPath=SaveMatPath)"
   ]
  },
  {
   "cell_type": "markdown",
   "metadata": {},
   "source": [
    "# Get Time Series of Energy Generation (from Matlab code)"
   ]
  },
  {
   "cell_type": "code",
   "execution_count": 5,
   "metadata": {},
   "outputs": [
    {
     "name": "stdout",
     "output_type": "stream",
     "text": [
      "Running Design: Vertical Depth Index: 0 --- Base Current Speed Index: 4\n",
      "0.00 % complete\n",
      "3.82 % complete\n",
      "7.63 % complete\n",
      "11.45 % complete\n",
      "15.27 % complete\n",
      "19.08 % complete\n",
      "22.90 % complete\n",
      "26.72 % complete\n",
      "30.53 % complete\n",
      "34.35 % complete\n",
      "38.17 % complete\n",
      "41.98 % complete\n",
      "45.80 % complete\n",
      "49.62 % complete\n",
      "53.44 % complete\n",
      "57.25 % complete\n",
      "61.07 % complete\n",
      "64.89 % complete\n",
      "68.70 % complete\n",
      "72.52 % complete\n",
      "76.34 % complete\n",
      "80.15 % complete\n",
      "83.97 % complete\n",
      "87.79 % complete\n",
      "91.60 % complete\n",
      "95.42 % complete\n",
      "99.24 % complete\n",
      "100.00 % complete\n",
      "Running Design: Vertical Depth Index: 0 --- Base Current Speed Index: 2\n",
      "0.00 % complete\n",
      "3.82 % complete\n",
      "7.63 % complete\n",
      "11.45 % complete\n",
      "15.27 % complete\n",
      "19.08 % complete\n",
      "22.90 % complete\n",
      "26.72 % complete\n",
      "30.53 % complete\n",
      "34.35 % complete\n",
      "38.17 % complete\n",
      "41.98 % complete\n",
      "45.80 % complete\n",
      "49.62 % complete\n",
      "53.44 % complete\n",
      "57.25 % complete\n",
      "61.07 % complete\n",
      "64.89 % complete\n",
      "68.70 % complete\n",
      "72.52 % complete\n",
      "76.34 % complete\n",
      "80.15 % complete\n",
      "83.97 % complete\n",
      "87.79 % complete\n",
      "91.60 % complete\n",
      "95.42 % complete\n",
      "99.24 % complete\n",
      "100.00 % complete\n"
     ]
    }
   ],
   "source": [
    "PathKiteParams=\"./Tools/KitesMatlab/KiteParameters/power_objective.xlsx\"\n",
    "SavePowerTimeSeriesPath='./InputData/OceanCurrent/'\n",
    "BaseCSpeed=[0.5, 1 , 1.5 , 2.0 , 2.5]\n",
    "VerticalDepth=[50, 100, 150, 200]\n",
    "    \n",
    "# for i_vd in range(len(VerticalDepth)):# Vertical Depth Index\n",
    "#     for i_cs in range(len(BaseCSpeed)): #Base Current Speed Index\n",
    "#         TimeSeriesGeneration (PathKiteParams, i_vd, i_cs, SavePowerTimeSeriesPath)\n",
    "TimeSeriesGeneration_Kite (PathKiteParams, 0, 4, SavePowerTimeSeriesPath, FullMatlabHycomDataPath,NumEnvs=10) \n",
    "TimeSeriesGeneration_Kite (PathKiteParams, 0, 2, SavePowerTimeSeriesPath, FullMatlabHycomDataPath,NumEnvs=10) "
   ]
  }
 ],
 "metadata": {
  "kernelspec": {
   "display_name": "py37",
   "language": "python",
   "name": "python3"
  },
  "language_info": {
   "codemirror_mode": {
    "name": "ipython",
    "version": 3
   },
   "file_extension": ".py",
   "mimetype": "text/x-python",
   "name": "python",
   "nbconvert_exporter": "python",
   "pygments_lexer": "ipython3",
   "version": "3.9.18"
  }
 },
 "nbformat": 4,
 "nbformat_minor": 2
}
