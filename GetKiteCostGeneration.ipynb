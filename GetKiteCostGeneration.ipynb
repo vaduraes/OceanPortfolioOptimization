{
 "cells": [
  {
   "cell_type": "code",
   "execution_count": 1,
   "metadata": {},
   "outputs": [],
   "source": [
    "#py37 env\n",
    "import numpy as np\n",
    "from datetime import datetime, timedelta\n",
    "import sys\n",
    "import numpy as np\n",
    "import datetime as dt\n",
    "from dateutil.relativedelta import relativedelta\n",
    "import os\n",
    "import urllib.request\n",
    "from multiprocessing import Pool\n",
    "from tqdm import tqdm  \n",
    "import datetime as dt\n",
    "import matlab.engine\n",
    "import multiprocessing\n",
    "from joblib import Parallel, delayed\n",
    "import geopandas as gpd\n",
    "import matplotlib.pyplot as plt\n",
    "import pandas as pd\n",
    "from scipy.io import savemat\n",
    "\n",
    "sys.path.append('./Tools')\n",
    "from OC_nc2npz import ReadHYCOMData\n",
    "from GeneralGeoTools import GetDepth\n",
    "\n",
    "sys.path.append('./Tools/KitesMatlab')\n",
    "\n",
    "\n",
    "from KitePortfolioTools import WriteMatlabInputs2Kites, TimeSeriesGeneration_Kite\n"
   ]
  },
  {
   "cell_type": "markdown",
   "metadata": {},
   "source": [
    "# Write a MatlabFile with data from Hycom"
   ]
  },
  {
   "cell_type": "code",
   "execution_count": 2,
   "metadata": {},
   "outputs": [],
   "source": [
    "#Read Hycom and save a .mat file to be used in the Kites model from Dr. Vermillion's team\n",
    "\n",
    "HycomPath=\"./InputData/OceanCurrent/RawHycomData_2007_2011.npz\"\n",
    "StartDTime=datetime(2007, 1, 1, 0, 0, 0) #datetime(2007, 1, 1, 0, 0, 0) \n",
    "EndDTime  =datetime(2007, 12, 31, 23, 0, 0) #datetime(2013, 12, 31, 23, 0, 0)\n",
    "\n",
    "TimeDiscretization=24 #hours between each time step (averaging)\n",
    "SaveMatPath=\"./InputData/OceanCurrent/\"\n",
    "FullMatlabHycomDataPath=SaveMatPath+\"OCSpeedHycom_\"+StartDTime.strftime(\"%Y%m%d\")+\"_\"+EndDTime.strftime(\"%Y%m%d\")+\".mat\"\n",
    "\n",
    "# WriteMatlabInputs2Kites (HycomPath, StartDTime, EndDTime, TimeDiscretization, SaveMatPath=SaveMatPath)"
   ]
  },
  {
   "cell_type": "markdown",
   "metadata": {},
   "source": [
    "# Get Time Series of Energy Generation (from Matlab code)"
   ]
  },
  {
   "cell_type": "code",
   "execution_count": 3,
   "metadata": {},
   "outputs": [
    {
     "name": "stdout",
     "output_type": "stream",
     "text": [
      "Running Design: Vertical Depth Index: 0 --- Base Current Speed Index: 3\n",
      "0.00 % complete\n",
      "3.77 % complete\n",
      "7.55 % complete\n",
      "11.32 % complete\n",
      "15.09 % complete\n",
      "18.87 % complete\n",
      "22.64 % complete\n",
      "26.42 % complete\n",
      "30.19 % complete\n",
      "33.96 % complete\n",
      "37.74 % complete\n",
      "41.51 % complete\n",
      "45.28 % complete\n",
      "49.06 % complete\n",
      "52.83 % complete\n",
      "56.60 % complete\n",
      "60.38 % complete\n",
      "64.15 % complete\n",
      "67.92 % complete\n",
      "71.70 % complete\n",
      "75.47 % complete\n",
      "79.25 % complete\n",
      "83.02 % complete\n",
      "86.79 % complete\n",
      "90.57 % complete\n",
      "94.34 % complete\n",
      "98.11 % complete\n",
      "100.00 % complete\n",
      "\n",
      " Calculating distance to shore for viable site locations\n"
     ]
    },
    {
     "name": "stderr",
     "output_type": "stream",
     "text": [
      "100%|██████████| 14/14 [00:00<00:00, 45.04it/s]\n"
     ]
    }
   ],
   "source": [
    "PathKiteParams=\"./Tools/KitesMatlab/KiteParameters/power_objective.xlsx\"\n",
    "SavePowerTimeSeriesPath='./OutputData/OceanCurrent/'\n",
    "BaseCSpeed=[0.5, 1 , 1.5 , 2.0 , 2.5]\n",
    "VerticalDepth=[50, 100, 150, 200]\n",
    "\n",
    "\n",
    "NumEnvs=10\n",
    "MatlabKitePath='./Tools/KitesMatlab/'\n",
    "# for i_vd in range(len(VerticalDepth)):# Vertical Depth Index\n",
    "#     for i_cs in range(len(BaseCSpeed)): #Base Current Speed Index\n",
    "#         TimeSeriesGeneration (PathKiteParams, i_vd, i_cs, SavePowerTimeSeriesPath)\n",
    "# TimeSeriesGeneration_Kite (PathKiteParams, 0, 1, SavePowerTimeSeriesPath, FullMatlabHycomDataPath,NumEnvs=10) \n",
    "TimeSeriesGeneration_Kite (PathKiteParams, 0, 3, SavePowerTimeSeriesPath, FullMatlabHycomDataPath,NumEnvs=10) "
   ]
  }
 ],
 "metadata": {
  "kernelspec": {
   "display_name": "py37",
   "language": "python",
   "name": "python3"
  },
  "language_info": {
   "codemirror_mode": {
    "name": "ipython",
    "version": 3
   },
   "file_extension": ".py",
   "mimetype": "text/x-python",
   "name": "python",
   "nbconvert_exporter": "python",
   "pygments_lexer": "ipython3",
   "version": "3.9.18"
  }
 },
 "nbformat": 4,
 "nbformat_minor": 2
}
