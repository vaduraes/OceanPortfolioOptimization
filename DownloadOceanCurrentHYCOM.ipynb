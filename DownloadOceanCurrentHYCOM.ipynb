{
 "cells": [
  {
   "cell_type": "code",
   "execution_count": 1,
   "metadata": {},
   "outputs": [
    {
     "name": "stderr",
     "output_type": "stream",
     "text": [
      "  8%|▊         | 98/1282 [1:19:32<21:16:50, 64.70s/it]"
     ]
    }
   ],
   "source": [
    "import numpy as np\n",
    "from datetime import datetime, timedelta\n",
    "import sys\n",
    "import numpy as np\n",
    "import datetime as dt\n",
    "from dateutil.relativedelta import relativedelta\n",
    "import os\n",
    "import urllib.request\n",
    "from multiprocessing import Pool\n",
    "from tqdm import tqdm  \n",
    "\n",
    "sys.path.append('./Tools')\n",
    "from DownloadHYCOM_OC import DownloadHYCOM_MultiProcess\n",
    "\n",
    "LatMinMax=(33.3, 37.2)\n",
    "LongMinMax=(-78.7, -74.3)\n",
    "\n",
    "StartDTime=datetime(2007, 1, 1, 0, 0, 0) #1994-01-01 to 2015-12-31\n",
    "EndDTime  =datetime(2013, 12, 31, 23, 0, 0)\n",
    "\n",
    "PoolSize=16\n",
    "  \n",
    "DownloadHYCOM_MultiProcess(StartDTime, EndDTime, PoolSize=PoolSize, LatMinMax=LatMinMax,  LongMinMax=LongMinMax)\n",
    "\n"
   ]
  }
 ],
 "metadata": {
  "kernelspec": {
   "display_name": "Gurobi",
   "language": "python",
   "name": "python3"
  },
  "language_info": {
   "codemirror_mode": {
    "name": "ipython",
    "version": 3
   },
   "file_extension": ".py",
   "mimetype": "text/x-python",
   "name": "python",
   "nbconvert_exporter": "python",
   "pygments_lexer": "ipython3",
   "version": "3.9.18"
  }
 },
 "nbformat": 4,
 "nbformat_minor": 2
}
