{
 "cells": [
  {
   "cell_type": "code",
   "execution_count": 1,
   "metadata": {},
   "outputs": [
    {
     "name": "stderr",
     "output_type": "stream",
     "text": [
      "  0%|          | 0/332 [00:00<?, ?it/s]"
     ]
    },
    {
     "name": "stdout",
     "output_type": "stream",
     "text": [
      "Downloading File: ./InputData/OceanCurrent/Hycom/2008-05-02T00_2008-05-03T21.nc\n"
     ]
    },
    {
     "name": "stderr",
     "output_type": "stream",
     "text": [
      "  0%|          | 1/332 [05:46<31:52:56, 346.76s/it]"
     ]
    },
    {
     "name": "stdout",
     "output_type": "stream",
     "text": [
      "Downloading File: ./InputData/OceanCurrent/Hycom/2008-05-04T00_2008-05-05T21.nc\n"
     ]
    },
    {
     "name": "stderr",
     "output_type": "stream",
     "text": [
      "  1%|          | 2/332 [13:50<39:10:37, 427.39s/it]"
     ]
    },
    {
     "name": "stdout",
     "output_type": "stream",
     "text": [
      "Downloading File: ./InputData/OceanCurrent/Hycom/2008-05-14T00_2008-05-15T21.nc\n"
     ]
    },
    {
     "name": "stderr",
     "output_type": "stream",
     "text": [
      "  1%|          | 3/332 [19:53<36:23:00, 398.12s/it]"
     ]
    },
    {
     "name": "stdout",
     "output_type": "stream",
     "text": [
      "Downloading File: ./InputData/OceanCurrent/Hycom/2012-01-19T00_2012-01-20T21.nc\n"
     ]
    },
    {
     "name": "stderr",
     "output_type": "stream",
     "text": [
      "  1%|          | 4/332 [26:22<35:55:53, 394.37s/it]"
     ]
    },
    {
     "name": "stdout",
     "output_type": "stream",
     "text": [
      "Downloading File: ./InputData/OceanCurrent/Hycom/2012-01-21T00_2012-01-22T21.nc\n"
     ]
    },
    {
     "name": "stderr",
     "output_type": "stream",
     "text": [
      "  2%|▏         | 5/332 [33:06<36:08:43, 397.93s/it]"
     ]
    },
    {
     "name": "stdout",
     "output_type": "stream",
     "text": [
      "Downloading File: ./InputData/OceanCurrent/Hycom/2012-02-12T00_2012-02-13T21.nc\n"
     ]
    },
    {
     "name": "stderr",
     "output_type": "stream",
     "text": [
      "  2%|▏         | 6/332 [39:30<35:36:10, 393.16s/it]"
     ]
    },
    {
     "name": "stdout",
     "output_type": "stream",
     "text": [
      "Downloading File: ./InputData/OceanCurrent/Hycom/2012-02-14T00_2012-02-15T21.nc\n"
     ]
    },
    {
     "name": "stderr",
     "output_type": "stream",
     "text": [
      "  2%|▏         | 7/332 [52:18<46:33:54, 515.80s/it]"
     ]
    },
    {
     "name": "stdout",
     "output_type": "stream",
     "text": [
      "Downloading File: ./InputData/OceanCurrent/Hycom/2012-02-16T00_2012-02-17T21.nc\n"
     ]
    },
    {
     "name": "stderr",
     "output_type": "stream",
     "text": [
      "  2%|▏         | 8/332 [57:36<40:45:01, 452.78s/it]"
     ]
    },
    {
     "name": "stdout",
     "output_type": "stream",
     "text": [
      "Downloading File: ./InputData/OceanCurrent/Hycom/2012-02-18T00_2012-02-19T21.nc\n"
     ]
    },
    {
     "name": "stderr",
     "output_type": "stream",
     "text": [
      "  3%|▎         | 9/332 [1:03:00<37:00:42, 412.51s/it]"
     ]
    },
    {
     "name": "stdout",
     "output_type": "stream",
     "text": [
      "Downloading File: ./InputData/OceanCurrent/Hycom/2012-02-22T00_2012-02-23T21.nc\n"
     ]
    },
    {
     "name": "stderr",
     "output_type": "stream",
     "text": [
      "  3%|▎         | 10/332 [1:10:02<37:08:53, 415.32s/it]"
     ]
    },
    {
     "name": "stdout",
     "output_type": "stream",
     "text": [
      "Downloading File: ./InputData/OceanCurrent/Hycom/2012-02-26T00_2012-02-27T21.nc\n"
     ]
    },
    {
     "name": "stderr",
     "output_type": "stream",
     "text": [
      "  3%|▎         | 11/332 [1:15:29<34:38:01, 388.42s/it]"
     ]
    },
    {
     "name": "stdout",
     "output_type": "stream",
     "text": [
      "Downloading File: ./InputData/OceanCurrent/Hycom/2012-03-01T00_2012-03-02T21.nc\n"
     ]
    },
    {
     "name": "stderr",
     "output_type": "stream",
     "text": [
      "  4%|▎         | 12/332 [1:22:24<35:14:17, 396.43s/it]"
     ]
    },
    {
     "name": "stdout",
     "output_type": "stream",
     "text": [
      "Downloading File: ./InputData/OceanCurrent/Hycom/2012-03-05T00_2012-03-06T21.nc\n"
     ]
    },
    {
     "name": "stderr",
     "output_type": "stream",
     "text": [
      "  4%|▍         | 13/332 [1:29:22<35:41:43, 402.83s/it]"
     ]
    },
    {
     "name": "stdout",
     "output_type": "stream",
     "text": [
      "Downloading File: ./InputData/OceanCurrent/Hycom/2012-03-07T00_2012-03-08T21.nc\n"
     ]
    },
    {
     "name": "stderr",
     "output_type": "stream",
     "text": [
      "  4%|▍         | 14/332 [1:36:14<35:50:59, 405.85s/it]"
     ]
    },
    {
     "name": "stdout",
     "output_type": "stream",
     "text": [
      "Downloading File: ./InputData/OceanCurrent/Hycom/2012-03-11T00_2012-03-12T21.nc\n"
     ]
    },
    {
     "name": "stderr",
     "output_type": "stream",
     "text": [
      "  5%|▍         | 15/332 [1:43:23<36:20:45, 412.76s/it]"
     ]
    },
    {
     "name": "stdout",
     "output_type": "stream",
     "text": [
      "Downloading File: ./InputData/OceanCurrent/Hycom/2012-03-13T00_2012-03-14T21.nc\n"
     ]
    },
    {
     "name": "stderr",
     "output_type": "stream",
     "text": [
      "  5%|▍         | 16/332 [1:50:52<37:11:23, 423.68s/it]"
     ]
    },
    {
     "name": "stdout",
     "output_type": "stream",
     "text": [
      "Downloading File: ./InputData/OceanCurrent/Hycom/2012-03-17T00_2012-03-18T21.nc\n"
     ]
    },
    {
     "name": "stderr",
     "output_type": "stream",
     "text": [
      "  5%|▌         | 17/332 [1:55:24<33:04:19, 377.97s/it]"
     ]
    },
    {
     "name": "stdout",
     "output_type": "stream",
     "text": [
      "Downloading File: ./InputData/OceanCurrent/Hycom/2012-03-23T00_2012-03-24T21.nc\n"
     ]
    },
    {
     "name": "stderr",
     "output_type": "stream",
     "text": [
      "  5%|▌         | 18/332 [2:02:31<34:16:02, 392.87s/it]"
     ]
    },
    {
     "name": "stdout",
     "output_type": "stream",
     "text": [
      "Downloading File: ./InputData/OceanCurrent/Hycom/2012-03-25T00_2012-03-26T21.nc\n"
     ]
    },
    {
     "name": "stderr",
     "output_type": "stream",
     "text": [
      "  6%|▌         | 19/332 [2:10:21<36:09:53, 415.95s/it]"
     ]
    },
    {
     "name": "stdout",
     "output_type": "stream",
     "text": [
      "Downloading File: ./InputData/OceanCurrent/Hycom/2012-03-29T00_2012-03-30T21.nc\n"
     ]
    },
    {
     "name": "stderr",
     "output_type": "stream",
     "text": [
      "Error downloading ./InputData/OceanCurrent/Hycom/2012-03-29T00_2012-03-30T21.nc: HTTP Error 500: 500\n",
      "  6%|▌         | 20/332 [2:15:22<33:02:53, 381.33s/it]"
     ]
    },
    {
     "name": "stdout",
     "output_type": "stream",
     "text": [
      "Downloading File: ./InputData/OceanCurrent/Hycom/2012-04-02T00_2012-04-03T21.nc\n"
     ]
    },
    {
     "name": "stderr",
     "output_type": "stream",
     "text": [
      "Error downloading ./InputData/OceanCurrent/Hycom/2012-04-02T00_2012-04-03T21.nc: HTTP Error 500: 500\n",
      "  6%|▋         | 21/332 [2:20:26<30:57:15, 358.31s/it]"
     ]
    },
    {
     "name": "stdout",
     "output_type": "stream",
     "text": [
      "Downloading File: ./InputData/OceanCurrent/Hycom/2012-04-04T00_2012-04-05T21.nc\n"
     ]
    },
    {
     "name": "stderr",
     "output_type": "stream",
     "text": [
      "  7%|▋         | 22/332 [2:29:32<35:40:51, 414.36s/it]"
     ]
    },
    {
     "name": "stdout",
     "output_type": "stream",
     "text": [
      "Downloading File: ./InputData/OceanCurrent/Hycom/2012-04-06T00_2012-04-07T21.nc\n"
     ]
    },
    {
     "name": "stderr",
     "output_type": "stream",
     "text": [
      "  7%|▋         | 23/332 [2:37:29<37:11:26, 433.29s/it]"
     ]
    },
    {
     "name": "stdout",
     "output_type": "stream",
     "text": [
      "Downloading File: ./InputData/OceanCurrent/Hycom/2012-04-08T00_2012-04-09T21.nc\n"
     ]
    },
    {
     "name": "stderr",
     "output_type": "stream",
     "text": [
      "  7%|▋         | 24/332 [2:46:18<39:31:30, 461.98s/it]"
     ]
    },
    {
     "name": "stdout",
     "output_type": "stream",
     "text": [
      "Downloading File: ./InputData/OceanCurrent/Hycom/2012-04-10T00_2012-04-11T21.nc\n"
     ]
    },
    {
     "name": "stderr",
     "output_type": "stream",
     "text": [
      "Error downloading ./InputData/OceanCurrent/Hycom/2012-04-10T00_2012-04-11T21.nc: HTTP Error 500: 500\n",
      "  8%|▊         | 25/332 [2:51:22<35:20:52, 414.50s/it]"
     ]
    },
    {
     "name": "stdout",
     "output_type": "stream",
     "text": [
      "Downloading File: ./InputData/OceanCurrent/Hycom/2012-04-12T00_2012-04-13T21.nc\n"
     ]
    },
    {
     "name": "stderr",
     "output_type": "stream",
     "text": [
      "Error downloading ./InputData/OceanCurrent/Hycom/2012-04-12T00_2012-04-13T21.nc: HTTP Error 500: 500\n",
      "  8%|▊         | 26/332 [2:56:25<32:24:00, 381.18s/it]"
     ]
    },
    {
     "name": "stdout",
     "output_type": "stream",
     "text": [
      "Downloading File: ./InputData/OceanCurrent/Hycom/2012-04-14T00_2012-04-15T21.nc\n"
     ]
    },
    {
     "name": "stderr",
     "output_type": "stream",
     "text": [
      "  8%|▊         | 27/332 [3:05:22<36:14:49, 427.83s/it]"
     ]
    },
    {
     "name": "stdout",
     "output_type": "stream",
     "text": [
      "Downloading File: ./InputData/OceanCurrent/Hycom/2012-04-16T00_2012-04-17T21.nc\n"
     ]
    },
    {
     "name": "stderr",
     "output_type": "stream",
     "text": [
      "Error downloading ./InputData/OceanCurrent/Hycom/2012-04-16T00_2012-04-17T21.nc: HTTP Error 500: 500\n",
      "  8%|▊         | 28/332 [3:14:42<39:29:07, 467.59s/it]"
     ]
    },
    {
     "name": "stdout",
     "output_type": "stream",
     "text": [
      "Downloading File: ./InputData/OceanCurrent/Hycom/2012-04-18T00_2012-04-19T21.nc\n"
     ]
    },
    {
     "name": "stderr",
     "output_type": "stream",
     "text": [
      "  9%|▊         | 29/332 [3:23:17<40:32:45, 481.73s/it]"
     ]
    },
    {
     "name": "stdout",
     "output_type": "stream",
     "text": [
      "Downloading File: ./InputData/OceanCurrent/Hycom/2012-04-20T00_2012-04-21T21.nc\n"
     ]
    },
    {
     "name": "stderr",
     "output_type": "stream",
     "text": [
      "  9%|▉         | 30/332 [3:31:16<40:20:49, 480.96s/it]"
     ]
    },
    {
     "name": "stdout",
     "output_type": "stream",
     "text": [
      "Downloading File: ./InputData/OceanCurrent/Hycom/2012-04-22T00_2012-04-23T21.nc\n"
     ]
    },
    {
     "name": "stderr",
     "output_type": "stream",
     "text": [
      "  9%|▉         | 31/332 [3:38:26<38:56:15, 465.70s/it]"
     ]
    },
    {
     "name": "stdout",
     "output_type": "stream",
     "text": [
      "Downloading File: ./InputData/OceanCurrent/Hycom/2012-04-24T00_2012-04-25T21.nc\n"
     ]
    },
    {
     "name": "stderr",
     "output_type": "stream",
     "text": [
      " 10%|▉         | 32/332 [3:46:27<39:10:41, 470.14s/it]"
     ]
    },
    {
     "name": "stdout",
     "output_type": "stream",
     "text": [
      "Downloading File: ./InputData/OceanCurrent/Hycom/2012-04-26T00_2012-04-27T21.nc\n"
     ]
    },
    {
     "name": "stderr",
     "output_type": "stream",
     "text": [
      " 10%|▉         | 33/332 [3:53:51<38:24:53, 462.52s/it]"
     ]
    },
    {
     "name": "stdout",
     "output_type": "stream",
     "text": [
      "Downloading File: ./InputData/OceanCurrent/Hycom/2012-04-28T00_2012-04-29T21.nc\n"
     ]
    },
    {
     "name": "stderr",
     "output_type": "stream",
     "text": [
      " 10%|█         | 34/332 [4:00:57<37:22:12, 451.45s/it]"
     ]
    },
    {
     "name": "stdout",
     "output_type": "stream",
     "text": [
      "Downloading File: ./InputData/OceanCurrent/Hycom/2012-04-30T00_2012-05-01T21.nc\n"
     ]
    },
    {
     "name": "stderr",
     "output_type": "stream",
     "text": [
      " 11%|█         | 35/332 [4:07:51<36:18:33, 440.11s/it]"
     ]
    },
    {
     "name": "stdout",
     "output_type": "stream",
     "text": [
      "Downloading File: ./InputData/OceanCurrent/Hycom/2012-05-02T00_2012-05-03T21.nc\n"
     ]
    },
    {
     "name": "stderr",
     "output_type": "stream",
     "text": [
      " 11%|█         | 36/332 [4:15:12<36:12:59, 440.47s/it]"
     ]
    },
    {
     "name": "stdout",
     "output_type": "stream",
     "text": [
      "Downloading File: ./InputData/OceanCurrent/Hycom/2012-05-04T00_2012-05-05T21.nc\n"
     ]
    },
    {
     "name": "stderr",
     "output_type": "stream",
     "text": [
      " 11%|█         | 37/332 [4:21:24<34:24:21, 419.87s/it]"
     ]
    },
    {
     "name": "stdout",
     "output_type": "stream",
     "text": [
      "Downloading File: ./InputData/OceanCurrent/Hycom/2012-05-06T00_2012-05-07T21.nc\n"
     ]
    },
    {
     "name": "stderr",
     "output_type": "stream",
     "text": [
      " 11%|█▏        | 38/332 [4:23:49<27:34:08, 337.58s/it]"
     ]
    },
    {
     "name": "stdout",
     "output_type": "stream",
     "text": [
      "Downloading File: ./InputData/OceanCurrent/Hycom/2012-05-08T00_2012-05-09T21.nc\n"
     ]
    },
    {
     "name": "stderr",
     "output_type": "stream",
     "text": [
      " 12%|█▏        | 39/332 [4:30:32<29:03:16, 356.98s/it]"
     ]
    },
    {
     "name": "stdout",
     "output_type": "stream",
     "text": [
      "Downloading File: ./InputData/OceanCurrent/Hycom/2012-05-10T00_2012-05-11T21.nc\n"
     ]
    },
    {
     "name": "stderr",
     "output_type": "stream",
     "text": [
      " 12%|█▏        | 40/332 [4:37:38<30:38:33, 377.79s/it]"
     ]
    },
    {
     "name": "stdout",
     "output_type": "stream",
     "text": [
      "Downloading File: ./InputData/OceanCurrent/Hycom/2012-05-12T00_2012-05-13T21.nc\n"
     ]
    },
    {
     "name": "stderr",
     "output_type": "stream",
     "text": [
      " 12%|█▏        | 41/332 [4:42:50<28:56:18, 358.00s/it]"
     ]
    },
    {
     "name": "stdout",
     "output_type": "stream",
     "text": [
      "Downloading File: ./InputData/OceanCurrent/Hycom/2012-05-14T00_2012-05-15T21.nc\n"
     ]
    },
    {
     "name": "stderr",
     "output_type": "stream",
     "text": [
      " 13%|█▎        | 42/332 [4:49:21<29:37:55, 367.85s/it]"
     ]
    },
    {
     "name": "stdout",
     "output_type": "stream",
     "text": [
      "Downloading File: ./InputData/OceanCurrent/Hycom/2012-05-16T00_2012-05-17T21.nc\n"
     ]
    },
    {
     "name": "stderr",
     "output_type": "stream",
     "text": [
      " 13%|█▎        | 43/332 [4:55:52<30:05:57, 374.94s/it]"
     ]
    },
    {
     "name": "stdout",
     "output_type": "stream",
     "text": [
      "Downloading File: ./InputData/OceanCurrent/Hycom/2012-05-18T00_2012-05-19T21.nc\n"
     ]
    },
    {
     "name": "stderr",
     "output_type": "stream",
     "text": [
      " 13%|█▎        | 44/332 [5:02:42<30:49:56, 385.40s/it]"
     ]
    },
    {
     "name": "stdout",
     "output_type": "stream",
     "text": [
      "Downloading File: ./InputData/OceanCurrent/Hycom/2012-05-20T00_2012-05-21T21.nc\n"
     ]
    },
    {
     "name": "stderr",
     "output_type": "stream",
     "text": [
      " 14%|█▎        | 45/332 [5:08:11<29:23:15, 368.62s/it]"
     ]
    },
    {
     "name": "stdout",
     "output_type": "stream",
     "text": [
      "Downloading File: ./InputData/OceanCurrent/Hycom/2012-05-22T00_2012-05-23T21.nc\n"
     ]
    },
    {
     "name": "stderr",
     "output_type": "stream",
     "text": [
      " 14%|█▍        | 46/332 [5:14:58<30:11:19, 380.00s/it]"
     ]
    },
    {
     "name": "stdout",
     "output_type": "stream",
     "text": [
      "Downloading File: ./InputData/OceanCurrent/Hycom/2012-05-24T00_2012-05-25T21.nc\n"
     ]
    },
    {
     "name": "stderr",
     "output_type": "stream",
     "text": [
      " 14%|█▍        | 47/332 [5:21:47<30:46:56, 388.83s/it]"
     ]
    },
    {
     "name": "stdout",
     "output_type": "stream",
     "text": [
      "Downloading File: ./InputData/OceanCurrent/Hycom/2012-05-26T00_2012-05-27T21.nc\n"
     ]
    },
    {
     "name": "stderr",
     "output_type": "stream",
     "text": [
      " 14%|█▍        | 48/332 [5:27:32<29:38:08, 375.66s/it]"
     ]
    },
    {
     "name": "stdout",
     "output_type": "stream",
     "text": [
      "Downloading File: ./InputData/OceanCurrent/Hycom/2012-05-28T00_2012-05-29T21.nc\n"
     ]
    },
    {
     "name": "stderr",
     "output_type": "stream",
     "text": [
      " 15%|█▍        | 49/332 [5:33:10<28:38:45, 364.40s/it]"
     ]
    },
    {
     "name": "stdout",
     "output_type": "stream",
     "text": [
      "Downloading File: ./InputData/OceanCurrent/Hycom/2012-05-30T00_2012-05-31T21.nc\n"
     ]
    },
    {
     "name": "stderr",
     "output_type": "stream",
     "text": [
      " 15%|█▌        | 50/332 [5:37:58<26:45:02, 341.50s/it]"
     ]
    },
    {
     "name": "stdout",
     "output_type": "stream",
     "text": [
      "Downloading File: ./InputData/OceanCurrent/Hycom/2012-06-01T00_2012-06-02T21.nc\n"
     ]
    },
    {
     "name": "stderr",
     "output_type": "stream",
     "text": [
      " 15%|█▌        | 51/332 [5:47:08<31:31:20, 403.84s/it]"
     ]
    },
    {
     "name": "stdout",
     "output_type": "stream",
     "text": [
      "Downloading File: ./InputData/OceanCurrent/Hycom/2012-06-03T00_2012-06-04T21.nc\n"
     ]
    },
    {
     "name": "stderr",
     "output_type": "stream",
     "text": [
      " 16%|█▌        | 52/332 [5:54:36<32:27:06, 417.24s/it]"
     ]
    },
    {
     "name": "stdout",
     "output_type": "stream",
     "text": [
      "Downloading File: ./InputData/OceanCurrent/Hycom/2012-06-05T00_2012-06-06T21.nc\n"
     ]
    },
    {
     "name": "stderr",
     "output_type": "stream",
     "text": [
      " 16%|█▌        | 53/332 [6:01:52<32:46:44, 422.95s/it]"
     ]
    },
    {
     "name": "stdout",
     "output_type": "stream",
     "text": [
      "Downloading File: ./InputData/OceanCurrent/Hycom/2012-06-07T00_2012-06-08T21.nc\n"
     ]
    },
    {
     "name": "stderr",
     "output_type": "stream",
     "text": [
      " 16%|█▋        | 54/332 [6:05:42<28:10:57, 364.95s/it]"
     ]
    },
    {
     "name": "stdout",
     "output_type": "stream",
     "text": [
      "Downloading File: ./InputData/OceanCurrent/Hycom/2012-06-09T00_2012-06-10T21.nc\n"
     ]
    },
    {
     "name": "stderr",
     "output_type": "stream",
     "text": [
      " 17%|█▋        | 55/332 [6:11:55<28:16:25, 367.46s/it]"
     ]
    },
    {
     "name": "stdout",
     "output_type": "stream",
     "text": [
      "Downloading File: ./InputData/OceanCurrent/Hycom/2012-06-11T00_2012-06-12T21.nc\n"
     ]
    },
    {
     "name": "stderr",
     "output_type": "stream",
     "text": [
      " 17%|█▋        | 56/332 [6:18:24<28:39:33, 373.82s/it]"
     ]
    },
    {
     "name": "stdout",
     "output_type": "stream",
     "text": [
      "Downloading File: ./InputData/OceanCurrent/Hycom/2012-06-13T00_2012-06-14T21.nc\n"
     ]
    },
    {
     "name": "stderr",
     "output_type": "stream",
     "text": [
      " 17%|█▋        | 57/332 [6:25:07<29:13:46, 382.64s/it]"
     ]
    },
    {
     "name": "stdout",
     "output_type": "stream",
     "text": [
      "Downloading File: ./InputData/OceanCurrent/Hycom/2012-06-15T00_2012-06-16T21.nc\n"
     ]
    },
    {
     "name": "stderr",
     "output_type": "stream",
     "text": [
      " 17%|█▋        | 58/332 [6:31:34<29:13:10, 383.91s/it]"
     ]
    },
    {
     "name": "stdout",
     "output_type": "stream",
     "text": [
      "Downloading File: ./InputData/OceanCurrent/Hycom/2012-06-17T00_2012-06-18T21.nc\n"
     ]
    },
    {
     "name": "stderr",
     "output_type": "stream",
     "text": [
      " 18%|█▊        | 59/332 [6:36:33<27:10:30, 358.35s/it]"
     ]
    },
    {
     "name": "stdout",
     "output_type": "stream",
     "text": [
      "Downloading File: ./InputData/OceanCurrent/Hycom/2012-06-19T00_2012-06-20T21.nc\n"
     ]
    },
    {
     "name": "stderr",
     "output_type": "stream",
     "text": [
      " 18%|█▊        | 60/332 [6:42:56<27:38:48, 365.91s/it]"
     ]
    },
    {
     "name": "stdout",
     "output_type": "stream",
     "text": [
      "Downloading File: ./InputData/OceanCurrent/Hycom/2012-06-21T00_2012-06-22T21.nc\n"
     ]
    },
    {
     "name": "stderr",
     "output_type": "stream",
     "text": [
      " 18%|█▊        | 61/332 [6:48:51<27:16:44, 362.38s/it]"
     ]
    },
    {
     "name": "stdout",
     "output_type": "stream",
     "text": [
      "Downloading File: ./InputData/OceanCurrent/Hycom/2012-06-23T00_2012-06-24T21.nc\n"
     ]
    },
    {
     "name": "stderr",
     "output_type": "stream",
     "text": [
      " 19%|█▊        | 62/332 [6:54:25<26:33:22, 354.08s/it]"
     ]
    },
    {
     "name": "stdout",
     "output_type": "stream",
     "text": [
      "Downloading File: ./InputData/OceanCurrent/Hycom/2012-06-25T00_2012-06-26T21.nc\n"
     ]
    },
    {
     "name": "stderr",
     "output_type": "stream",
     "text": [
      " 19%|█▉        | 63/332 [7:00:45<27:01:20, 361.64s/it]"
     ]
    },
    {
     "name": "stdout",
     "output_type": "stream",
     "text": [
      "Downloading File: ./InputData/OceanCurrent/Hycom/2012-06-27T00_2012-06-28T21.nc\n"
     ]
    },
    {
     "name": "stderr",
     "output_type": "stream",
     "text": [
      " 19%|█▉        | 64/332 [7:08:12<28:50:26, 387.41s/it]"
     ]
    },
    {
     "name": "stdout",
     "output_type": "stream",
     "text": [
      "Downloading File: ./InputData/OceanCurrent/Hycom/2012-06-29T00_2012-06-30T21.nc\n"
     ]
    },
    {
     "name": "stderr",
     "output_type": "stream",
     "text": [
      " 20%|█▉        | 65/332 [7:15:18<29:35:29, 398.99s/it]"
     ]
    },
    {
     "name": "stdout",
     "output_type": "stream",
     "text": [
      "Downloading File: ./InputData/OceanCurrent/Hycom/2012-07-01T00_2012-07-02T21.nc\n"
     ]
    },
    {
     "name": "stderr",
     "output_type": "stream",
     "text": [
      " 20%|█▉        | 66/332 [7:23:31<31:33:56, 427.21s/it]"
     ]
    },
    {
     "name": "stdout",
     "output_type": "stream",
     "text": [
      "Downloading File: ./InputData/OceanCurrent/Hycom/2012-07-03T00_2012-07-04T21.nc\n"
     ]
    },
    {
     "name": "stderr",
     "output_type": "stream",
     "text": [
      " 20%|██        | 67/332 [7:31:02<31:57:54, 434.24s/it]"
     ]
    },
    {
     "name": "stdout",
     "output_type": "stream",
     "text": [
      "Downloading File: ./InputData/OceanCurrent/Hycom/2012-07-05T00_2012-07-06T21.nc\n"
     ]
    },
    {
     "name": "stderr",
     "output_type": "stream",
     "text": [
      " 20%|██        | 68/332 [7:38:46<32:29:52, 443.15s/it]"
     ]
    },
    {
     "name": "stdout",
     "output_type": "stream",
     "text": [
      "Downloading File: ./InputData/OceanCurrent/Hycom/2012-07-07T00_2012-07-08T21.nc\n"
     ]
    },
    {
     "name": "stderr",
     "output_type": "stream",
     "text": [
      " 21%|██        | 69/332 [7:45:38<31:41:25, 433.79s/it]"
     ]
    },
    {
     "name": "stdout",
     "output_type": "stream",
     "text": [
      "Downloading File: ./InputData/OceanCurrent/Hycom/2012-07-09T00_2012-07-10T21.nc\n"
     ]
    },
    {
     "name": "stderr",
     "output_type": "stream",
     "text": [
      " 21%|██        | 70/332 [7:53:15<32:05:15, 440.90s/it]"
     ]
    },
    {
     "name": "stdout",
     "output_type": "stream",
     "text": [
      "Downloading File: ./InputData/OceanCurrent/Hycom/2012-07-11T00_2012-07-12T21.nc\n"
     ]
    },
    {
     "name": "stderr",
     "output_type": "stream",
     "text": [
      " 21%|██▏       | 71/332 [8:00:23<31:40:31, 436.90s/it]"
     ]
    },
    {
     "name": "stdout",
     "output_type": "stream",
     "text": [
      "Downloading File: ./InputData/OceanCurrent/Hycom/2012-07-13T00_2012-07-14T21.nc\n"
     ]
    },
    {
     "name": "stderr",
     "output_type": "stream",
     "text": [
      " 22%|██▏       | 72/332 [8:05:55<29:17:23, 405.55s/it]"
     ]
    },
    {
     "name": "stdout",
     "output_type": "stream",
     "text": [
      "Downloading File: ./InputData/OceanCurrent/Hycom/2012-07-15T00_2012-07-16T21.nc\n"
     ]
    },
    {
     "name": "stderr",
     "output_type": "stream",
     "text": [
      " 22%|██▏       | 73/332 [8:13:13<29:52:43, 415.30s/it]"
     ]
    },
    {
     "name": "stdout",
     "output_type": "stream",
     "text": [
      "Downloading File: ./InputData/OceanCurrent/Hycom/2012-07-17T00_2012-07-18T21.nc\n"
     ]
    },
    {
     "name": "stderr",
     "output_type": "stream",
     "text": [
      " 22%|██▏       | 74/332 [8:19:39<29:08:15, 406.57s/it]"
     ]
    },
    {
     "name": "stdout",
     "output_type": "stream",
     "text": [
      "Downloading File: ./InputData/OceanCurrent/Hycom/2012-07-19T00_2012-07-20T21.nc\n"
     ]
    },
    {
     "name": "stderr",
     "output_type": "stream",
     "text": [
      " 23%|██▎       | 75/332 [8:24:08<26:04:27, 365.24s/it]"
     ]
    },
    {
     "name": "stdout",
     "output_type": "stream",
     "text": [
      "Downloading File: ./InputData/OceanCurrent/Hycom/2012-07-21T00_2012-07-22T21.nc\n"
     ]
    },
    {
     "name": "stderr",
     "output_type": "stream",
     "text": [
      " 23%|██▎       | 76/332 [8:30:14<25:58:34, 365.29s/it]"
     ]
    },
    {
     "name": "stdout",
     "output_type": "stream",
     "text": [
      "Downloading File: ./InputData/OceanCurrent/Hycom/2012-07-23T00_2012-07-24T21.nc\n"
     ]
    },
    {
     "name": "stderr",
     "output_type": "stream",
     "text": [
      " 23%|██▎       | 77/332 [8:37:17<27:06:53, 382.80s/it]"
     ]
    },
    {
     "name": "stdout",
     "output_type": "stream",
     "text": [
      "Downloading File: ./InputData/OceanCurrent/Hycom/2012-07-25T00_2012-07-26T21.nc\n"
     ]
    },
    {
     "name": "stderr",
     "output_type": "stream",
     "text": [
      " 23%|██▎       | 78/332 [8:43:46<27:07:23, 384.42s/it]"
     ]
    },
    {
     "name": "stdout",
     "output_type": "stream",
     "text": [
      "Downloading File: ./InputData/OceanCurrent/Hycom/2012-07-27T00_2012-07-28T21.nc\n"
     ]
    },
    {
     "name": "stderr",
     "output_type": "stream",
     "text": [
      " 24%|██▍       | 79/332 [8:49:53<26:39:54, 379.42s/it]"
     ]
    },
    {
     "name": "stdout",
     "output_type": "stream",
     "text": [
      "Downloading File: ./InputData/OceanCurrent/Hycom/2012-07-29T00_2012-07-30T21.nc\n"
     ]
    },
    {
     "name": "stderr",
     "output_type": "stream",
     "text": [
      " 24%|██▍       | 80/332 [8:56:58<27:30:46, 393.04s/it]"
     ]
    },
    {
     "name": "stdout",
     "output_type": "stream",
     "text": [
      "Downloading File: ./InputData/OceanCurrent/Hycom/2012-07-31T00_2012-08-01T21.nc\n"
     ]
    },
    {
     "name": "stderr",
     "output_type": "stream",
     "text": [
      " 24%|██▍       | 81/332 [9:03:32<27:25:18, 393.30s/it]"
     ]
    },
    {
     "name": "stdout",
     "output_type": "stream",
     "text": [
      "Downloading File: ./InputData/OceanCurrent/Hycom/2012-08-02T00_2012-08-03T21.nc\n"
     ]
    },
    {
     "name": "stderr",
     "output_type": "stream",
     "text": [
      " 25%|██▍       | 82/332 [9:09:49<26:57:50, 388.28s/it]"
     ]
    },
    {
     "name": "stdout",
     "output_type": "stream",
     "text": [
      "Downloading File: ./InputData/OceanCurrent/Hycom/2012-08-04T00_2012-08-05T21.nc\n"
     ]
    },
    {
     "name": "stderr",
     "output_type": "stream",
     "text": [
      " 25%|██▌       | 83/332 [9:14:58<25:13:35, 364.72s/it]"
     ]
    },
    {
     "name": "stdout",
     "output_type": "stream",
     "text": [
      "Downloading File: ./InputData/OceanCurrent/Hycom/2012-08-06T00_2012-08-07T21.nc\n"
     ]
    },
    {
     "name": "stderr",
     "output_type": "stream",
     "text": [
      " 25%|██▌       | 84/332 [9:21:07<25:12:53, 366.02s/it]"
     ]
    },
    {
     "name": "stdout",
     "output_type": "stream",
     "text": [
      "Downloading File: ./InputData/OceanCurrent/Hycom/2012-08-08T00_2012-08-09T21.nc\n"
     ]
    },
    {
     "name": "stderr",
     "output_type": "stream",
     "text": [
      " 26%|██▌       | 85/332 [9:26:50<24:38:17, 359.10s/it]"
     ]
    },
    {
     "name": "stdout",
     "output_type": "stream",
     "text": [
      "Downloading File: ./InputData/OceanCurrent/Hycom/2012-08-10T00_2012-08-11T21.nc\n"
     ]
    },
    {
     "name": "stderr",
     "output_type": "stream",
     "text": [
      " 26%|██▌       | 86/332 [9:30:24<21:33:45, 315.55s/it]"
     ]
    },
    {
     "name": "stdout",
     "output_type": "stream",
     "text": [
      "Downloading File: ./InputData/OceanCurrent/Hycom/2012-08-12T00_2012-08-13T21.nc\n"
     ]
    },
    {
     "name": "stderr",
     "output_type": "stream",
     "text": [
      " 26%|██▌       | 87/332 [9:34:55<20:34:02, 302.22s/it]"
     ]
    },
    {
     "name": "stdout",
     "output_type": "stream",
     "text": [
      "Downloading File: ./InputData/OceanCurrent/Hycom/2012-08-14T00_2012-08-15T21.nc\n"
     ]
    },
    {
     "name": "stderr",
     "output_type": "stream",
     "text": [
      " 27%|██▋       | 88/332 [9:40:07<20:41:05, 305.19s/it]"
     ]
    },
    {
     "name": "stdout",
     "output_type": "stream",
     "text": [
      "Downloading File: ./InputData/OceanCurrent/Hycom/2012-08-16T00_2012-08-17T21.nc\n"
     ]
    },
    {
     "name": "stderr",
     "output_type": "stream",
     "text": [
      " 27%|██▋       | 89/332 [9:44:09<19:19:08, 286.21s/it]"
     ]
    },
    {
     "name": "stdout",
     "output_type": "stream",
     "text": [
      "Downloading File: ./InputData/OceanCurrent/Hycom/2012-08-18T00_2012-08-19T21.nc\n"
     ]
    },
    {
     "name": "stderr",
     "output_type": "stream",
     "text": [
      " 27%|██▋       | 90/332 [9:49:02<19:22:27, 288.21s/it]"
     ]
    },
    {
     "name": "stdout",
     "output_type": "stream",
     "text": [
      "Downloading File: ./InputData/OceanCurrent/Hycom/2012-08-20T00_2012-08-21T21.nc\n"
     ]
    },
    {
     "name": "stderr",
     "output_type": "stream",
     "text": [
      " 27%|██▋       | 91/332 [9:54:19<19:52:20, 296.85s/it]"
     ]
    },
    {
     "name": "stdout",
     "output_type": "stream",
     "text": [
      "Downloading File: ./InputData/OceanCurrent/Hycom/2012-08-22T00_2012-08-23T21.nc\n"
     ]
    },
    {
     "name": "stderr",
     "output_type": "stream",
     "text": [
      " 28%|██▊       | 92/332 [9:58:34<18:56:25, 284.11s/it]"
     ]
    },
    {
     "name": "stdout",
     "output_type": "stream",
     "text": [
      "Downloading File: ./InputData/OceanCurrent/Hycom/2012-08-24T00_2012-08-25T21.nc\n"
     ]
    },
    {
     "name": "stderr",
     "output_type": "stream",
     "text": [
      " 28%|██▊       | 93/332 [10:03:30<19:06:53, 287.92s/it]"
     ]
    },
    {
     "name": "stdout",
     "output_type": "stream",
     "text": [
      "Downloading File: ./InputData/OceanCurrent/Hycom/2012-08-26T00_2012-08-27T21.nc\n"
     ]
    },
    {
     "name": "stderr",
     "output_type": "stream",
     "text": [
      " 28%|██▊       | 94/332 [10:05:16<15:25:19, 233.28s/it]"
     ]
    },
    {
     "name": "stdout",
     "output_type": "stream",
     "text": [
      "Downloading File: ./InputData/OceanCurrent/Hycom/2012-08-28T00_2012-08-29T21.nc\n"
     ]
    },
    {
     "name": "stderr",
     "output_type": "stream",
     "text": [
      " 29%|██▊       | 95/332 [10:09:49<16:07:52, 245.03s/it]"
     ]
    },
    {
     "name": "stdout",
     "output_type": "stream",
     "text": [
      "Downloading File: ./InputData/OceanCurrent/Hycom/2012-08-30T00_2012-08-31T21.nc\n"
     ]
    },
    {
     "name": "stderr",
     "output_type": "stream",
     "text": [
      " 29%|██▉       | 96/332 [10:15:39<18:08:19, 276.69s/it]"
     ]
    },
    {
     "name": "stdout",
     "output_type": "stream",
     "text": [
      "Downloading File: ./InputData/OceanCurrent/Hycom/2012-09-01T00_2012-09-02T21.nc\n"
     ]
    },
    {
     "name": "stderr",
     "output_type": "stream",
     "text": [
      " 29%|██▉       | 97/332 [10:21:59<20:04:12, 307.46s/it]"
     ]
    },
    {
     "name": "stdout",
     "output_type": "stream",
     "text": [
      "Downloading File: ./InputData/OceanCurrent/Hycom/2012-09-03T00_2012-09-04T21.nc\n"
     ]
    },
    {
     "name": "stderr",
     "output_type": "stream",
     "text": [
      " 30%|██▉       | 98/332 [10:27:48<20:47:51, 319.97s/it]"
     ]
    },
    {
     "name": "stdout",
     "output_type": "stream",
     "text": [
      "Downloading File: ./InputData/OceanCurrent/Hycom/2012-09-05T00_2012-09-06T21.nc\n"
     ]
    },
    {
     "name": "stderr",
     "output_type": "stream",
     "text": [
      " 30%|██▉       | 99/332 [10:34:00<21:44:03, 335.81s/it]"
     ]
    },
    {
     "name": "stdout",
     "output_type": "stream",
     "text": [
      "Downloading File: ./InputData/OceanCurrent/Hycom/2012-09-07T00_2012-09-08T21.nc\n"
     ]
    },
    {
     "name": "stderr",
     "output_type": "stream",
     "text": [
      " 30%|███       | 100/332 [10:40:38<22:50:35, 354.46s/it]"
     ]
    },
    {
     "name": "stdout",
     "output_type": "stream",
     "text": [
      "Downloading File: ./InputData/OceanCurrent/Hycom/2012-09-09T00_2012-09-10T21.nc\n"
     ]
    },
    {
     "name": "stderr",
     "output_type": "stream",
     "text": [
      " 30%|███       | 101/332 [10:47:19<23:37:39, 368.22s/it]"
     ]
    },
    {
     "name": "stdout",
     "output_type": "stream",
     "text": [
      "Downloading File: ./InputData/OceanCurrent/Hycom/2012-09-11T00_2012-09-12T21.nc\n"
     ]
    },
    {
     "name": "stderr",
     "output_type": "stream",
     "text": [
      " 31%|███       | 102/332 [10:53:35<23:40:48, 370.64s/it]"
     ]
    },
    {
     "name": "stdout",
     "output_type": "stream",
     "text": [
      "Downloading File: ./InputData/OceanCurrent/Hycom/2012-09-13T00_2012-09-14T21.nc\n"
     ]
    },
    {
     "name": "stderr",
     "output_type": "stream",
     "text": [
      " 31%|███       | 103/332 [10:57:04<20:29:34, 322.16s/it]"
     ]
    },
    {
     "name": "stdout",
     "output_type": "stream",
     "text": [
      "Downloading File: ./InputData/OceanCurrent/Hycom/2012-09-15T00_2012-09-16T21.nc\n"
     ]
    },
    {
     "name": "stderr",
     "output_type": "stream",
     "text": [
      " 31%|███▏      | 104/332 [11:03:09<21:12:35, 334.89s/it]"
     ]
    },
    {
     "name": "stdout",
     "output_type": "stream",
     "text": [
      "Downloading File: ./InputData/OceanCurrent/Hycom/2012-09-17T00_2012-09-18T21.nc\n"
     ]
    },
    {
     "name": "stderr",
     "output_type": "stream",
     "text": [
      " 32%|███▏      | 105/332 [11:10:11<22:46:45, 361.26s/it]"
     ]
    },
    {
     "name": "stdout",
     "output_type": "stream",
     "text": [
      "Downloading File: ./InputData/OceanCurrent/Hycom/2012-09-19T00_2012-09-20T21.nc\n"
     ]
    },
    {
     "name": "stderr",
     "output_type": "stream",
     "text": [
      " 32%|███▏      | 106/332 [11:18:51<25:39:19, 408.67s/it]"
     ]
    },
    {
     "name": "stdout",
     "output_type": "stream",
     "text": [
      "Downloading File: ./InputData/OceanCurrent/Hycom/2012-09-21T00_2012-09-22T21.nc\n"
     ]
    },
    {
     "name": "stderr",
     "output_type": "stream",
     "text": [
      " 32%|███▏      | 107/332 [11:26:40<26:40:11, 426.72s/it]"
     ]
    },
    {
     "name": "stdout",
     "output_type": "stream",
     "text": [
      "Downloading File: ./InputData/OceanCurrent/Hycom/2012-09-23T00_2012-09-24T21.nc\n"
     ]
    },
    {
     "name": "stderr",
     "output_type": "stream",
     "text": [
      " 33%|███▎      | 108/332 [11:35:01<27:57:07, 449.23s/it]"
     ]
    },
    {
     "name": "stdout",
     "output_type": "stream",
     "text": [
      "Downloading File: ./InputData/OceanCurrent/Hycom/2012-09-25T00_2012-09-26T21.nc\n"
     ]
    },
    {
     "name": "stderr",
     "output_type": "stream",
     "text": [
      " 33%|███▎      | 109/332 [11:43:24<28:49:40, 465.39s/it]"
     ]
    },
    {
     "name": "stdout",
     "output_type": "stream",
     "text": [
      "Downloading File: ./InputData/OceanCurrent/Hycom/2012-09-27T00_2012-09-28T21.nc\n"
     ]
    },
    {
     "name": "stderr",
     "output_type": "stream",
     "text": [
      " 33%|███▎      | 110/332 [11:51:37<29:12:21, 473.61s/it]"
     ]
    },
    {
     "name": "stdout",
     "output_type": "stream",
     "text": [
      "Downloading File: ./InputData/OceanCurrent/Hycom/2012-09-29T00_2012-09-30T21.nc\n"
     ]
    },
    {
     "name": "stderr",
     "output_type": "stream",
     "text": [
      " 33%|███▎      | 111/332 [11:59:17<28:49:14, 469.48s/it]"
     ]
    },
    {
     "name": "stdout",
     "output_type": "stream",
     "text": [
      "Downloading File: ./InputData/OceanCurrent/Hycom/2012-10-01T00_2012-10-02T21.nc\n"
     ]
    },
    {
     "name": "stderr",
     "output_type": "stream",
     "text": [
      " 34%|███▎      | 112/332 [12:07:06<28:40:30, 469.23s/it]"
     ]
    },
    {
     "name": "stdout",
     "output_type": "stream",
     "text": [
      "Downloading File: ./InputData/OceanCurrent/Hycom/2012-10-03T00_2012-10-04T21.nc\n"
     ]
    },
    {
     "name": "stderr",
     "output_type": "stream",
     "text": [
      " 34%|███▍      | 113/332 [12:13:56<27:27:56, 451.49s/it]"
     ]
    },
    {
     "name": "stdout",
     "output_type": "stream",
     "text": [
      "Downloading File: ./InputData/OceanCurrent/Hycom/2012-10-05T00_2012-10-06T21.nc\n"
     ]
    },
    {
     "name": "stderr",
     "output_type": "stream",
     "text": [
      " 34%|███▍      | 114/332 [12:21:21<27:13:42, 449.64s/it]"
     ]
    },
    {
     "name": "stdout",
     "output_type": "stream",
     "text": [
      "Downloading File: ./InputData/OceanCurrent/Hycom/2012-10-07T00_2012-10-08T21.nc\n"
     ]
    },
    {
     "name": "stderr",
     "output_type": "stream",
     "text": [
      " 35%|███▍      | 115/332 [12:27:29<25:37:10, 425.03s/it]"
     ]
    },
    {
     "name": "stdout",
     "output_type": "stream",
     "text": [
      "Downloading File: ./InputData/OceanCurrent/Hycom/2012-10-09T00_2012-10-10T21.nc\n"
     ]
    },
    {
     "name": "stderr",
     "output_type": "stream",
     "text": [
      " 35%|███▍      | 116/332 [12:34:18<25:13:18, 420.36s/it]"
     ]
    },
    {
     "name": "stdout",
     "output_type": "stream",
     "text": [
      "Downloading File: ./InputData/OceanCurrent/Hycom/2012-10-11T00_2012-10-12T21.nc\n"
     ]
    },
    {
     "name": "stderr",
     "output_type": "stream",
     "text": [
      " 35%|███▌      | 117/332 [12:40:39<24:24:02, 408.57s/it]"
     ]
    },
    {
     "name": "stdout",
     "output_type": "stream",
     "text": [
      "Downloading File: ./InputData/OceanCurrent/Hycom/2012-10-13T00_2012-10-14T21.nc\n"
     ]
    },
    {
     "name": "stderr",
     "output_type": "stream",
     "text": [
      " 36%|███▌      | 118/332 [12:47:01<23:48:52, 400.62s/it]"
     ]
    },
    {
     "name": "stdout",
     "output_type": "stream",
     "text": [
      "Downloading File: ./InputData/OceanCurrent/Hycom/2012-10-15T00_2012-10-16T21.nc\n"
     ]
    },
    {
     "name": "stderr",
     "output_type": "stream",
     "text": [
      " 36%|███▌      | 119/332 [12:53:29<23:28:53, 396.87s/it]"
     ]
    },
    {
     "name": "stdout",
     "output_type": "stream",
     "text": [
      "Downloading File: ./InputData/OceanCurrent/Hycom/2012-10-17T00_2012-10-18T21.nc\n"
     ]
    },
    {
     "name": "stderr",
     "output_type": "stream",
     "text": [
      " 36%|███▌      | 120/332 [12:59:51<23:06:10, 392.31s/it]"
     ]
    },
    {
     "name": "stdout",
     "output_type": "stream",
     "text": [
      "Downloading File: ./InputData/OceanCurrent/Hycom/2012-10-19T00_2012-10-20T21.nc\n"
     ]
    },
    {
     "name": "stderr",
     "output_type": "stream",
     "text": [
      " 36%|███▋      | 121/332 [13:06:23<22:59:08, 392.17s/it]"
     ]
    },
    {
     "name": "stdout",
     "output_type": "stream",
     "text": [
      "Downloading File: ./InputData/OceanCurrent/Hycom/2012-10-21T00_2012-10-22T21.nc\n"
     ]
    },
    {
     "name": "stderr",
     "output_type": "stream",
     "text": [
      " 37%|███▋      | 122/332 [13:13:06<23:04:30, 395.57s/it]"
     ]
    },
    {
     "name": "stdout",
     "output_type": "stream",
     "text": [
      "Downloading File: ./InputData/OceanCurrent/Hycom/2012-10-23T00_2012-10-24T21.nc\n"
     ]
    },
    {
     "name": "stderr",
     "output_type": "stream",
     "text": [
      " 37%|███▋      | 123/332 [13:19:31<22:46:01, 392.16s/it]"
     ]
    },
    {
     "name": "stdout",
     "output_type": "stream",
     "text": [
      "Downloading File: ./InputData/OceanCurrent/Hycom/2012-10-25T00_2012-10-26T21.nc\n"
     ]
    },
    {
     "name": "stderr",
     "output_type": "stream",
     "text": [
      " 37%|███▋      | 124/332 [13:26:34<23:12:21, 401.64s/it]"
     ]
    },
    {
     "name": "stdout",
     "output_type": "stream",
     "text": [
      "Downloading File: ./InputData/OceanCurrent/Hycom/2012-10-27T00_2012-10-28T21.nc\n"
     ]
    },
    {
     "name": "stderr",
     "output_type": "stream",
     "text": [
      " 38%|███▊      | 125/332 [13:32:47<22:35:44, 392.97s/it]"
     ]
    },
    {
     "name": "stdout",
     "output_type": "stream",
     "text": [
      "Downloading File: ./InputData/OceanCurrent/Hycom/2012-10-29T00_2012-10-30T21.nc\n"
     ]
    },
    {
     "name": "stderr",
     "output_type": "stream",
     "text": [
      " 38%|███▊      | 126/332 [13:38:50<21:58:38, 384.07s/it]"
     ]
    },
    {
     "name": "stdout",
     "output_type": "stream",
     "text": [
      "Downloading File: ./InputData/OceanCurrent/Hycom/2012-10-31T00_2012-11-01T21.nc\n"
     ]
    },
    {
     "name": "stderr",
     "output_type": "stream",
     "text": [
      " 38%|███▊      | 127/332 [13:45:51<22:29:24, 394.95s/it]"
     ]
    },
    {
     "name": "stdout",
     "output_type": "stream",
     "text": [
      "Downloading File: ./InputData/OceanCurrent/Hycom/2012-11-02T00_2012-11-03T21.nc\n"
     ]
    },
    {
     "name": "stderr",
     "output_type": "stream",
     "text": [
      " 39%|███▊      | 128/332 [13:52:45<22:41:57, 400.58s/it]"
     ]
    },
    {
     "name": "stdout",
     "output_type": "stream",
     "text": [
      "Downloading File: ./InputData/OceanCurrent/Hycom/2012-11-04T00_2012-11-05T21.nc\n"
     ]
    },
    {
     "name": "stderr",
     "output_type": "stream",
     "text": [
      " 39%|███▉      | 129/332 [13:56:42<19:49:18, 351.52s/it]"
     ]
    },
    {
     "name": "stdout",
     "output_type": "stream",
     "text": [
      "Downloading File: ./InputData/OceanCurrent/Hycom/2012-11-06T00_2012-11-07T21.nc\n"
     ]
    },
    {
     "name": "stderr",
     "output_type": "stream",
     "text": [
      " 39%|███▉      | 130/332 [14:01:54<19:04:03, 339.82s/it]"
     ]
    },
    {
     "name": "stdout",
     "output_type": "stream",
     "text": [
      "Downloading File: ./InputData/OceanCurrent/Hycom/2012-11-08T00_2012-11-09T21.nc\n"
     ]
    },
    {
     "name": "stderr",
     "output_type": "stream",
     "text": [
      " 39%|███▉      | 131/332 [14:07:30<18:54:47, 338.74s/it]"
     ]
    },
    {
     "name": "stdout",
     "output_type": "stream",
     "text": [
      "Downloading File: ./InputData/OceanCurrent/Hycom/2012-11-10T00_2012-11-11T21.nc\n"
     ]
    },
    {
     "name": "stderr",
     "output_type": "stream",
     "text": [
      " 40%|███▉      | 132/332 [14:14:08<19:48:19, 356.50s/it]"
     ]
    },
    {
     "name": "stdout",
     "output_type": "stream",
     "text": [
      "Downloading File: ./InputData/OceanCurrent/Hycom/2012-11-12T00_2012-11-13T21.nc\n"
     ]
    },
    {
     "name": "stderr",
     "output_type": "stream",
     "text": [
      " 40%|████      | 133/332 [14:20:14<19:51:53, 359.36s/it]"
     ]
    },
    {
     "name": "stdout",
     "output_type": "stream",
     "text": [
      "Downloading File: ./InputData/OceanCurrent/Hycom/2012-11-14T00_2012-11-15T21.nc\n"
     ]
    },
    {
     "name": "stderr",
     "output_type": "stream",
     "text": [
      " 40%|████      | 134/332 [14:27:41<21:12:37, 385.65s/it]"
     ]
    },
    {
     "name": "stdout",
     "output_type": "stream",
     "text": [
      "Downloading File: ./InputData/OceanCurrent/Hycom/2012-11-16T00_2012-11-17T21.nc\n"
     ]
    },
    {
     "name": "stderr",
     "output_type": "stream",
     "text": [
      " 41%|████      | 135/332 [14:34:48<21:46:30, 397.92s/it]"
     ]
    },
    {
     "name": "stdout",
     "output_type": "stream",
     "text": [
      "Downloading File: ./InputData/OceanCurrent/Hycom/2012-11-18T00_2012-11-19T21.nc\n"
     ]
    },
    {
     "name": "stderr",
     "output_type": "stream",
     "text": [
      " 41%|████      | 136/332 [14:40:53<21:07:53, 388.13s/it]"
     ]
    },
    {
     "name": "stdout",
     "output_type": "stream",
     "text": [
      "Downloading File: ./InputData/OceanCurrent/Hycom/2012-11-20T00_2012-11-21T21.nc\n"
     ]
    },
    {
     "name": "stderr",
     "output_type": "stream",
     "text": [
      " 41%|████▏     | 137/332 [14:44:58<18:42:11, 345.29s/it]"
     ]
    },
    {
     "name": "stdout",
     "output_type": "stream",
     "text": [
      "Downloading File: ./InputData/OceanCurrent/Hycom/2012-11-22T00_2012-11-23T21.nc\n"
     ]
    },
    {
     "name": "stderr",
     "output_type": "stream",
     "text": [
      " 42%|████▏     | 138/332 [14:52:57<20:46:07, 385.40s/it]"
     ]
    },
    {
     "name": "stdout",
     "output_type": "stream",
     "text": [
      "Downloading File: ./InputData/OceanCurrent/Hycom/2012-11-24T00_2012-11-25T21.nc\n"
     ]
    },
    {
     "name": "stderr",
     "output_type": "stream",
     "text": [
      " 42%|████▏     | 139/332 [15:00:38<21:51:47, 407.81s/it]"
     ]
    },
    {
     "name": "stdout",
     "output_type": "stream",
     "text": [
      "Downloading File: ./InputData/OceanCurrent/Hycom/2012-11-26T00_2012-11-27T21.nc\n"
     ]
    },
    {
     "name": "stderr",
     "output_type": "stream",
     "text": [
      " 42%|████▏     | 140/332 [15:06:27<20:49:02, 390.33s/it]"
     ]
    },
    {
     "name": "stdout",
     "output_type": "stream",
     "text": [
      "Downloading File: ./InputData/OceanCurrent/Hycom/2012-11-28T00_2012-11-29T21.nc\n"
     ]
    },
    {
     "name": "stderr",
     "output_type": "stream",
     "text": [
      " 42%|████▏     | 141/332 [15:11:07<18:57:07, 357.21s/it]"
     ]
    },
    {
     "name": "stdout",
     "output_type": "stream",
     "text": [
      "Downloading File: ./InputData/OceanCurrent/Hycom/2012-11-30T00_2012-12-01T21.nc\n"
     ]
    },
    {
     "name": "stderr",
     "output_type": "stream",
     "text": [
      " 43%|████▎     | 142/332 [15:13:19<15:17:16, 289.66s/it]"
     ]
    },
    {
     "name": "stdout",
     "output_type": "stream",
     "text": [
      "Downloading File: ./InputData/OceanCurrent/Hycom/2012-12-02T00_2012-12-03T21.nc\n"
     ]
    },
    {
     "name": "stderr",
     "output_type": "stream",
     "text": [
      " 43%|████▎     | 143/332 [15:15:00<12:14:14, 233.09s/it]"
     ]
    },
    {
     "name": "stdout",
     "output_type": "stream",
     "text": [
      "Downloading File: ./InputData/OceanCurrent/Hycom/2012-12-04T00_2012-12-05T21.nc\n"
     ]
    },
    {
     "name": "stderr",
     "output_type": "stream",
     "text": [
      " 43%|████▎     | 144/332 [15:19:04<12:20:49, 236.44s/it]"
     ]
    },
    {
     "name": "stdout",
     "output_type": "stream",
     "text": [
      "Downloading File: ./InputData/OceanCurrent/Hycom/2012-12-06T00_2012-12-07T21.nc\n"
     ]
    },
    {
     "name": "stderr",
     "output_type": "stream",
     "text": [
      " 44%|████▎     | 145/332 [15:36:36<24:59:17, 481.05s/it]"
     ]
    },
    {
     "name": "stdout",
     "output_type": "stream",
     "text": [
      "Downloading File: ./InputData/OceanCurrent/Hycom/2012-12-08T00_2012-12-09T21.nc\n"
     ]
    },
    {
     "name": "stderr",
     "output_type": "stream",
     "text": [
      " 44%|████▍     | 146/332 [15:44:59<25:11:35, 487.61s/it]"
     ]
    },
    {
     "name": "stdout",
     "output_type": "stream",
     "text": [
      "Downloading File: ./InputData/OceanCurrent/Hycom/2012-12-10T00_2012-12-11T21.nc\n"
     ]
    },
    {
     "name": "stderr",
     "output_type": "stream",
     "text": [
      " 44%|████▍     | 147/332 [15:55:09<26:56:27, 524.26s/it]"
     ]
    },
    {
     "name": "stdout",
     "output_type": "stream",
     "text": [
      "Downloading File: ./InputData/OceanCurrent/Hycom/2012-12-12T00_2012-12-13T21.nc\n"
     ]
    },
    {
     "name": "stderr",
     "output_type": "stream",
     "text": [
      " 45%|████▍     | 148/332 [16:02:24<25:25:45, 497.53s/it]"
     ]
    },
    {
     "name": "stdout",
     "output_type": "stream",
     "text": [
      "Downloading File: ./InputData/OceanCurrent/Hycom/2012-12-14T00_2012-12-15T21.nc\n"
     ]
    },
    {
     "name": "stderr",
     "output_type": "stream",
     "text": [
      " 45%|████▍     | 149/332 [16:14:28<28:44:39, 565.46s/it]"
     ]
    },
    {
     "name": "stdout",
     "output_type": "stream",
     "text": [
      "Downloading File: ./InputData/OceanCurrent/Hycom/2012-12-16T00_2012-12-17T21.nc\n"
     ]
    },
    {
     "name": "stderr",
     "output_type": "stream",
     "text": [
      " 45%|████▌     | 150/332 [16:21:27<26:22:06, 521.57s/it]"
     ]
    },
    {
     "name": "stdout",
     "output_type": "stream",
     "text": [
      "Downloading File: ./InputData/OceanCurrent/Hycom/2012-12-18T00_2012-12-19T21.nc\n"
     ]
    },
    {
     "name": "stderr",
     "output_type": "stream",
     "text": [
      " 45%|████▌     | 151/332 [16:31:16<27:14:31, 541.83s/it]"
     ]
    },
    {
     "name": "stdout",
     "output_type": "stream",
     "text": [
      "Downloading File: ./InputData/OceanCurrent/Hycom/2012-12-20T00_2012-12-21T21.nc\n"
     ]
    },
    {
     "name": "stderr",
     "output_type": "stream",
     "text": [
      " 46%|████▌     | 152/332 [16:37:16<24:21:54, 487.30s/it]"
     ]
    },
    {
     "name": "stdout",
     "output_type": "stream",
     "text": [
      "Downloading File: ./InputData/OceanCurrent/Hycom/2012-12-22T00_2012-12-23T21.nc\n"
     ]
    },
    {
     "name": "stderr",
     "output_type": "stream",
     "text": [
      " 46%|████▌     | 153/332 [16:44:25<23:21:29, 469.77s/it]"
     ]
    },
    {
     "name": "stdout",
     "output_type": "stream",
     "text": [
      "Downloading File: ./InputData/OceanCurrent/Hycom/2012-12-24T00_2012-12-25T21.nc\n"
     ]
    },
    {
     "name": "stderr",
     "output_type": "stream",
     "text": [
      " 46%|████▋     | 154/332 [16:54:37<25:19:58, 512.35s/it]"
     ]
    },
    {
     "name": "stdout",
     "output_type": "stream",
     "text": [
      "Downloading File: ./InputData/OceanCurrent/Hycom/2012-12-26T00_2012-12-27T21.nc\n"
     ]
    },
    {
     "name": "stderr",
     "output_type": "stream",
     "text": [
      " 47%|████▋     | 155/332 [17:07:25<28:57:55, 589.13s/it]"
     ]
    },
    {
     "name": "stdout",
     "output_type": "stream",
     "text": [
      "Downloading File: ./InputData/OceanCurrent/Hycom/2012-12-28T00_2012-12-29T21.nc\n"
     ]
    },
    {
     "name": "stderr",
     "output_type": "stream",
     "text": [
      " 47%|████▋     | 156/332 [17:13:33<25:33:04, 522.64s/it]"
     ]
    },
    {
     "name": "stdout",
     "output_type": "stream",
     "text": [
      "Downloading File: ./InputData/OceanCurrent/Hycom/2012-12-30T00_2012-12-31T21.nc\n"
     ]
    },
    {
     "name": "stderr",
     "output_type": "stream",
     "text": [
      " 47%|████▋     | 157/332 [17:20:22<23:45:27, 488.73s/it]"
     ]
    },
    {
     "name": "stdout",
     "output_type": "stream",
     "text": [
      "Downloading File: ./InputData/OceanCurrent/Hycom/2013-01-01T00_2013-01-02T21.nc\n"
     ]
    },
    {
     "name": "stderr",
     "output_type": "stream",
     "text": [
      " 48%|████▊     | 158/332 [17:41:52<35:14:27, 729.12s/it]"
     ]
    },
    {
     "name": "stdout",
     "output_type": "stream",
     "text": [
      "Downloading File: ./InputData/OceanCurrent/Hycom/2013-01-03T00_2013-01-04T21.nc\n"
     ]
    },
    {
     "name": "stderr",
     "output_type": "stream",
     "text": [
      " 48%|████▊     | 159/332 [17:50:52<32:18:28, 672.30s/it]"
     ]
    },
    {
     "name": "stdout",
     "output_type": "stream",
     "text": [
      "Downloading File: ./InputData/OceanCurrent/Hycom/2013-01-05T00_2013-01-06T21.nc\n"
     ]
    },
    {
     "name": "stderr",
     "output_type": "stream",
     "text": [
      " 48%|████▊     | 160/332 [17:57:42<28:21:57, 593.71s/it]"
     ]
    },
    {
     "name": "stdout",
     "output_type": "stream",
     "text": [
      "Downloading File: ./InputData/OceanCurrent/Hycom/2013-01-07T00_2013-01-08T21.nc\n"
     ]
    },
    {
     "name": "stderr",
     "output_type": "stream",
     "text": [
      " 48%|████▊     | 161/332 [18:03:29<24:40:59, 519.65s/it]"
     ]
    },
    {
     "name": "stdout",
     "output_type": "stream",
     "text": [
      "Downloading File: ./InputData/OceanCurrent/Hycom/2013-01-09T00_2013-01-10T21.nc\n"
     ]
    },
    {
     "name": "stderr",
     "output_type": "stream",
     "text": [
      " 49%|████▉     | 162/332 [18:07:22<20:28:50, 433.71s/it]"
     ]
    },
    {
     "name": "stdout",
     "output_type": "stream",
     "text": [
      "Downloading File: ./InputData/OceanCurrent/Hycom/2013-01-11T00_2013-01-12T21.nc\n"
     ]
    },
    {
     "name": "stderr",
     "output_type": "stream",
     "text": [
      " 49%|████▉     | 163/332 [18:17:02<22:25:13, 477.59s/it]"
     ]
    },
    {
     "name": "stdout",
     "output_type": "stream",
     "text": [
      "Downloading File: ./InputData/OceanCurrent/Hycom/2013-01-13T00_2013-01-14T21.nc\n"
     ]
    },
    {
     "name": "stderr",
     "output_type": "stream",
     "text": [
      " 49%|████▉     | 164/332 [18:24:36<21:56:44, 470.27s/it]"
     ]
    },
    {
     "name": "stdout",
     "output_type": "stream",
     "text": [
      "Downloading File: ./InputData/OceanCurrent/Hycom/2013-01-15T00_2013-01-16T21.nc\n"
     ]
    },
    {
     "name": "stderr",
     "output_type": "stream",
     "text": [
      " 50%|████▉     | 165/332 [18:31:25<20:58:12, 452.05s/it]"
     ]
    },
    {
     "name": "stdout",
     "output_type": "stream",
     "text": [
      "Downloading File: ./InputData/OceanCurrent/Hycom/2013-01-17T00_2013-01-18T21.nc\n"
     ]
    },
    {
     "name": "stderr",
     "output_type": "stream",
     "text": [
      " 50%|█████     | 166/332 [18:36:06<18:28:40, 400.73s/it]"
     ]
    },
    {
     "name": "stdout",
     "output_type": "stream",
     "text": [
      "Downloading File: ./InputData/OceanCurrent/Hycom/2013-01-19T00_2013-01-20T21.nc\n"
     ]
    },
    {
     "name": "stderr",
     "output_type": "stream",
     "text": [
      " 50%|█████     | 167/332 [18:42:28<18:06:50, 395.21s/it]"
     ]
    },
    {
     "name": "stdout",
     "output_type": "stream",
     "text": [
      "Downloading File: ./InputData/OceanCurrent/Hycom/2013-01-21T00_2013-01-22T21.nc\n"
     ]
    },
    {
     "name": "stderr",
     "output_type": "stream",
     "text": [
      " 51%|█████     | 168/332 [18:47:53<17:02:30, 374.09s/it]"
     ]
    },
    {
     "name": "stdout",
     "output_type": "stream",
     "text": [
      "Downloading File: ./InputData/OceanCurrent/Hycom/2013-01-23T00_2013-01-24T21.nc\n"
     ]
    },
    {
     "name": "stderr",
     "output_type": "stream",
     "text": [
      " 51%|█████     | 169/332 [18:52:42<15:46:27, 348.39s/it]"
     ]
    },
    {
     "name": "stdout",
     "output_type": "stream",
     "text": [
      "Downloading File: ./InputData/OceanCurrent/Hycom/2013-01-25T00_2013-01-26T21.nc\n"
     ]
    },
    {
     "name": "stderr",
     "output_type": "stream",
     "text": [
      " 51%|█████     | 170/332 [18:54:57<12:47:49, 284.38s/it]"
     ]
    },
    {
     "name": "stdout",
     "output_type": "stream",
     "text": [
      "Downloading File: ./InputData/OceanCurrent/Hycom/2013-01-27T00_2013-01-28T21.nc\n"
     ]
    },
    {
     "name": "stderr",
     "output_type": "stream",
     "text": [
      " 52%|█████▏    | 171/332 [18:58:50<12:01:57, 269.05s/it]"
     ]
    },
    {
     "name": "stdout",
     "output_type": "stream",
     "text": [
      "Downloading File: ./InputData/OceanCurrent/Hycom/2013-01-29T00_2013-01-30T21.nc\n"
     ]
    },
    {
     "name": "stderr",
     "output_type": "stream",
     "text": [
      " 52%|█████▏    | 172/332 [19:01:41<10:39:10, 239.69s/it]"
     ]
    },
    {
     "name": "stdout",
     "output_type": "stream",
     "text": [
      "Downloading File: ./InputData/OceanCurrent/Hycom/2013-01-31T00_2013-02-01T21.nc\n"
     ]
    },
    {
     "name": "stderr",
     "output_type": "stream",
     "text": [
      " 52%|█████▏    | 173/332 [19:19:14<21:21:36, 483.63s/it]"
     ]
    },
    {
     "name": "stdout",
     "output_type": "stream",
     "text": [
      "Downloading File: ./InputData/OceanCurrent/Hycom/2013-02-02T00_2013-02-03T21.nc\n"
     ]
    }
   ],
   "source": [
    "#env py37\n",
    "import numpy as np\n",
    "from datetime import datetime, timedelta\n",
    "import sys\n",
    "import numpy as np\n",
    "import datetime as dt\n",
    "from dateutil.relativedelta import relativedelta \n",
    "import os\n",
    "import urllib.request\n",
    "from multiprocessing import Pool\n",
    "from tqdm import tqdm  \n",
    "\n",
    "sys.path.append('./Tools')\n",
    "from DownloadHYCOM_OC import DownloadHYCOM_MultiProcess, ListHYCOM_MultiProcess\n",
    "\n",
    "LatMinMax=(33.3, 37.2)\n",
    "LongMinMax=(-78.7, -74.3)\n",
    "\n",
    "StartDTime=datetime(2007, 1, 1, 0, 0, 0) #1994-01-01 to 2015-12-31\n",
    "EndDTime  =datetime(2013, 12, 31, 23, 0, 0)\n",
    "\n",
    "PoolSize=1\n",
    "\n",
    "# for repeat in range(20): #Double check if you donwloaded all the data\n",
    "#     #sometimes the download is not complete due to the network issue or limitation on the HYCOM server\n",
    "#     #we only donwload the data if the file is does not exist on the save path\n",
    "DownloadHYCOM_MultiProcess(StartDTime, EndDTime, PoolSize=PoolSize, LatMinMax=LatMinMax,  LongMinMax=LongMinMax)\n",
    "\n"
   ]
  }
 ],
 "metadata": {
  "kernelspec": {
   "display_name": "Gurobi",
   "language": "python",
   "name": "python3"
  },
  "language_info": {
   "codemirror_mode": {
    "name": "ipython",
    "version": 3
   },
   "file_extension": ".py",
   "mimetype": "text/x-python",
   "name": "python",
   "nbconvert_exporter": "python",
   "pygments_lexer": "ipython3",
   "version": "3.9.18"
  }
 },
 "nbformat": 4,
 "nbformat_minor": 2
}
