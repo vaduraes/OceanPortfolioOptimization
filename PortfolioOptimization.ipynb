{
 "cells": [
  {
   "cell_type": "code",
   "execution_count": 1,
   "metadata": {},
   "outputs": [],
   "source": [
    "#env Gurobi\n",
    "import numpy as np\n",
    "from datetime import datetime, timedelta\n",
    "import sys\n",
    "from tqdm import tqdm\n",
    "from multiprocessing import Pool\n",
    "\n",
    "sys.path.append('./Tools')\n",
    "from  Port_Opt_MaxGeneration import SolvePortOpt_MaxGen_LCOE_Iterator\n",
    "\n",
    "sys.path.append('./Tools/Multiprocessing')\n",
    "from OnlyWindBOEM import Iterator_WindBOEM\n",
    "from OnlyWindAll import Iterator_Wind\n"
   ]
  },
  {
   "cell_type": "markdown",
   "metadata": {},
   "source": [
    "# Simple Case Wind Only BOEM"
   ]
  },
  {
   "cell_type": "code",
   "execution_count": 2,
   "metadata": {},
   "outputs": [
    {
     "name": "stderr",
     "output_type": "stream",
     "text": [
      "  0%|          | 0/16 [00:00<?, ?it/s]"
     ]
    }
   ],
   "source": [
    "GeneralPathResources=\"./OutputData/\"\n",
    "PathWindDesigns=[]\n",
    "\n",
    "PathWindDesigns.append(GeneralPathResources+\"Wind/BOEM_Upscale24h_0.02Degree_GenCost_ATB_8MW_2020_Vestas.npz\")\n",
    "PathWindDesigns.append(GeneralPathResources+\"Wind/BOEM_Upscale24h_0.02Degree_GenCost_ATB_12MW_2030.npz\")\n",
    "PathWindDesigns.append(GeneralPathResources+\"Wind/BOEM_Upscale24h_0.02Degree_GenCost_ATB_15MW_2030.npz\")\n",
    "PathWindDesigns.append(GeneralPathResources+\"Wind/BOEM_Upscale24h_0.02Degree_GenCost_ATB_18MW_2030.npz\")\n",
    "\n",
    "PathKiteDesigns=[]\n",
    "PathWaveDesigns=[]\n",
    "\n",
    "\n",
    "PathTransmissionDesign=[]\n",
    "PathTransmissionDesign.append(GeneralPathResources+\"Transmission/Transmission_1200MW.npz\")\n",
    "PathTransmissionDesign.append(GeneralPathResources+\"Transmission/Transmission_1000MW.npz\")\n",
    "PathTransmissionDesign.append(GeneralPathResources+\"Transmission/Transmission_600MW.npz\")\n",
    "PathTransmissionDesign.append(GeneralPathResources+\"Transmission/Transmission_300MW.npz\")\n",
    "\n",
    "\n",
    "LCOE_RANGE=range(200,30,-4)\n",
    "Max_CollectionRadious=30\n",
    "MaxDesingsKite=1\n",
    "MaxDesignsWind=1\n",
    "MaxDesingsWave=0\n",
    "MinNumWindTurb=0\n",
    "MinNumWaveTurb=0\n",
    "MinNumKiteTrub=0\n",
    "\n",
    "\n",
    "# for PathTransmissionDesign_i in tqdm(PathTransmissionDesign):\n",
    "#     for PathWindDesigns_i in PathWindDesigns:\n",
    "#         TurbineCaseName=PathWindDesigns_i.rsplit(r\"/\")[-1][:-4]\n",
    "#         TransmissionCaseName=PathTransmissionDesign_i.rsplit(r\"/\")[-1][:-4]\n",
    "        \n",
    "#         SavePath=\"./OutputData/Portfolios/Wind_\"+TurbineCaseName+\"_\"+TransmissionCaseName+\".npz\"\n",
    "#         ReadMe=\"Case with wind on BOEM regions, considering a 1.2GW, 1.0, 0.6, 0.3 or 0.1GW transmission system, 30km radious and 1 design for each tech\\\n",
    "#             \\n Wind designs: 8MW Vestas 2020, 12MW 2030, 15MW 2030, 18MW 2030\"\n",
    "\n",
    "#         #Create and solve the optimization problem\n",
    "#         SolvePortOpt_MaxGen_LCOE_Iterator([PathWindDesigns_i], PathWaveDesigns, PathKiteDesigns, PathTransmissionDesign_i, LCOE_RANGE\\\n",
    "#             ,Max_CollectionRadious,MaxDesignsWind, MaxDesingsWave, MaxDesingsKite,MinNumWindTurb,MinNumWaveTurb,MinNumKiteTrub\\\n",
    "#             ,ReadMe,SavePath=SavePath)\n",
    "\n",
    "\n",
    "#Run in parallel\n",
    "N=len(PathTransmissionDesign)*len(PathWindDesigns)\n",
    "IdxIn=list(range(N))[0:]\n",
    "\n",
    "if __name__ == '__main__':\n",
    "   with Pool(3) as p:\n",
    "      Results = list(tqdm(p.imap(Iterator_WindBOEM, IdxIn), total=len(IdxIn)))"
   ]
  },
  {
   "cell_type": "markdown",
   "metadata": {},
   "source": [
    "# Simple Case All Wind Areas"
   ]
  },
  {
   "cell_type": "code",
   "execution_count": 2,
   "metadata": {},
   "outputs": [
    {
     "name": "stderr",
     "output_type": "stream",
     "text": [
      "100%|██████████| 16/16 [87:40:22<00:00, 19726.42s/it]   \n"
     ]
    }
   ],
   "source": [
    "GeneralPathResources=\"./OutputData/\"\n",
    "PathWindDesigns=[]\n",
    "# PathWindDesigns.append(GeneralPathResources+\"Wind/Upscale24h_0.1Degree_GenCost_ATB_8MW_2020_Vestas.npz\")\n",
    "PathWindDesigns.append(GeneralPathResources+\"Wind/Upscale24h_0.05Degree_GenCost_ATB_8MW_2020_Vestas.npz\")\n",
    "PathWindDesigns.append(GeneralPathResources+\"Wind/Upscale24h_0.05Degree_GenCost_ATB_12MW_2030.npz\")\n",
    "PathWindDesigns.append(GeneralPathResources+\"Wind/Upscale24h_0.05Degree_GenCost_ATB_15MW_2030.npz\")\n",
    "PathWindDesigns.append(GeneralPathResources+\"Wind/Upscale24h_0.05Degree_GenCost_ATB_18MW_2030.npz\")\n",
    "\n",
    "PathKiteDesigns=[]\n",
    "PathWaveDesigns=[]\n",
    "\n",
    "\n",
    "PathTransmissionDesign=[]\n",
    "PathTransmissionDesign.append(GeneralPathResources+\"Transmission/Transmission_1200MW.npz\")\n",
    "PathTransmissionDesign.append(GeneralPathResources+\"Transmission/Transmission_1000MW.npz\")\n",
    "PathTransmissionDesign.append(GeneralPathResources+\"Transmission/Transmission_600MW.npz\")\n",
    "PathTransmissionDesign.append(GeneralPathResources+\"Transmission/Transmission_300MW.npz\")\n",
    "\n",
    "\n",
    "LCOE_RANGE=range(200,30,-4)\n",
    "Max_CollectionRadious=30\n",
    "MaxDesingsKite=1\n",
    "MaxDesignsWind=1\n",
    "MaxDesingsWave=0\n",
    "MinNumWindTurb=0\n",
    "MinNumWaveTurb=0\n",
    "MinNumKiteTrub=0\n",
    "\n",
    "# for PathTransmissionDesign_i in tqdm(PathTransmissionDesign):\n",
    "#     for PathWindDesigns_i in tqdm(PathWindDesigns):\n",
    "#         TurbineCaseName=PathWindDesigns_i.rsplit(r\"/\")[-1][:-4]\n",
    "#         TransmissionCaseName=PathTransmissionDesign_i.rsplit(r\"/\")[-1][:-4]\n",
    "        \n",
    "#         SavePath=\"./OutputData/Portfolios/Wind_\"+TurbineCaseName+\"_\"+TransmissionCaseName+\".npz\"\n",
    "#         ReadMe=\"Case with wind, considering a 1.2GW, 1.0, 0.6, 0.3 or 0.1GW transmission system, 30km radious and 1 design for each tech\\\n",
    "#             \\n Wind designs: 8MW Vestas 2020, 12MW 2030, 15MW 2030, 18MW 2030\"\n",
    "            \n",
    "#         #Create and solve the optimization problem\n",
    "#         SolvePortOpt_MaxGen_LCOE_Iterator([PathWindDesigns_i], PathWaveDesigns, PathKiteDesigns, PathTransmissionDesign_i, LCOE_RANGE\\\n",
    "#             ,Max_CollectionRadious,MaxDesignsWind, MaxDesingsWave, MaxDesingsKite,MinNumWindTurb,MinNumWaveTurb,MinNumKiteTrub\\\n",
    "#             ,ReadMe,SavePath=SavePath)\n",
    "\n",
    "\n",
    "#Run in parallel\n",
    "N=len(PathTransmissionDesign)*len(PathWindDesigns)\n",
    "IdxIn=list(range(N))[0:]\n",
    "\n",
    "if __name__ == '__main__':\n",
    "   with Pool(4) as p:\n",
    "      Results = list(tqdm(p.imap(Iterator_Wind, IdxIn), total=len(IdxIn)))"
   ]
  },
  {
   "cell_type": "markdown",
   "metadata": {},
   "source": [
    "# Wind + Kites"
   ]
  },
  {
   "cell_type": "code",
   "execution_count": 3,
   "metadata": {},
   "outputs": [
    {
     "name": "stdout",
     "output_type": "stream",
     "text": [
      "Finding Overlap Site Locations for Wind-Wind\n"
     ]
    },
    {
     "name": "stderr",
     "output_type": "stream",
     "text": [
      "100%|██████████| 1287/1287 [00:00<00:00, 2853.47it/s]\n"
     ]
    },
    {
     "name": "stdout",
     "output_type": "stream",
     "text": [
      "Finding Overlap Site Locations for Wind-Kite\n"
     ]
    },
    {
     "name": "stderr",
     "output_type": "stream",
     "text": [
      "100%|██████████| 1287/1287 [00:00<00:00, 2218.26it/s]\n"
     ]
    },
    {
     "name": "stdout",
     "output_type": "stream",
     "text": [
      "Finding Overlap Site Locations for Kite-Wind\n"
     ]
    },
    {
     "name": "stderr",
     "output_type": "stream",
     "text": [
      "100%|██████████| 1060/1060 [00:00<00:00, 1376.06it/s]\n"
     ]
    },
    {
     "name": "stdout",
     "output_type": "stream",
     "text": [
      "Finding Overlap Site Locations for Kite-Kite\n"
     ]
    },
    {
     "name": "stderr",
     "output_type": "stream",
     "text": [
      "100%|██████████| 1060/1060 [00:00<00:00, 1511.56it/s]\n",
      "  0%|          | 0/16 [00:00<?, ?it/s]"
     ]
    },
    {
     "name": "stdout",
     "output_type": "stream",
     "text": [
      "Running Model With LCOE= 130.00\n"
     ]
    },
    {
     "name": "stderr",
     "output_type": "stream",
     "text": [
      "  6%|▋         | 1/16 [03:41<55:25, 221.72s/it]"
     ]
    },
    {
     "name": "stdout",
     "output_type": "stream",
     "text": [
      "LCOE OPT: 130.00,\n",
      " MW Wind: 2360.42,\n",
      "MW Wave: 0.00,\n",
      "MW Kite: 335.07,\n",
      "MW Curtailment: 1612.74,\n",
      "MW Total: 1082.75\n",
      "\n",
      "Running Model With LCOE= 120.00\n"
     ]
    },
    {
     "name": "stderr",
     "output_type": "stream",
     "text": [
      " 12%|█▎        | 2/16 [12:58<1:37:46, 419.04s/it]"
     ]
    },
    {
     "name": "stdout",
     "output_type": "stream",
     "text": [
      "LCOE OPT: 120.00,\n",
      " MW Wind: 2135.85,\n",
      "MW Wave: 0.00,\n",
      "MW Kite: 346.05,\n",
      "MW Curtailment: 1408.29,\n",
      "MW Total: 1073.60\n",
      "\n",
      "Running Model With LCOE= 110.00\n"
     ]
    },
    {
     "name": "stderr",
     "output_type": "stream",
     "text": [
      " 19%|█▉        | 3/16 [16:13<1:08:37, 316.70s/it]"
     ]
    },
    {
     "name": "stdout",
     "output_type": "stream",
     "text": [
      "LCOE OPT: 109.99,\n",
      " MW Wind: 1912.71,\n",
      "MW Wave: 0.00,\n",
      "MW Kite: 356.83,\n",
      "MW Curtailment: 1206.19,\n",
      "MW Total: 1063.35\n",
      "\n",
      "Running Model With LCOE= 100.00\n"
     ]
    },
    {
     "name": "stderr",
     "output_type": "stream",
     "text": [
      " 25%|██▌       | 4/16 [25:13<1:20:54, 404.55s/it]"
     ]
    },
    {
     "name": "stdout",
     "output_type": "stream",
     "text": [
      "LCOE OPT: 99.99,\n",
      " MW Wind: 1684.41,\n",
      "MW Wave: 0.00,\n",
      "MW Kite: 367.74,\n",
      "MW Curtailment: 1002.09,\n",
      "MW Total: 1050.06\n",
      "\n",
      "Running Model With LCOE= 90.00\n"
     ]
    },
    {
     "name": "stderr",
     "output_type": "stream",
     "text": [
      " 31%|███▏      | 5/16 [31:12<1:11:11, 388.28s/it]"
     ]
    },
    {
     "name": "stdout",
     "output_type": "stream",
     "text": [
      "LCOE OPT: 90.00,\n",
      " MW Wind: 1461.55,\n",
      "MW Wave: 0.00,\n",
      "MW Kite: 378.26,\n",
      "MW Curtailment: 806.28,\n",
      "MW Total: 1033.53\n",
      "\n",
      "Running Model With LCOE= 80.00\n"
     ]
    },
    {
     "name": "stderr",
     "output_type": "stream",
     "text": [
      " 38%|███▊      | 6/16 [33:10<49:25, 296.55s/it]  "
     ]
    },
    {
     "name": "stdout",
     "output_type": "stream",
     "text": [
      "LCOE OPT: 79.99,\n",
      " MW Wind: 1240.76,\n",
      "MW Wave: 0.00,\n",
      "MW Kite: 388.78,\n",
      "MW Curtailment: 617.18,\n",
      "MW Total: 1012.36\n",
      "\n",
      "Running Model With LCOE= 75.00\n"
     ]
    },
    {
     "name": "stderr",
     "output_type": "stream",
     "text": [
      " 44%|████▍     | 7/16 [36:24<39:24, 262.76s/it]"
     ]
    },
    {
     "name": "stdout",
     "output_type": "stream",
     "text": [
      "LCOE OPT: 75.00,\n",
      " MW Wind: 1121.13,\n",
      "MW Wave: 0.00,\n",
      "MW Kite: 394.48,\n",
      "MW Curtailment: 516.91,\n",
      "MW Total: 998.70\n",
      "\n",
      "Running Model With LCOE= 70.00\n"
     ]
    },
    {
     "name": "stderr",
     "output_type": "stream",
     "text": [
      " 50%|█████     | 8/16 [39:13<31:03, 232.88s/it]"
     ]
    },
    {
     "name": "stdout",
     "output_type": "stream",
     "text": [
      "LCOE OPT: 70.00,\n",
      " MW Wind: 1010.88,\n",
      "MW Wave: 0.00,\n",
      "MW Kite: 399.60,\n",
      "MW Curtailment: 426.81,\n",
      "MW Total: 983.67\n",
      "\n",
      "Running Model With LCOE= 65.00\n"
     ]
    },
    {
     "name": "stderr",
     "output_type": "stream",
     "text": [
      " 56%|█████▋    | 9/16 [40:52<22:18, 191.25s/it]"
     ]
    },
    {
     "name": "stdout",
     "output_type": "stream",
     "text": [
      "LCOE OPT: 64.97,\n",
      " MW Wind: 899.79,\n",
      "MW Wave: 0.00,\n",
      "MW Kite: 404.46,\n",
      "MW Curtailment: 338.37,\n",
      "MW Total: 965.87\n",
      "\n",
      "Running Model With LCOE= 60.00\n"
     ]
    },
    {
     "name": "stderr",
     "output_type": "stream",
     "text": [
      " 62%|██████▎   | 10/16 [41:17<13:59, 139.99s/it]"
     ]
    },
    {
     "name": "stdout",
     "output_type": "stream",
     "text": [
      "LCOE OPT: 59.84,\n",
      " MW Wind: 778.27,\n",
      "MW Wave: 0.00,\n",
      "MW Kite: 410.05,\n",
      "MW Curtailment: 247.17,\n",
      "MW Total: 941.15\n",
      "\n",
      "Running Model With LCOE= 55.00\n"
     ]
    },
    {
     "name": "stderr",
     "output_type": "stream",
     "text": [
      " 69%|██████▉   | 11/16 [41:38<08:36, 103.36s/it]"
     ]
    },
    {
     "name": "stdout",
     "output_type": "stream",
     "text": [
      "LCOE OPT: 54.96,\n",
      " MW Wind: 657.67,\n",
      "MW Wave: 0.00,\n",
      "MW Kite: 407.44,\n",
      "MW Curtailment: 159.13,\n",
      "MW Total: 905.99\n",
      "\n",
      "Running Model With LCOE= 50.00\n"
     ]
    },
    {
     "name": "stderr",
     "output_type": "stream",
     "text": [
      " 75%|███████▌  | 12/16 [41:59<05:13, 78.43s/it] "
     ]
    },
    {
     "name": "stdout",
     "output_type": "stream",
     "text": [
      "LCOE OPT: 49.73,\n",
      " MW Wind: 519.38,\n",
      "MW Wave: 0.00,\n",
      "MW Kite: 423.16,\n",
      "MW Curtailment: 87.51,\n",
      "MW Total: 855.03\n",
      "\n",
      "Running Model With LCOE= 40.00\n"
     ]
    },
    {
     "name": "stderr",
     "output_type": "stream",
     "text": [
      " 81%|████████▏ | 13/16 [42:17<03:00, 60.07s/it]"
     ]
    },
    {
     "name": "stdout",
     "output_type": "stream",
     "text": [
      "LCOE OPT: 39.77,\n",
      " MW Wind: 176.57,\n",
      "MW Wave: 0.00,\n",
      "MW Kite: 442.63,\n",
      "MW Curtailment: 8.05,\n",
      "MW Total: 611.15\n",
      "\n",
      "Running Model With LCOE= 30.00\n",
      "WARNING: Loading a SolverResults object with a warning status into\n",
      "    model.name=\"unknown\";\n",
      "      - termination condition: infeasibleOrUnbounded\n",
      "      - message from solver: <undefined>\n"
     ]
    },
    {
     "name": "stderr",
     "output_type": "stream",
     "text": [
      " 81%|████████▏ | 13/16 [42:26<09:47, 195.91s/it]\n",
      "c:\\Users\\Remote\\anaconda3\\envs\\Gurobi\\lib\\site-packages\\numpy\\lib\\npyio.py:696: VisibleDeprecationWarning: Creating an ndarray from ragged nested sequences (which is a list-or-tuple of lists-or-tuples-or ndarrays with different lengths or shapes) is deprecated. If you meant to do this, you must specify 'dtype=object' when creating the ndarray.\n",
      "  val = np.asanyarray(val)\n"
     ]
    }
   ],
   "source": [
    "GeneralPathResources=\"./OutputData/\"\n",
    "PathWindDesigns=[]\n",
    "\n",
    "PathWindDesigns.append(GeneralPathResources+\"Wind/Upscale24h_0.07Degree_2007GenCost_ATB_18MW_2030.npz\")\n",
    "\n",
    "PathKiteDesigns=[]\n",
    "PathKiteDesigns.append(GeneralPathResources+\"OceanCurrent/PowerTimeSeriesKite_VD50_BCS2.5.npz\")\n",
    "PathKiteDesigns.append(GeneralPathResources+\"OceanCurrent/PowerTimeSeriesKite_VD50_BCS2.0.npz\")\n",
    "PathKiteDesigns.append(GeneralPathResources+\"OceanCurrent/PowerTimeSeriesKite_VD50_BCS1.5.npz\")\n",
    "PathKiteDesigns.append(GeneralPathResources+\"OceanCurrent/PowerTimeSeriesKite_VD50_BCS1.npz\")\n",
    "PathWaveDesigns=[]\n",
    "\n",
    "\n",
    "PathTransmissionDesign=[]\n",
    "PathTransmissionDesign.append(GeneralPathResources+\"Transmission/Transmission_1200MW.npz\")\n",
    "\n",
    "\n",
    "LCOE_RANGE=[130,120,110,100,90,80,75,70,65,60,55,50,40,30,20,10]\n",
    "\n",
    "Max_CollectionRadious=30\n",
    "MaxDesingsKite=2\n",
    "MaxDesignsWind=1\n",
    "MaxDesingsWave=0\n",
    "MinNumWindTurb=0\n",
    "MinNumWaveTurb=0\n",
    "MinNumKiteTrub=0\n",
    "\n",
    "\n",
    "SavePath=\"./OutputData/Portfolios/Wind18MW_4KiteDesings_1200MW.npz\"\n",
    "ReadMe=\"Test\"\n",
    "\n",
    "# #Create and solve the optimization problem\n",
    "SolvePortOpt_MaxGen_LCOE_Iterator(PathWindDesigns, PathWaveDesigns, PathKiteDesigns, PathTransmissionDesign[0], LCOE_RANGE\\\n",
    "    ,Max_CollectionRadious,MaxDesignsWind, MaxDesingsWave, MaxDesingsKite,MinNumWindTurb,MinNumWaveTurb,MinNumKiteTrub\\\n",
    "    ,ReadMe,SavePath=SavePath)\n"
   ]
  },
  {
   "cell_type": "code",
   "execution_count": 4,
   "metadata": {},
   "outputs": [
    {
     "name": "stdout",
     "output_type": "stream",
     "text": [
      "Finding Overlap Site Locations for Wind-Wind\n"
     ]
    },
    {
     "name": "stderr",
     "output_type": "stream",
     "text": [
      "100%|██████████| 1287/1287 [00:00<00:00, 2812.81it/s]\n",
      "  0%|          | 0/16 [00:00<?, ?it/s]"
     ]
    },
    {
     "name": "stdout",
     "output_type": "stream",
     "text": [
      "Running Model With LCOE= 130.00\n"
     ]
    },
    {
     "name": "stderr",
     "output_type": "stream",
     "text": [
      "  6%|▋         | 1/16 [00:38<09:30, 38.04s/it]"
     ]
    },
    {
     "name": "stdout",
     "output_type": "stream",
     "text": [
      "LCOE OPT: 129.94,\n",
      " MW Wind: 2377.86,\n",
      "MW Wave: 0.00,\n",
      "MW Kite: 0.00,\n",
      "MW Curtailment: 1335.20,\n",
      "MW Total: 1042.67\n",
      "\n",
      "Running Model With LCOE= 120.00\n"
     ]
    },
    {
     "name": "stderr",
     "output_type": "stream",
     "text": [
      " 12%|█▎        | 2/16 [01:19<09:23, 40.22s/it]"
     ]
    },
    {
     "name": "stdout",
     "output_type": "stream",
     "text": [
      "LCOE OPT: 119.96,\n",
      " MW Wind: 2161.44,\n",
      "MW Wave: 0.00,\n",
      "MW Kite: 0.00,\n",
      "MW Curtailment: 1135.41,\n",
      "MW Total: 1026.04\n",
      "\n",
      "Running Model With LCOE= 110.00\n"
     ]
    },
    {
     "name": "stderr",
     "output_type": "stream",
     "text": [
      " 19%|█▉        | 3/16 [01:45<07:14, 33.45s/it]"
     ]
    },
    {
     "name": "stdout",
     "output_type": "stream",
     "text": [
      "LCOE OPT: 109.62,\n",
      " MW Wind: 1928.82,\n",
      "MW Wave: 0.00,\n",
      "MW Kite: 0.00,\n",
      "MW Curtailment: 925.13,\n",
      "MW Total: 1003.70\n",
      "\n",
      "Running Model With LCOE= 100.00\n"
     ]
    },
    {
     "name": "stderr",
     "output_type": "stream",
     "text": [
      " 25%|██▌       | 4/16 [02:07<05:47, 28.98s/it]"
     ]
    },
    {
     "name": "stdout",
     "output_type": "stream",
     "text": [
      "LCOE OPT: 100.00,\n",
      " MW Wind: 1721.08,\n",
      "MW Wave: 0.00,\n",
      "MW Kite: 0.00,\n",
      "MW Curtailment: 743.90,\n",
      "MW Total: 977.18\n",
      "\n",
      "Running Model With LCOE= 90.00\n"
     ]
    },
    {
     "name": "stderr",
     "output_type": "stream",
     "text": [
      " 31%|███▏      | 5/16 [02:24<04:33, 24.86s/it]"
     ]
    },
    {
     "name": "stdout",
     "output_type": "stream",
     "text": [
      "LCOE OPT: 89.98,\n",
      " MW Wind: 1479.89,\n",
      "MW Wave: 0.00,\n",
      "MW Kite: 0.00,\n",
      "MW Curtailment: 536.21,\n",
      "MW Total: 943.68\n",
      "\n",
      "Running Model With LCOE= 80.00\n"
     ]
    },
    {
     "name": "stderr",
     "output_type": "stream",
     "text": [
      " 38%|███▊      | 6/16 [03:04<04:58, 29.81s/it]"
     ]
    },
    {
     "name": "stdout",
     "output_type": "stream",
     "text": [
      "LCOE OPT: 79.82,\n",
      " MW Wind: 1245.91,\n",
      "MW Wave: 0.00,\n",
      "MW Kite: 0.00,\n",
      "MW Curtailment: 351.95,\n",
      "MW Total: 893.95\n",
      "\n",
      "Running Model With LCOE= 75.00\n"
     ]
    },
    {
     "name": "stderr",
     "output_type": "stream",
     "text": [
      " 44%|████▍     | 7/16 [03:22<03:53, 25.92s/it]"
     ]
    },
    {
     "name": "stdout",
     "output_type": "stream",
     "text": [
      "LCOE OPT: 74.74,\n",
      " MW Wind: 1127.13,\n",
      "MW Wave: 0.00,\n",
      "MW Kite: 0.00,\n",
      "MW Curtailment: 266.59,\n",
      "MW Total: 860.54\n",
      "\n",
      "Running Model With LCOE= 70.00\n"
     ]
    },
    {
     "name": "stderr",
     "output_type": "stream",
     "text": [
      " 50%|█████     | 8/16 [03:38<03:02, 22.82s/it]"
     ]
    },
    {
     "name": "stdout",
     "output_type": "stream",
     "text": [
      "LCOE OPT: 69.87,\n",
      " MW Wind: 1011.65,\n",
      "MW Wave: 0.00,\n",
      "MW Kite: 0.00,\n",
      "MW Curtailment: 192.62,\n",
      "MW Total: 819.04\n",
      "\n",
      "Running Model With LCOE= 65.00\n"
     ]
    },
    {
     "name": "stderr",
     "output_type": "stream",
     "text": [
      " 56%|█████▋    | 9/16 [03:55<02:26, 20.94s/it]"
     ]
    },
    {
     "name": "stdout",
     "output_type": "stream",
     "text": [
      "LCOE OPT: 64.86,\n",
      " MW Wind: 874.08,\n",
      "MW Wave: 0.00,\n",
      "MW Kite: 0.00,\n",
      "MW Curtailment: 107.92,\n",
      "MW Total: 766.16\n",
      "\n",
      "Running Model With LCOE= 60.00\n"
     ]
    },
    {
     "name": "stderr",
     "output_type": "stream",
     "text": [
      " 62%|██████▎   | 10/16 [04:01<01:38, 16.47s/it]"
     ]
    },
    {
     "name": "stdout",
     "output_type": "stream",
     "text": [
      "LCOE OPT: 59.80,\n",
      " MW Wind: 716.14,\n",
      "MW Wave: 0.00,\n",
      "MW Kite: 0.00,\n",
      "MW Curtailment: 28.57,\n",
      "MW Total: 687.56\n",
      "\n",
      "Running Model With LCOE= 55.00\n",
      "WARNING: Loading a SolverResults object with a warning status into\n",
      "    model.name=\"unknown\";\n",
      "      - termination condition: infeasibleOrUnbounded\n",
      "      - message from solver: <undefined>\n"
     ]
    },
    {
     "name": "stderr",
     "output_type": "stream",
     "text": [
      " 62%|██████▎   | 10/16 [04:06<02:27, 24.66s/it]\n"
     ]
    }
   ],
   "source": [
    "GeneralPathResources=\"./OutputData/\"\n",
    "PathWindDesigns=[]\n",
    "\n",
    "PathWindDesigns.append(GeneralPathResources+\"Wind/Upscale24h_0.07Degree_2007GenCost_ATB_18MW_2030.npz\")\n",
    "\n",
    "PathKiteDesigns=[]\n",
    "PathWaveDesigns=[]\n",
    "\n",
    "\n",
    "PathTransmissionDesign=[]\n",
    "PathTransmissionDesign.append(GeneralPathResources+\"Transmission/Transmission_1200MW.npz\")\n",
    "\n",
    "\n",
    "LCOE_RANGE=[130,120,110,100,90,80,75,70,65,60,55,50,40,30,20,10]\n",
    "Max_CollectionRadious=30\n",
    "MaxDesingsKite=2\n",
    "MaxDesignsWind=1\n",
    "MaxDesingsWave=0\n",
    "MinNumWindTurb=0\n",
    "MinNumWaveTurb=0\n",
    "MinNumKiteTrub=0\n",
    "\n",
    "\n",
    "SavePath=\"./OutputData/Portfolios/Wind18MW_0KiteDesings_1200MW.npz\"\n",
    "ReadMe=\"Test\"\n",
    "\n",
    "# #Create and solve the optimization problem\n",
    "SolvePortOpt_MaxGen_LCOE_Iterator(PathWindDesigns, PathWaveDesigns, PathKiteDesigns, PathTransmissionDesign[0], LCOE_RANGE\\\n",
    "    ,Max_CollectionRadious,MaxDesignsWind, MaxDesingsWave, MaxDesingsKite,MinNumWindTurb,MinNumWaveTurb,MinNumKiteTrub\\\n",
    "    ,ReadMe,SavePath=SavePath)\n"
   ]
  },
  {
   "cell_type": "code",
   "execution_count": 5,
   "metadata": {},
   "outputs": [
    {
     "name": "stdout",
     "output_type": "stream",
     "text": [
      "Finding Overlap Site Locations for Wind-Wind\n"
     ]
    },
    {
     "name": "stderr",
     "output_type": "stream",
     "text": [
      "100%|██████████| 341/341 [00:00<00:00, 6680.26it/s]\n"
     ]
    },
    {
     "name": "stdout",
     "output_type": "stream",
     "text": [
      "Finding Overlap Site Locations for Wind-Kite\n"
     ]
    },
    {
     "name": "stderr",
     "output_type": "stream",
     "text": [
      "100%|██████████| 341/341 [00:00<00:00, 56805.85it/s]\n"
     ]
    },
    {
     "name": "stdout",
     "output_type": "stream",
     "text": [
      "Finding Overlap Site Locations for Kite-Wind\n"
     ]
    },
    {
     "name": "stderr",
     "output_type": "stream",
     "text": [
      "100%|██████████| 1060/1060 [00:00<00:00, 36518.64it/s]\n"
     ]
    },
    {
     "name": "stdout",
     "output_type": "stream",
     "text": [
      "Finding Overlap Site Locations for Kite-Kite\n"
     ]
    },
    {
     "name": "stderr",
     "output_type": "stream",
     "text": [
      "100%|██████████| 1060/1060 [00:00<00:00, 1453.21it/s]\n",
      "  0%|          | 0/16 [00:00<?, ?it/s]"
     ]
    },
    {
     "name": "stdout",
     "output_type": "stream",
     "text": [
      "Running Model With LCOE= 130.00\n"
     ]
    },
    {
     "name": "stderr",
     "output_type": "stream",
     "text": [
      "  6%|▋         | 1/16 [01:31<22:57, 91.83s/it]"
     ]
    },
    {
     "name": "stdout",
     "output_type": "stream",
     "text": [
      "LCOE OPT: 129.99,\n",
      " MW Wind: 2011.39,\n",
      "MW Wave: 0.00,\n",
      "MW Kite: 0.00,\n",
      "MW Curtailment: 1038.93,\n",
      "MW Total: 972.46\n",
      "\n",
      "Running Model With LCOE= 120.00\n"
     ]
    },
    {
     "name": "stderr",
     "output_type": "stream",
     "text": [
      " 12%|█▎        | 2/16 [02:42<18:27, 79.11s/it]"
     ]
    },
    {
     "name": "stdout",
     "output_type": "stream",
     "text": [
      "LCOE OPT: 120.00,\n",
      " MW Wind: 1815.97,\n",
      "MW Wave: 0.00,\n",
      "MW Kite: 0.00,\n",
      "MW Curtailment: 864.54,\n",
      "MW Total: 951.43\n",
      "\n",
      "Running Model With LCOE= 110.00\n"
     ]
    },
    {
     "name": "stderr",
     "output_type": "stream",
     "text": [
      " 19%|█▉        | 3/16 [04:03<17:24, 80.37s/it]"
     ]
    },
    {
     "name": "stdout",
     "output_type": "stream",
     "text": [
      "LCOE OPT: 109.99,\n",
      " MW Wind: 1633.14,\n",
      "MW Wave: 0.00,\n",
      "MW Kite: 0.00,\n",
      "MW Curtailment: 705.19,\n",
      "MW Total: 927.94\n",
      "\n",
      "Running Model With LCOE= 100.00\n"
     ]
    },
    {
     "name": "stderr",
     "output_type": "stream",
     "text": [
      " 25%|██▌       | 4/16 [05:18<15:35, 77.92s/it]"
     ]
    },
    {
     "name": "stdout",
     "output_type": "stream",
     "text": [
      "LCOE OPT: 100.00,\n",
      " MW Wind: 1433.77,\n",
      "MW Wave: 0.00,\n",
      "MW Kite: 0.00,\n",
      "MW Curtailment: 535.62,\n",
      "MW Total: 898.14\n",
      "\n",
      "Running Model With LCOE= 90.00\n"
     ]
    },
    {
     "name": "stderr",
     "output_type": "stream",
     "text": [
      " 31%|███▏      | 5/16 [06:28<13:48, 75.32s/it]"
     ]
    },
    {
     "name": "stdout",
     "output_type": "stream",
     "text": [
      "LCOE OPT: 89.98,\n",
      " MW Wind: 1219.65,\n",
      "MW Wave: 0.00,\n",
      "MW Kite: 0.00,\n",
      "MW Curtailment: 361.77,\n",
      "MW Total: 857.88\n",
      "\n",
      "Running Model With LCOE= 80.00\n"
     ]
    },
    {
     "name": "stderr",
     "output_type": "stream",
     "text": [
      " 38%|███▊      | 6/16 [07:34<12:00, 72.05s/it]"
     ]
    },
    {
     "name": "stdout",
     "output_type": "stream",
     "text": [
      "LCOE OPT: 80.00,\n",
      " MW Wind: 1003.66,\n",
      "MW Wave: 0.00,\n",
      "MW Kite: 0.00,\n",
      "MW Curtailment: 201.55,\n",
      "MW Total: 802.12\n",
      "\n",
      "Running Model With LCOE= 75.00\n"
     ]
    },
    {
     "name": "stderr",
     "output_type": "stream",
     "text": [
      " 44%|████▍     | 7/16 [08:38<10:24, 69.35s/it]"
     ]
    },
    {
     "name": "stdout",
     "output_type": "stream",
     "text": [
      "LCOE OPT: 75.00,\n",
      " MW Wind: 900.95,\n",
      "MW Wave: 0.00,\n",
      "MW Kite: 0.00,\n",
      "MW Curtailment: 139.79,\n",
      "MW Total: 761.16\n",
      "\n",
      "Running Model With LCOE= 70.00\n"
     ]
    },
    {
     "name": "stderr",
     "output_type": "stream",
     "text": [
      " 50%|█████     | 8/16 [10:00<09:47, 73.49s/it]"
     ]
    },
    {
     "name": "stdout",
     "output_type": "stream",
     "text": [
      "LCOE OPT: 69.77,\n",
      " MW Wind: 764.46,\n",
      "MW Wave: 0.00,\n",
      "MW Kite: 0.00,\n",
      "MW Curtailment: 58.05,\n",
      "MW Total: 706.40\n",
      "\n",
      "Running Model With LCOE= 65.00\n"
     ]
    },
    {
     "name": "stderr",
     "output_type": "stream",
     "text": [
      " 56%|█████▋    | 9/16 [11:06<08:18, 71.24s/it]"
     ]
    },
    {
     "name": "stdout",
     "output_type": "stream",
     "text": [
      "LCOE OPT: 65.00,\n",
      " MW Wind: 603.61,\n",
      "MW Wave: 0.00,\n",
      "MW Kite: 0.00,\n",
      "MW Curtailment: 3.34,\n",
      "MW Total: 600.27\n",
      "\n",
      "Running Model With LCOE= 60.00\n"
     ]
    },
    {
     "name": "stderr",
     "output_type": "stream",
     "text": [
      " 62%|██████▎   | 10/16 [11:21<05:22, 53.71s/it]"
     ]
    },
    {
     "name": "stdout",
     "output_type": "stream",
     "text": [
      "LCOE OPT: 33.37,\n",
      " MW Wind: 0.00,\n",
      "MW Wave: 0.00,\n",
      "MW Kite: 454.73,\n",
      "MW Curtailment: 5.04,\n",
      "MW Total: 449.69\n",
      "\n",
      "Running Model With LCOE= 30.00\n",
      "WARNING: Loading a SolverResults object with a warning status into\n",
      "    model.name=\"unknown\";\n",
      "      - termination condition: infeasibleOrUnbounded\n",
      "      - message from solver: <undefined>\n"
     ]
    },
    {
     "name": "stderr",
     "output_type": "stream",
     "text": [
      " 81%|████████▏ | 13/16 [11:27<02:38, 52.90s/it]\n"
     ]
    }
   ],
   "source": [
    "GeneralPathResources=\"./OutputData/\"\n",
    "PathWindDesigns=[]\n",
    "\n",
    "\n",
    "PathWindDesigns.append(GeneralPathResources+\"Wind/BOEM_2007_Upscale24h_0.02Degree_GenCost_ATB_18MW_2030.npz\")\n",
    "\n",
    "PathKiteDesigns=[]\n",
    "PathKiteDesigns.append(GeneralPathResources+\"OceanCurrent/PowerTimeSeriesKite_VD50_BCS2.5.npz\")\n",
    "PathKiteDesigns.append(GeneralPathResources+\"OceanCurrent/PowerTimeSeriesKite_VD50_BCS2.0.npz\")\n",
    "PathKiteDesigns.append(GeneralPathResources+\"OceanCurrent/PowerTimeSeriesKite_VD50_BCS1.5.npz\")\n",
    "PathKiteDesigns.append(GeneralPathResources+\"OceanCurrent/PowerTimeSeriesKite_VD50_BCS1.npz\")\n",
    "PathWaveDesigns=[]\n",
    "\n",
    "\n",
    "PathTransmissionDesign=[]\n",
    "PathTransmissionDesign.append(GeneralPathResources+\"Transmission/Transmission_1200MW.npz\")\n",
    "\n",
    "\n",
    "LCOE_RANGE=[130,120,110,100,90,80,75,70,65,60,55,50,40,30,20,10]\n",
    "Max_CollectionRadious=30\n",
    "MaxDesingsKite=2\n",
    "MaxDesignsWind=1\n",
    "MaxDesingsWave=0\n",
    "MinNumWindTurb=0\n",
    "MinNumWaveTurb=0\n",
    "MinNumKiteTrub=0\n",
    "\n",
    "\n",
    "SavePath=\"./OutputData/Portfolios/Wind18MWBOEM_4KiteDesings_1200MW.npz\"\n",
    "ReadMe=\"Test\"\n",
    "\n",
    "# #Create and solve the optimization problem\n",
    "SolvePortOpt_MaxGen_LCOE_Iterator(PathWindDesigns, PathWaveDesigns, PathKiteDesigns, PathTransmissionDesign[0], LCOE_RANGE\\\n",
    "    ,Max_CollectionRadious,MaxDesignsWind, MaxDesingsWave, MaxDesingsKite,MinNumWindTurb,MinNumWaveTurb,MinNumKiteTrub\\\n",
    "    ,ReadMe,SavePath=SavePath)\n"
   ]
  },
  {
   "cell_type": "code",
   "execution_count": 6,
   "metadata": {},
   "outputs": [
    {
     "name": "stdout",
     "output_type": "stream",
     "text": [
      "Finding Overlap Site Locations for Wind-Wind\n"
     ]
    },
    {
     "name": "stderr",
     "output_type": "stream",
     "text": [
      "100%|██████████| 341/341 [00:00<00:00, 6551.71it/s]\n",
      "  0%|          | 0/16 [00:00<?, ?it/s]"
     ]
    },
    {
     "name": "stdout",
     "output_type": "stream",
     "text": [
      "Running Model With LCOE= 130.00\n"
     ]
    },
    {
     "name": "stderr",
     "output_type": "stream",
     "text": [
      "  6%|▋         | 1/16 [00:06<01:44,  6.94s/it]"
     ]
    },
    {
     "name": "stdout",
     "output_type": "stream",
     "text": [
      "LCOE OPT: 129.99,\n",
      " MW Wind: 2011.39,\n",
      "MW Wave: 0.00,\n",
      "MW Kite: 0.00,\n",
      "MW Curtailment: 1038.93,\n",
      "MW Total: 972.46\n",
      "\n",
      "Running Model With LCOE= 120.00\n"
     ]
    },
    {
     "name": "stderr",
     "output_type": "stream",
     "text": [
      " 12%|█▎        | 2/16 [00:12<01:28,  6.30s/it]"
     ]
    },
    {
     "name": "stdout",
     "output_type": "stream",
     "text": [
      "LCOE OPT: 119.99,\n",
      " MW Wind: 1812.23,\n",
      "MW Wave: 0.00,\n",
      "MW Kite: 0.00,\n",
      "MW Curtailment: 860.65,\n",
      "MW Total: 951.58\n",
      "\n",
      "Running Model With LCOE= 110.00\n"
     ]
    },
    {
     "name": "stderr",
     "output_type": "stream",
     "text": [
      " 19%|█▉        | 3/16 [00:16<01:04,  4.94s/it]"
     ]
    },
    {
     "name": "stdout",
     "output_type": "stream",
     "text": [
      "LCOE OPT: 109.99,\n",
      " MW Wind: 1632.65,\n",
      "MW Wave: 0.00,\n",
      "MW Kite: 0.00,\n",
      "MW Curtailment: 704.86,\n",
      "MW Total: 927.79\n",
      "\n",
      "Running Model With LCOE= 100.00\n"
     ]
    },
    {
     "name": "stderr",
     "output_type": "stream",
     "text": [
      " 25%|██▌       | 4/16 [00:18<00:46,  3.88s/it]"
     ]
    },
    {
     "name": "stdout",
     "output_type": "stream",
     "text": [
      "LCOE OPT: 99.93,\n",
      " MW Wind: 1399.23,\n",
      "MW Wave: 0.00,\n",
      "MW Kite: 0.00,\n",
      "MW Curtailment: 506.84,\n",
      "MW Total: 892.39\n",
      "\n",
      "Running Model With LCOE= 90.00\n"
     ]
    },
    {
     "name": "stderr",
     "output_type": "stream",
     "text": [
      " 31%|███▏      | 5/16 [00:20<00:36,  3.36s/it]"
     ]
    },
    {
     "name": "stdout",
     "output_type": "stream",
     "text": [
      "LCOE OPT: 89.90,\n",
      " MW Wind: 1201.33,\n",
      "MW Wave: 0.00,\n",
      "MW Kite: 0.00,\n",
      "MW Curtailment: 347.15,\n",
      "MW Total: 854.18\n",
      "\n",
      "Running Model With LCOE= 80.00\n"
     ]
    },
    {
     "name": "stderr",
     "output_type": "stream",
     "text": [
      " 38%|███▊      | 6/16 [00:22<00:29,  2.91s/it]"
     ]
    },
    {
     "name": "stdout",
     "output_type": "stream",
     "text": [
      "LCOE OPT: 80.00,\n",
      " MW Wind: 1006.82,\n",
      "MW Wave: 0.00,\n",
      "MW Kite: 0.00,\n",
      "MW Curtailment: 208.72,\n",
      "MW Total: 798.10\n",
      "\n",
      "Running Model With LCOE= 75.00\n"
     ]
    },
    {
     "name": "stderr",
     "output_type": "stream",
     "text": [
      " 44%|████▍     | 7/16 [00:24<00:23,  2.60s/it]"
     ]
    },
    {
     "name": "stdout",
     "output_type": "stream",
     "text": [
      "LCOE OPT: 74.96,\n",
      " MW Wind: 885.36,\n",
      "MW Wave: 0.00,\n",
      "MW Kite: 0.00,\n",
      "MW Curtailment: 129.90,\n",
      "MW Total: 755.46\n",
      "\n",
      "Running Model With LCOE= 70.00\n"
     ]
    },
    {
     "name": "stderr",
     "output_type": "stream",
     "text": [
      " 50%|█████     | 8/16 [00:26<00:19,  2.38s/it]"
     ]
    },
    {
     "name": "stdout",
     "output_type": "stream",
     "text": [
      "LCOE OPT: 69.71,\n",
      " MW Wind: 769.66,\n",
      "MW Wave: 0.00,\n",
      "MW Kite: 0.00,\n",
      "MW Curtailment: 65.88,\n",
      "MW Total: 703.77\n",
      "\n",
      "Running Model With LCOE= 65.00\n"
     ]
    },
    {
     "name": "stderr",
     "output_type": "stream",
     "text": [
      " 56%|█████▋    | 9/16 [00:28<00:15,  2.20s/it]"
     ]
    },
    {
     "name": "stdout",
     "output_type": "stream",
     "text": [
      "LCOE OPT: 64.93,\n",
      " MW Wind: 603.36,\n",
      "MW Wave: 0.00,\n",
      "MW Kite: 0.00,\n",
      "MW Curtailment: 3.33,\n",
      "MW Total: 600.03\n",
      "\n",
      "Running Model With LCOE= 60.00\n",
      "WARNING: Loading a SolverResults object with a warning status into\n",
      "    model.name=\"unknown\";\n",
      "      - termination condition: infeasibleOrUnbounded\n",
      "      - message from solver: <undefined>\n"
     ]
    },
    {
     "name": "stderr",
     "output_type": "stream",
     "text": [
      " 56%|█████▋    | 9/16 [00:29<00:22,  3.27s/it]\n"
     ]
    }
   ],
   "source": [
    "GeneralPathResources=\"./OutputData/\"\n",
    "PathWindDesigns=[]\n",
    "\n",
    "\n",
    "PathWindDesigns.append(GeneralPathResources+\"Wind/BOEM_2007_Upscale24h_0.02Degree_GenCost_ATB_18MW_2030.npz\")\n",
    "\n",
    "PathKiteDesigns=[]\n",
    "PathWaveDesigns=[]\n",
    "\n",
    "\n",
    "PathTransmissionDesign=[]\n",
    "PathTransmissionDesign.append(GeneralPathResources+\"Transmission/Transmission_1200MW.npz\")\n",
    "\n",
    "\n",
    "LCOE_RANGE=[130,120,110,100,90,80,75,70,65,60,55,50,40,30,20,10]\n",
    "Max_CollectionRadious=30\n",
    "MaxDesingsKite=2\n",
    "MaxDesignsWind=1\n",
    "MaxDesingsWave=0\n",
    "MinNumWindTurb=0\n",
    "MinNumWaveTurb=0\n",
    "MinNumKiteTrub=0\n",
    "\n",
    "\n",
    "SavePath=\"./OutputData/Portfolios/Wind18MWBOEM_0KiteDesings_1200MW.npz\"\n",
    "ReadMe=\"Test\"\n",
    "\n",
    "# #Create and solve the optimization problem\n",
    "SolvePortOpt_MaxGen_LCOE_Iterator(PathWindDesigns, PathWaveDesigns, PathKiteDesigns, PathTransmissionDesign[0], LCOE_RANGE\\\n",
    "    ,Max_CollectionRadious,MaxDesignsWind, MaxDesingsWave, MaxDesingsKite,MinNumWindTurb,MinNumWaveTurb,MinNumKiteTrub\\\n",
    "    ,ReadMe,SavePath=SavePath)\n"
   ]
  }
 ],
 "metadata": {
  "kernelspec": {
   "display_name": "Gurobi",
   "language": "python",
   "name": "python3"
  },
  "language_info": {
   "codemirror_mode": {
    "name": "ipython",
    "version": 3
   },
   "file_extension": ".py",
   "mimetype": "text/x-python",
   "name": "python",
   "nbconvert_exporter": "python",
   "pygments_lexer": "ipython3",
   "version": "3.10.6"
  }
 },
 "nbformat": 4,
 "nbformat_minor": 2
}
