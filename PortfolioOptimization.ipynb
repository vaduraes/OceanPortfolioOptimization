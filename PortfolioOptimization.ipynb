{
 "cells": [
  {
   "cell_type": "code",
   "execution_count": 1,
   "metadata": {},
   "outputs": [],
   "source": [
    "#env Gurobi\n",
    "import numpy as np\n",
    "from datetime import datetime, timedelta\n",
    "import sys\n",
    "from tqdm import tqdm\n",
    "from multiprocessing import Pool\n",
    "\n",
    "sys.path.append('./Tools')\n",
    "from  Port_Opt_MaxGeneration import SolvePortOpt_MaxGen_LCOE_Iterator\n",
    "\n",
    "sys.path.append('./Tools/Multiprocessing')\n",
    "from OnlyWindBOEM import Iterator_WindBOEM\n",
    "from OnlyWindAll import Iterator_Wind\n"
   ]
  },
  {
   "cell_type": "markdown",
   "metadata": {},
   "source": [
    "# Simple Case Wind Only BOEM"
   ]
  },
  {
   "cell_type": "code",
   "execution_count": 3,
   "metadata": {},
   "outputs": [
    {
     "name": "stderr",
     "output_type": "stream",
     "text": [
      "100%|██████████| 16/16 [22:28:15<00:00, 5055.97s/it]  \n"
     ]
    }
   ],
   "source": [
    "GeneralPathResources=\"./OutputData/\"\n",
    "PathWindDesigns=[]\n",
    "\n",
    "PathWindDesigns.append(GeneralPathResources+\"Wind/BOEM_Upscale24h_0.02Degree_GenCost_ATB_8MW_2020_Vestas.npz\")\n",
    "PathWindDesigns.append(GeneralPathResources+\"Wind/BOEM_Upscale24h_0.02Degree_GenCost_ATB_12MW_2030.npz\")\n",
    "PathWindDesigns.append(GeneralPathResources+\"Wind/BOEM_Upscale24h_0.02Degree_GenCost_ATB_15MW_2030.npz\")\n",
    "PathWindDesigns.append(GeneralPathResources+\"Wind/BOEM_Upscale24h_0.02Degree_GenCost_ATB_18MW_2030.npz\")\n",
    "\n",
    "PathKiteDesigns=[]\n",
    "PathWaveDesigns=[]\n",
    "\n",
    "\n",
    "PathTransmissionDesign=[]\n",
    "PathTransmissionDesign.append(GeneralPathResources+\"Transmission/Transmission_1200MW.npz\")\n",
    "PathTransmissionDesign.append(GeneralPathResources+\"Transmission/Transmission_1000MW.npz\")\n",
    "PathTransmissionDesign.append(GeneralPathResources+\"Transmission/Transmission_600MW.npz\")\n",
    "PathTransmissionDesign.append(GeneralPathResources+\"Transmission/Transmission_300MW.npz\")\n",
    "\n",
    "\n",
    "LCOE_RANGE=range(200,30,-4)\n",
    "Max_CollectionRadious=30\n",
    "MaxDesingsKite=1\n",
    "MaxDesignsWind=1\n",
    "MaxDesingsWave=0\n",
    "MinNumWindTurb=0\n",
    "MinNumWaveTurb=0\n",
    "MinNumKiteTrub=0\n",
    "\n",
    "\n",
    "# for PathTransmissionDesign_i in tqdm(PathTransmissionDesign):\n",
    "#     for PathWindDesigns_i in PathWindDesigns:\n",
    "#         TurbineCaseName=PathWindDesigns_i.rsplit(r\"/\")[-1][:-4]\n",
    "#         TransmissionCaseName=PathTransmissionDesign_i.rsplit(r\"/\")[-1][:-4]\n",
    "        \n",
    "#         SavePath=\"./OutputData/Portfolios/Wind_\"+TurbineCaseName+\"_\"+TransmissionCaseName+\".npz\"\n",
    "#         ReadMe=\"Case with wind on BOEM regions, considering a 1.2GW, 1.0, 0.6, 0.3 or 0.1GW transmission system, 30km radious and 1 design for each tech\\\n",
    "#             \\n Wind designs: 8MW Vestas 2020, 12MW 2030, 15MW 2030, 18MW 2030\"\n",
    "\n",
    "#         #Create and solve the optimization problem\n",
    "#         SolvePortOpt_MaxGen_LCOE_Iterator([PathWindDesigns_i], PathWaveDesigns, PathKiteDesigns, PathTransmissionDesign_i, LCOE_RANGE\\\n",
    "#             ,Max_CollectionRadious,MaxDesignsWind, MaxDesingsWave, MaxDesingsKite,MinNumWindTurb,MinNumWaveTurb,MinNumKiteTrub\\\n",
    "#             ,ReadMe,SavePath=SavePath)\n",
    "\n",
    "\n",
    "#Run in parallel\n",
    "N=len(PathTransmissionDesign)*len(PathWindDesigns)\n",
    "IdxIn=list(range(N))[0:]\n",
    "\n",
    "if __name__ == '__main__':\n",
    "   with Pool(3) as p:\n",
    "      Results = list(tqdm(p.imap(Iterator_WindBOEM, IdxIn), total=len(IdxIn)))"
   ]
  },
  {
   "cell_type": "markdown",
   "metadata": {},
   "source": [
    "# Simple Case All Wind Areas"
   ]
  },
  {
   "cell_type": "code",
   "execution_count": 2,
   "metadata": {},
   "outputs": [
    {
     "name": "stderr",
     "output_type": "stream",
     "text": [
      "  0%|          | 0/16 [00:00<?, ?it/s]"
     ]
    }
   ],
   "source": [
    "GeneralPathResources=\"./OutputData/\"\n",
    "PathWindDesigns=[]\n",
    "# PathWindDesigns.append(GeneralPathResources+\"Wind/Upscale24h_0.1Degree_GenCost_ATB_8MW_2020_Vestas.npz\")\n",
    "PathWindDesigns.append(GeneralPathResources+\"Wind/Upscale24h_0.05Degree_GenCost_ATB_8MW_2020_Vestas.npz\")\n",
    "PathWindDesigns.append(GeneralPathResources+\"Wind/Upscale24h_0.05Degree_GenCost_ATB_12MW_2030.npz\")\n",
    "PathWindDesigns.append(GeneralPathResources+\"Wind/Upscale24h_0.05Degree_GenCost_ATB_15MW_2030.npz\")\n",
    "PathWindDesigns.append(GeneralPathResources+\"Wind/Upscale24h_0.05Degree_GenCost_ATB_18MW_2030.npz\")\n",
    "\n",
    "PathKiteDesigns=[]\n",
    "PathWaveDesigns=[]\n",
    "\n",
    "\n",
    "PathTransmissionDesign=[]\n",
    "PathTransmissionDesign.append(GeneralPathResources+\"Transmission/Transmission_1200MW.npz\")\n",
    "PathTransmissionDesign.append(GeneralPathResources+\"Transmission/Transmission_1000MW.npz\")\n",
    "PathTransmissionDesign.append(GeneralPathResources+\"Transmission/Transmission_600MW.npz\")\n",
    "PathTransmissionDesign.append(GeneralPathResources+\"Transmission/Transmission_300MW.npz\")\n",
    "\n",
    "\n",
    "LCOE_RANGE=range(200,30,-4)\n",
    "Max_CollectionRadious=30\n",
    "MaxDesingsKite=1\n",
    "MaxDesignsWind=1\n",
    "MaxDesingsWave=0\n",
    "MinNumWindTurb=0\n",
    "MinNumWaveTurb=0\n",
    "MinNumKiteTrub=0\n",
    "\n",
    "# for PathTransmissionDesign_i in tqdm(PathTransmissionDesign):\n",
    "#     for PathWindDesigns_i in tqdm(PathWindDesigns):\n",
    "#         TurbineCaseName=PathWindDesigns_i.rsplit(r\"/\")[-1][:-4]\n",
    "#         TransmissionCaseName=PathTransmissionDesign_i.rsplit(r\"/\")[-1][:-4]\n",
    "        \n",
    "#         SavePath=\"./OutputData/Portfolios/Wind_\"+TurbineCaseName+\"_\"+TransmissionCaseName+\".npz\"\n",
    "#         ReadMe=\"Case with wind, considering a 1.2GW, 1.0, 0.6, 0.3 or 0.1GW transmission system, 30km radious and 1 design for each tech\\\n",
    "#             \\n Wind designs: 8MW Vestas 2020, 12MW 2030, 15MW 2030, 18MW 2030\"\n",
    "            \n",
    "#         #Create and solve the optimization problem\n",
    "#         SolvePortOpt_MaxGen_LCOE_Iterator([PathWindDesigns_i], PathWaveDesigns, PathKiteDesigns, PathTransmissionDesign_i, LCOE_RANGE\\\n",
    "#             ,Max_CollectionRadious,MaxDesignsWind, MaxDesingsWave, MaxDesingsKite,MinNumWindTurb,MinNumWaveTurb,MinNumKiteTrub\\\n",
    "#             ,ReadMe,SavePath=SavePath)\n",
    "\n",
    "\n",
    "#Run in parallel\n",
    "N=len(PathTransmissionDesign)*len(PathWindDesigns)\n",
    "IdxIn=list(range(N))[0:]\n",
    "\n",
    "if __name__ == '__main__':\n",
    "   with Pool(4) as p:\n",
    "      Results = list(tqdm(p.imap(Iterator_Wind, IdxIn), total=len(IdxIn)))"
   ]
  }
 ],
 "metadata": {
  "kernelspec": {
   "display_name": "Gurobi",
   "language": "python",
   "name": "python3"
  },
  "language_info": {
   "codemirror_mode": {
    "name": "ipython",
    "version": 3
   },
   "file_extension": ".py",
   "mimetype": "text/x-python",
   "name": "python",
   "nbconvert_exporter": "python",
   "pygments_lexer": "ipython3",
   "version": "3.10.6"
  }
 },
 "nbformat": 4,
 "nbformat_minor": 2
}
