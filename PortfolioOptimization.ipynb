{
 "cells": [
  {
   "cell_type": "code",
   "execution_count": 1,
   "metadata": {},
   "outputs": [],
   "source": [
    "#env Gurobi\n",
    "import numpy as np\n",
    "from datetime import datetime, timedelta\n",
    "import sys\n",
    "from tqdm import tqdm\n",
    "from multiprocessing import Pool\n",
    "\n",
    "sys.path.append('./Tools')\n",
    "from  Port_Opt_MaxGeneration import SolvePortOpt_MaxGen_LCOE_Iterator\n",
    "\n",
    "sys.path.append('./Tools/Multiprocessing')\n",
    "from OnlyWindBOEM import Iterator_WindBOEM\n",
    "from OnlyWindAll import Iterator_Wind\n"
   ]
  },
  {
   "cell_type": "markdown",
   "metadata": {},
   "source": [
    "# Simple Case Wind Only BOEM"
   ]
  },
  {
   "cell_type": "code",
   "execution_count": 2,
   "metadata": {},
   "outputs": [
    {
     "name": "stderr",
     "output_type": "stream",
     "text": [
      "  0%|          | 0/16 [00:00<?, ?it/s]"
     ]
    }
   ],
   "source": [
    "GeneralPathResources=\"./OutputData/\"\n",
    "PathWindDesigns=[]\n",
    "\n",
    "PathWindDesigns.append(GeneralPathResources+\"Wind/BOEM_Upscale24h_0.02Degree_GenCost_ATB_8MW_2020_Vestas.npz\")\n",
    "PathWindDesigns.append(GeneralPathResources+\"Wind/BOEM_Upscale24h_0.02Degree_GenCost_ATB_12MW_2030.npz\")\n",
    "PathWindDesigns.append(GeneralPathResources+\"Wind/BOEM_Upscale24h_0.02Degree_GenCost_ATB_15MW_2030.npz\")\n",
    "PathWindDesigns.append(GeneralPathResources+\"Wind/BOEM_Upscale24h_0.02Degree_GenCost_ATB_18MW_2030.npz\")\n",
    "\n",
    "PathKiteDesigns=[]\n",
    "PathWaveDesigns=[]\n",
    "\n",
    "\n",
    "PathTransmissionDesign=[]\n",
    "PathTransmissionDesign.append(GeneralPathResources+\"Transmission/Transmission_1200MW.npz\")\n",
    "PathTransmissionDesign.append(GeneralPathResources+\"Transmission/Transmission_1000MW.npz\")\n",
    "PathTransmissionDesign.append(GeneralPathResources+\"Transmission/Transmission_600MW.npz\")\n",
    "PathTransmissionDesign.append(GeneralPathResources+\"Transmission/Transmission_300MW.npz\")\n",
    "\n",
    "\n",
    "LCOE_RANGE=range(200,30,-4)\n",
    "Max_CollectionRadious=30\n",
    "MaxDesingsKite=1\n",
    "MaxDesignsWind=1\n",
    "MaxDesingsWave=0\n",
    "MinNumWindTurb=0\n",
    "MinNumWaveTurb=0\n",
    "MinNumKiteTrub=0\n",
    "\n",
    "\n",
    "# for PathTransmissionDesign_i in tqdm(PathTransmissionDesign):\n",
    "#     for PathWindDesigns_i in PathWindDesigns:\n",
    "#         TurbineCaseName=PathWindDesigns_i.rsplit(r\"/\")[-1][:-4]\n",
    "#         TransmissionCaseName=PathTransmissionDesign_i.rsplit(r\"/\")[-1][:-4]\n",
    "        \n",
    "#         SavePath=\"./OutputData/Portfolios/Wind_\"+TurbineCaseName+\"_\"+TransmissionCaseName+\".npz\"\n",
    "#         ReadMe=\"Case with wind on BOEM regions, considering a 1.2GW, 1.0, 0.6, 0.3 or 0.1GW transmission system, 30km radious and 1 design for each tech\\\n",
    "#             \\n Wind designs: 8MW Vestas 2020, 12MW 2030, 15MW 2030, 18MW 2030\"\n",
    "\n",
    "#         #Create and solve the optimization problem\n",
    "#         SolvePortOpt_MaxGen_LCOE_Iterator([PathWindDesigns_i], PathWaveDesigns, PathKiteDesigns, PathTransmissionDesign_i, LCOE_RANGE\\\n",
    "#             ,Max_CollectionRadious,MaxDesignsWind, MaxDesingsWave, MaxDesingsKite,MinNumWindTurb,MinNumWaveTurb,MinNumKiteTrub\\\n",
    "#             ,ReadMe,SavePath=SavePath)\n",
    "\n",
    "\n",
    "#Run in parallel\n",
    "N=len(PathTransmissionDesign)*len(PathWindDesigns)\n",
    "IdxIn=list(range(N))[0:]\n",
    "\n",
    "if __name__ == '__main__':\n",
    "   with Pool(3) as p:\n",
    "      Results = list(tqdm(p.imap(Iterator_WindBOEM, IdxIn), total=len(IdxIn)))"
   ]
  },
  {
   "cell_type": "markdown",
   "metadata": {},
   "source": [
    "# Simple Case All Wind Areas"
   ]
  },
  {
   "cell_type": "code",
   "execution_count": 2,
   "metadata": {},
   "outputs": [
    {
     "name": "stderr",
     "output_type": "stream",
     "text": [
      "100%|██████████| 16/16 [87:40:22<00:00, 19726.42s/it]   \n"
     ]
    }
   ],
   "source": [
    "GeneralPathResources=\"./OutputData/\"\n",
    "PathWindDesigns=[]\n",
    "# PathWindDesigns.append(GeneralPathResources+\"Wind/Upscale24h_0.1Degree_GenCost_ATB_8MW_2020_Vestas.npz\")\n",
    "PathWindDesigns.append(GeneralPathResources+\"Wind/Upscale24h_0.05Degree_GenCost_ATB_8MW_2020_Vestas.npz\")\n",
    "PathWindDesigns.append(GeneralPathResources+\"Wind/Upscale24h_0.05Degree_GenCost_ATB_12MW_2030.npz\")\n",
    "PathWindDesigns.append(GeneralPathResources+\"Wind/Upscale24h_0.05Degree_GenCost_ATB_15MW_2030.npz\")\n",
    "PathWindDesigns.append(GeneralPathResources+\"Wind/Upscale24h_0.05Degree_GenCost_ATB_18MW_2030.npz\")\n",
    "\n",
    "PathKiteDesigns=[]\n",
    "PathWaveDesigns=[]\n",
    "\n",
    "\n",
    "PathTransmissionDesign=[]\n",
    "PathTransmissionDesign.append(GeneralPathResources+\"Transmission/Transmission_1200MW.npz\")\n",
    "PathTransmissionDesign.append(GeneralPathResources+\"Transmission/Transmission_1000MW.npz\")\n",
    "PathTransmissionDesign.append(GeneralPathResources+\"Transmission/Transmission_600MW.npz\")\n",
    "PathTransmissionDesign.append(GeneralPathResources+\"Transmission/Transmission_300MW.npz\")\n",
    "\n",
    "\n",
    "LCOE_RANGE=range(200,30,-4)\n",
    "Max_CollectionRadious=30\n",
    "MaxDesingsKite=1\n",
    "MaxDesignsWind=1\n",
    "MaxDesingsWave=0\n",
    "MinNumWindTurb=0\n",
    "MinNumWaveTurb=0\n",
    "MinNumKiteTrub=0\n",
    "\n",
    "# for PathTransmissionDesign_i in tqdm(PathTransmissionDesign):\n",
    "#     for PathWindDesigns_i in tqdm(PathWindDesigns):\n",
    "#         TurbineCaseName=PathWindDesigns_i.rsplit(r\"/\")[-1][:-4]\n",
    "#         TransmissionCaseName=PathTransmissionDesign_i.rsplit(r\"/\")[-1][:-4]\n",
    "        \n",
    "#         SavePath=\"./OutputData/Portfolios/Wind_\"+TurbineCaseName+\"_\"+TransmissionCaseName+\".npz\"\n",
    "#         ReadMe=\"Case with wind, considering a 1.2GW, 1.0, 0.6, 0.3 or 0.1GW transmission system, 30km radious and 1 design for each tech\\\n",
    "#             \\n Wind designs: 8MW Vestas 2020, 12MW 2030, 15MW 2030, 18MW 2030\"\n",
    "            \n",
    "#         #Create and solve the optimization problem\n",
    "#         SolvePortOpt_MaxGen_LCOE_Iterator([PathWindDesigns_i], PathWaveDesigns, PathKiteDesigns, PathTransmissionDesign_i, LCOE_RANGE\\\n",
    "#             ,Max_CollectionRadious,MaxDesignsWind, MaxDesingsWave, MaxDesingsKite,MinNumWindTurb,MinNumWaveTurb,MinNumKiteTrub\\\n",
    "#             ,ReadMe,SavePath=SavePath)\n",
    "\n",
    "\n",
    "#Run in parallel\n",
    "N=len(PathTransmissionDesign)*len(PathWindDesigns)\n",
    "IdxIn=list(range(N))[0:]\n",
    "\n",
    "if __name__ == '__main__':\n",
    "   with Pool(4) as p:\n",
    "      Results = list(tqdm(p.imap(Iterator_Wind, IdxIn), total=len(IdxIn)))"
   ]
  },
  {
   "cell_type": "markdown",
   "metadata": {},
   "source": [
    "# Wind + Kites"
   ]
  },
  {
   "cell_type": "code",
   "execution_count": 3,
   "metadata": {},
   "outputs": [
    {
     "name": "stdout",
     "output_type": "stream",
     "text": [
      "Finding Overlap Site Locations for Wind-Wind\n"
     ]
    },
    {
     "name": "stderr",
     "output_type": "stream",
     "text": [
      "100%|██████████| 1287/1287 [00:00<00:00, 2853.47it/s]\n"
     ]
    },
    {
     "name": "stdout",
     "output_type": "stream",
     "text": [
      "Finding Overlap Site Locations for Wind-Kite\n"
     ]
    },
    {
     "name": "stderr",
     "output_type": "stream",
     "text": [
      "100%|██████████| 1287/1287 [00:00<00:00, 2218.26it/s]\n"
     ]
    },
    {
     "name": "stdout",
     "output_type": "stream",
     "text": [
      "Finding Overlap Site Locations for Kite-Wind\n"
     ]
    },
    {
     "name": "stderr",
     "output_type": "stream",
     "text": [
      "100%|██████████| 1060/1060 [00:00<00:00, 1376.06it/s]\n"
     ]
    },
    {
     "name": "stdout",
     "output_type": "stream",
     "text": [
      "Finding Overlap Site Locations for Kite-Kite\n"
     ]
    },
    {
     "name": "stderr",
     "output_type": "stream",
     "text": [
      "100%|██████████| 1060/1060 [00:00<00:00, 1511.56it/s]\n",
      "  0%|          | 0/16 [00:00<?, ?it/s]"
     ]
    },
    {
     "name": "stdout",
     "output_type": "stream",
     "text": [
      "Running Model With LCOE= 130.00\n"
     ]
    },
    {
     "name": "stderr",
     "output_type": "stream",
     "text": [
      "  6%|▋         | 1/16 [03:41<55:25, 221.72s/it]"
     ]
    },
    {
     "name": "stdout",
     "output_type": "stream",
     "text": [
      "LCOE OPT: 130.00,\n",
      " MW Wind: 2360.42,\n",
      "MW Wave: 0.00,\n",
      "MW Kite: 335.07,\n",
      "MW Curtailment: 1612.74,\n",
      "MW Total: 1082.75\n",
      "\n",
      "Running Model With LCOE= 120.00\n"
     ]
    }
   ],
   "source": [
    "GeneralPathResources=\"./OutputData/\"\n",
    "PathWindDesigns=[]\n",
    "\n",
    "PathWindDesigns.append(GeneralPathResources+\"Wind/Upscale24h_0.07Degree_2007GenCost_ATB_18MW_2030.npz\")\n",
    "\n",
    "PathKiteDesigns=[]\n",
    "PathKiteDesigns.append(GeneralPathResources+\"OceanCurrent/PowerTimeSeriesKite_VD50_BCS2.5.npz\")\n",
    "PathKiteDesigns.append(GeneralPathResources+\"OceanCurrent/PowerTimeSeriesKite_VD50_BCS2.0.npz\")\n",
    "PathKiteDesigns.append(GeneralPathResources+\"OceanCurrent/PowerTimeSeriesKite_VD50_BCS1.5.npz\")\n",
    "PathKiteDesigns.append(GeneralPathResources+\"OceanCurrent/PowerTimeSeriesKite_VD50_BCS1.npz\")\n",
    "PathWaveDesigns=[]\n",
    "\n",
    "\n",
    "PathTransmissionDesign=[]\n",
    "PathTransmissionDesign.append(GeneralPathResources+\"Transmission/Transmission_1200MW.npz\")\n",
    "\n",
    "\n",
    "LCOE_RANGE=[130,120,110,100,90,80,75,70,65,60,55,50,40,30,20,10]\n",
    "\n",
    "Max_CollectionRadious=30\n",
    "MaxDesingsKite=2\n",
    "MaxDesignsWind=1\n",
    "MaxDesingsWave=0\n",
    "MinNumWindTurb=0\n",
    "MinNumWaveTurb=0\n",
    "MinNumKiteTrub=0\n",
    "\n",
    "\n",
    "SavePath=\"./OutputData/Portfolios/Wind18MW_4KiteDesings_1200MW.npz\"\n",
    "ReadMe=\"Test\"\n",
    "\n",
    "# #Create and solve the optimization problem\n",
    "SolvePortOpt_MaxGen_LCOE_Iterator(PathWindDesigns, PathWaveDesigns, PathKiteDesigns, PathTransmissionDesign[0], LCOE_RANGE\\\n",
    "    ,Max_CollectionRadious,MaxDesignsWind, MaxDesingsWave, MaxDesingsKite,MinNumWindTurb,MinNumWaveTurb,MinNumKiteTrub\\\n",
    "    ,ReadMe,SavePath=SavePath)\n"
   ]
  },
  {
   "cell_type": "code",
   "execution_count": null,
   "metadata": {},
   "outputs": [],
   "source": [
    "GeneralPathResources=\"./OutputData/\"\n",
    "PathWindDesigns=[]\n",
    "\n",
    "PathWindDesigns.append(GeneralPathResources+\"Wind/Upscale24h_0.07Degree_2007GenCost_ATB_18MW_2030.npz\")\n",
    "\n",
    "PathKiteDesigns=[]\n",
    "PathWaveDesigns=[]\n",
    "\n",
    "\n",
    "PathTransmissionDesign=[]\n",
    "PathTransmissionDesign.append(GeneralPathResources+\"Transmission/Transmission_1200MW.npz\")\n",
    "\n",
    "\n",
    "LCOE_RANGE=[130,120,110,100,90,80,75,70,65,60,55,50,40,30,20,10]\n",
    "Max_CollectionRadious=30\n",
    "MaxDesingsKite=2\n",
    "MaxDesignsWind=1\n",
    "MaxDesingsWave=0\n",
    "MinNumWindTurb=0\n",
    "MinNumWaveTurb=0\n",
    "MinNumKiteTrub=0\n",
    "\n",
    "\n",
    "SavePath=\"./OutputData/Portfolios/Wind18MW_0KiteDesings_1200MW.npz\"\n",
    "ReadMe=\"Test\"\n",
    "\n",
    "# #Create and solve the optimization problem\n",
    "SolvePortOpt_MaxGen_LCOE_Iterator(PathWindDesigns, PathWaveDesigns, PathKiteDesigns, PathTransmissionDesign[0], LCOE_RANGE\\\n",
    "    ,Max_CollectionRadious,MaxDesignsWind, MaxDesingsWave, MaxDesingsKite,MinNumWindTurb,MinNumWaveTurb,MinNumKiteTrub\\\n",
    "    ,ReadMe,SavePath=SavePath)\n"
   ]
  },
  {
   "cell_type": "code",
   "execution_count": null,
   "metadata": {},
   "outputs": [
    {
     "name": "stdout",
     "output_type": "stream",
     "text": [
      "Finding Overlap Site Locations for Wind-Wind\n"
     ]
    },
    {
     "name": "stderr",
     "output_type": "stream",
     "text": [
      "100%|██████████| 341/341 [00:00<00:00, 6670.67it/s]\n"
     ]
    },
    {
     "name": "stdout",
     "output_type": "stream",
     "text": [
      "Finding Overlap Site Locations for Wind-Kite\n"
     ]
    },
    {
     "name": "stderr",
     "output_type": "stream",
     "text": [
      "100%|██████████| 341/341 [00:00<00:00, 48671.40it/s]\n"
     ]
    },
    {
     "name": "stdout",
     "output_type": "stream",
     "text": [
      "Finding Overlap Site Locations for Kite-Wind\n"
     ]
    },
    {
     "name": "stderr",
     "output_type": "stream",
     "text": [
      "100%|██████████| 1060/1060 [00:00<00:00, 37823.81it/s]\n"
     ]
    },
    {
     "name": "stdout",
     "output_type": "stream",
     "text": [
      "Finding Overlap Site Locations for Kite-Kite\n"
     ]
    },
    {
     "name": "stderr",
     "output_type": "stream",
     "text": [
      "100%|██████████| 1060/1060 [00:00<00:00, 1529.87it/s]\n",
      "  0%|          | 0/12 [00:00<?, ?it/s]"
     ]
    },
    {
     "name": "stdout",
     "output_type": "stream",
     "text": [
      "Running Model With LCOE= 130.00\n"
     ]
    },
    {
     "name": "stderr",
     "output_type": "stream",
     "text": [
      "  8%|▊         | 1/12 [00:48<08:57, 48.83s/it]"
     ]
    },
    {
     "name": "stdout",
     "output_type": "stream",
     "text": [
      "LCOE OPT: 129.99,\n",
      " MW Wind: 2011.39,\n",
      "MW Wave: 0.00,\n",
      "MW Kite: 0.00,\n",
      "MW Curtailment: 1038.93,\n",
      "MW Total: 972.46\n",
      "\n",
      "Running Model With LCOE= 120.00\n"
     ]
    },
    {
     "name": "stderr",
     "output_type": "stream",
     "text": [
      " 17%|█▋        | 2/12 [01:42<08:37, 51.75s/it]"
     ]
    },
    {
     "name": "stdout",
     "output_type": "stream",
     "text": [
      "LCOE OPT: 119.99,\n",
      " MW Wind: 1812.23,\n",
      "MW Wave: 0.00,\n",
      "MW Kite: 0.00,\n",
      "MW Curtailment: 860.65,\n",
      "MW Total: 951.58\n",
      "\n",
      "Running Model With LCOE= 110.00\n"
     ]
    },
    {
     "name": "stderr",
     "output_type": "stream",
     "text": [
      " 25%|██▌       | 3/12 [02:44<08:26, 56.29s/it]"
     ]
    },
    {
     "name": "stdout",
     "output_type": "stream",
     "text": [
      "LCOE OPT: 110.00,\n",
      " MW Wind: 1600.19,\n",
      "MW Wave: 0.00,\n",
      "MW Kite: 0.00,\n",
      "MW Curtailment: 675.92,\n",
      "MW Total: 924.27\n",
      "\n",
      "Running Model With LCOE= 100.00\n"
     ]
    },
    {
     "name": "stderr",
     "output_type": "stream",
     "text": [
      " 33%|███▎      | 4/12 [03:37<07:19, 54.92s/it]"
     ]
    },
    {
     "name": "stdout",
     "output_type": "stream",
     "text": [
      "LCOE OPT: 99.72,\n",
      " MW Wind: 1425.54,\n",
      "MW Wave: 0.00,\n",
      "MW Kite: 0.00,\n",
      "MW Curtailment: 528.78,\n",
      "MW Total: 896.76\n",
      "\n",
      "Running Model With LCOE= 90.00\n"
     ]
    },
    {
     "name": "stderr",
     "output_type": "stream",
     "text": [
      " 42%|████▏     | 5/12 [04:19<05:53, 50.43s/it]"
     ]
    },
    {
     "name": "stdout",
     "output_type": "stream",
     "text": [
      "LCOE OPT: 89.81,\n",
      " MW Wind: 1219.24,\n",
      "MW Wave: 0.00,\n",
      "MW Kite: 0.00,\n",
      "MW Curtailment: 361.48,\n",
      "MW Total: 857.76\n",
      "\n",
      "Running Model With LCOE= 80.00\n"
     ]
    },
    {
     "name": "stderr",
     "output_type": "stream",
     "text": [
      " 50%|█████     | 6/12 [05:20<05:23, 53.99s/it]"
     ]
    },
    {
     "name": "stdout",
     "output_type": "stream",
     "text": [
      "LCOE OPT: 79.70,\n",
      " MW Wind: 1002.35,\n",
      "MW Wave: 0.00,\n",
      "MW Kite: 0.00,\n",
      "MW Curtailment: 200.68,\n",
      "MW Total: 801.67\n",
      "\n",
      "Running Model With LCOE= 75.00\n"
     ]
    },
    {
     "name": "stderr",
     "output_type": "stream",
     "text": [
      " 58%|█████▊    | 7/12 [06:25<04:48, 57.70s/it]"
     ]
    },
    {
     "name": "stdout",
     "output_type": "stream",
     "text": [
      "LCOE OPT: 75.00,\n",
      " MW Wind: 901.04,\n",
      "MW Wave: 0.00,\n",
      "MW Kite: 0.00,\n",
      "MW Curtailment: 139.90,\n",
      "MW Total: 761.14\n",
      "\n",
      "Running Model With LCOE= 70.00\n"
     ]
    },
    {
     "name": "stderr",
     "output_type": "stream",
     "text": [
      " 67%|██████▋   | 8/12 [07:17<03:43, 55.85s/it]"
     ]
    },
    {
     "name": "stdout",
     "output_type": "stream",
     "text": [
      "LCOE OPT: 69.92,\n",
      " MW Wind: 758.94,\n",
      "MW Wave: 0.00,\n",
      "MW Kite: 0.00,\n",
      "MW Curtailment: 54.24,\n",
      "MW Total: 704.70\n",
      "\n",
      "Running Model With LCOE= 65.00\n"
     ]
    },
    {
     "name": "stderr",
     "output_type": "stream",
     "text": [
      " 75%|███████▌  | 9/12 [07:27<02:04, 41.49s/it]"
     ]
    },
    {
     "name": "stdout",
     "output_type": "stream",
     "text": [
      "LCOE OPT: 64.93,\n",
      " MW Wind: 603.36,\n",
      "MW Wave: 0.00,\n",
      "MW Kite: 0.00,\n",
      "MW Curtailment: 3.33,\n",
      "MW Total: 600.03\n",
      "\n",
      "Running Model With LCOE= 60.00\n",
      "WARNING: Loading a SolverResults object with a warning status into\n",
      "    model.name=\"unknown\";\n",
      "      - termination condition: infeasibleOrUnbounded\n",
      "      - message from solver: <undefined>\n"
     ]
    },
    {
     "name": "stderr",
     "output_type": "stream",
     "text": [
      " 75%|███████▌  | 9/12 [07:32<02:30, 50.24s/it]\n"
     ]
    }
   ],
   "source": [
    "GeneralPathResources=\"./OutputData/\"\n",
    "PathWindDesigns=[]\n",
    "\n",
    "\n",
    "PathWindDesigns.append(GeneralPathResources+\"Wind/BOEM_2007_Upscale24h_0.02Degree_GenCost_ATB_18MW_2030.npz\")\n",
    "\n",
    "PathKiteDesigns=[]\n",
    "PathKiteDesigns.append(GeneralPathResources+\"OceanCurrent/PowerTimeSeriesKite_VD50_BCS2.5.npz\")\n",
    "PathKiteDesigns.append(GeneralPathResources+\"OceanCurrent/PowerTimeSeriesKite_VD50_BCS2.0.npz\")\n",
    "PathKiteDesigns.append(GeneralPathResources+\"OceanCurrent/PowerTimeSeriesKite_VD50_BCS1.5.npz\")\n",
    "PathKiteDesigns.append(GeneralPathResources+\"OceanCurrent/PowerTimeSeriesKite_VD50_BCS1.npz\")\n",
    "PathWaveDesigns=[]\n",
    "\n",
    "\n",
    "PathTransmissionDesign=[]\n",
    "PathTransmissionDesign.append(GeneralPathResources+\"Transmission/Transmission_1200MW.npz\")\n",
    "\n",
    "\n",
    "LCOE_RANGE=[130,120,110,100,90,80,75,70,65,60,55,50,40,30,20,10]\n",
    "Max_CollectionRadious=30\n",
    "MaxDesingsKite=2\n",
    "MaxDesignsWind=1\n",
    "MaxDesingsWave=0\n",
    "MinNumWindTurb=0\n",
    "MinNumWaveTurb=0\n",
    "MinNumKiteTrub=0\n",
    "\n",
    "\n",
    "SavePath=\"./OutputData/Portfolios/Wind18MWBOEM_4KiteDesings_1200MW.npz\"\n",
    "ReadMe=\"Test\"\n",
    "\n",
    "# #Create and solve the optimization problem\n",
    "SolvePortOpt_MaxGen_LCOE_Iterator(PathWindDesigns, PathWaveDesigns, PathKiteDesigns, PathTransmissionDesign[0], LCOE_RANGE\\\n",
    "    ,Max_CollectionRadious,MaxDesignsWind, MaxDesingsWave, MaxDesingsKite,MinNumWindTurb,MinNumWaveTurb,MinNumKiteTrub\\\n",
    "    ,ReadMe,SavePath=SavePath)\n"
   ]
  },
  {
   "cell_type": "code",
   "execution_count": null,
   "metadata": {},
   "outputs": [],
   "source": [
    "GeneralPathResources=\"./OutputData/\"\n",
    "PathWindDesigns=[]\n",
    "\n",
    "\n",
    "PathWindDesigns.append(GeneralPathResources+\"Wind/BOEM_2007_Upscale24h_0.02Degree_GenCost_ATB_18MW_2030.npz\")\n",
    "\n",
    "PathKiteDesigns=[]\n",
    "PathWaveDesigns=[]\n",
    "\n",
    "\n",
    "PathTransmissionDesign=[]\n",
    "PathTransmissionDesign.append(GeneralPathResources+\"Transmission/Transmission_1200MW.npz\")\n",
    "\n",
    "\n",
    "LCOE_RANGE=[130,120,110,100,90,80,75,70,65,60,55,50,40,30,20,10]\n",
    "Max_CollectionRadious=30\n",
    "MaxDesingsKite=2\n",
    "MaxDesignsWind=1\n",
    "MaxDesingsWave=0\n",
    "MinNumWindTurb=0\n",
    "MinNumWaveTurb=0\n",
    "MinNumKiteTrub=0\n",
    "\n",
    "\n",
    "SavePath=\"./OutputData/Portfolios/Wind18MWBOEM_0KiteDesings_1200MW.npz\"\n",
    "ReadMe=\"Test\"\n",
    "\n",
    "# #Create and solve the optimization problem\n",
    "SolvePortOpt_MaxGen_LCOE_Iterator(PathWindDesigns, PathWaveDesigns, PathKiteDesigns, PathTransmissionDesign[0], LCOE_RANGE\\\n",
    "    ,Max_CollectionRadious,MaxDesignsWind, MaxDesingsWave, MaxDesingsKite,MinNumWindTurb,MinNumWaveTurb,MinNumKiteTrub\\\n",
    "    ,ReadMe,SavePath=SavePath)\n"
   ]
  }
 ],
 "metadata": {
  "kernelspec": {
   "display_name": "Gurobi",
   "language": "python",
   "name": "python3"
  },
  "language_info": {
   "codemirror_mode": {
    "name": "ipython",
    "version": 3
   },
   "file_extension": ".py",
   "mimetype": "text/x-python",
   "name": "python",
   "nbconvert_exporter": "python",
   "pygments_lexer": "ipython3",
   "version": "3.10.6"
  }
 },
 "nbformat": 4,
 "nbformat_minor": 2
}
