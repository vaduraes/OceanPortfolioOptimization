{
 "cells": [
  {
   "cell_type": "code",
   "execution_count": 2,
   "metadata": {},
   "outputs": [],
   "source": [
    "from numpy.random import randn\n",
    "import numpy as np\n",
    "import matplotlib.pyplot as plt\n",
    "from tqdm import tqdm\n",
    "import os\n",
    "import csv\n",
    "import xarray as xr\n",
    "import pandas as pd"
   ]
  },
  {
   "cell_type": "markdown",
   "metadata": {},
   "source": [
    "# System Parameters"
   ]
  },
  {
   "cell_type": "code",
   "execution_count": 17,
   "metadata": {},
   "outputs": [],
   "source": [
    "RatedPower_Generation=200#[MW] #Maximum amout of power the transmission line can carry"
   ]
  },
  {
   "cell_type": "markdown",
   "metadata": {},
   "source": [
    "# Cable Parameters"
   ]
  },
  {
   "cell_type": "code",
   "execution_count": 9,
   "metadata": {},
   "outputs": [],
   "source": [
    "#AC cables (Three-core cables with copper wire screen)\n",
    "dataframe1 = pd.read_excel('AC_Cables.xlsx')\n",
    "AC_CableData=dataframe1.loc[0:75,:]"
   ]
  },
  {
   "cell_type": "code",
   "execution_count": 32,
   "metadata": {},
   "outputs": [],
   "source": [
    "def Admitance(idxCable, LineLength,RatedPower_Generation, AC_CableData):\n",
    "    #LineLength in [km]\n",
    "    #AC_CableData: excel table with AC cable data\n",
    "    #idxCable: index of the cable you are investigating\n",
    "    \n",
    "    V=AC_CableData['Voltage [KV]'][idxCable]\n",
    "    R=AC_CableData['Resistance [Ohm/Km]'][idxCable]\n",
    "    C=AC_CableData['Capacitance [MicroF/Km]'][idxCable]\n",
    "    L=AC_CableData['Inductance [mF/Km]'][idxCable]\n",
    "    Max_MVA=AC_CableData[\" MVA Capacity\"][idxCable]\n",
    "    \n",
    "    Cost_PM=AC_CableData['Cable Cost [$/m]'][idxCable]\n",
    "    \n",
    "    Gamma=np.sqrt((R + (2*np.pi*60*L*10**(-3))*1.j)*(2*np.pi*60*C*10**(-6)*1.j))\n",
    "    Y=2*np.pi*60*C*10**(-6)*LineLength*np.tanh(Gamma*LineLength/2)/(Gamma*LineLength/2)*1.j #Admitance\n",
    "    Q=Y.imag*V**2 #MVar #Reactive power\n",
    "    \n",
    "    \n",
    "    \n",
    "    #MaxP_Allowed: Max MW possible to transmit\n",
    "    if (Max_MVA**2-(Q/2)**2)<=0:\n",
    "        MaxP_Allowed=-1\n",
    "        S_LT=-1\n",
    "        NumConductors=0 #the cable cannot be used to trasmit power for this system\n",
    "        #It would only carry reactive power\n",
    "        \n",
    "    else:\n",
    "        MaxP_Allowed=np.sqrt(Max_MVA**2-(Q/2)**2)*2 #Per conductor\n",
    "        if  RatedPower_Generation>MaxP_Allowed:\n",
    "            NumConductors=np.ceil(RatedPower_Generation/MaxP_Allowed)\n",
    "            \n",
    "        if  RatedPower_Generation<=MaxP_Allowed:\n",
    "            NumConductors=1\n",
    "\n",
    "        S_LT=Max_MVA*NumConductors # Total power capacity of the line [MVA]\n",
    "    \n",
    "    return Q*NumConductors, MaxP_Allowed, Y, Gamma, NumConductors, S_LT\n",
    "    "
   ]
  },
  {
   "cell_type": "code",
   "execution_count": 39,
   "metadata": {},
   "outputs": [
    {
     "data": {
      "text/plain": [
       "(19.55618721039539, 2.0)"
      ]
     },
     "execution_count": 39,
     "metadata": {},
     "output_type": "execute_result"
    }
   ],
   "source": [
    "AnnualizedCostTL_AC(5, 120, RatedPower_Generation, AC_CableData)\n"
   ]
  },
  {
   "cell_type": "code",
   "execution_count": 23,
   "metadata": {},
   "outputs": [
    {
     "data": {
      "text/plain": [
       "(7.815908815315083, 1)"
      ]
     },
     "execution_count": 23,
     "metadata": {},
     "output_type": "execute_result"
    }
   ],
   "source": [
    "\n",
    "AnnualizedCostTL_AC(1, 100, RatedPower_Generation, AC_CableData)"
   ]
  },
  {
   "cell_type": "code",
   "execution_count": 34,
   "metadata": {},
   "outputs": [],
   "source": [
    "AnnualizedCostTL_AC(idxCable, D_SL, RatedPower_Generation, AC_CableData)"
   ]
  },
  {
   "cell_type": "code",
   "execution_count": 28,
   "metadata": {},
   "outputs": [
    {
     "data": {
      "text/plain": [
       "62.540480843604804"
      ]
     },
     "execution_count": 28,
     "metadata": {},
     "output_type": "execute_result"
    }
   ],
   "source": [
    "MaxP_Allowed"
   ]
  },
  {
   "cell_type": "code",
   "execution_count": 31,
   "metadata": {},
   "outputs": [
    {
     "data": {
      "text/plain": [
       "4.0"
      ]
     },
     "execution_count": 31,
     "metadata": {},
     "output_type": "execute_result"
    }
   ],
   "source": [
    "NumConductors"
   ]
  },
  {
   "cell_type": "markdown",
   "metadata": {},
   "source": [
    "# Maximum Length For Each Nominal Cable"
   ]
  },
  {
   "cell_type": "code",
   "execution_count": null,
   "metadata": {},
   "outputs": [],
   "source": []
  }
 ],
 "metadata": {
  "interpreter": {
   "hash": "b7e4da0be000042da30986b125ac998c2888ee96c4216c9a0b66eb1cc0e56268"
  },
  "kernelspec": {
   "display_name": "Python 3 (ipykernel)",
   "language": "python",
   "name": "python3"
  },
  "language_info": {
   "codemirror_mode": {
    "name": "ipython",
    "version": 3
   },
   "file_extension": ".py",
   "mimetype": "text/x-python",
   "name": "python",
   "nbconvert_exporter": "python",
   "pygments_lexer": "ipython3",
   "version": "3.7.11"
  }
 },
 "nbformat": 4,
 "nbformat_minor": 2
}
