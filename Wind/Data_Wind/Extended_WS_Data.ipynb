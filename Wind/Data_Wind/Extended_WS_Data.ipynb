{
 "cells": [
  {
   "cell_type": "code",
   "execution_count": 21,
   "metadata": {},
   "outputs": [],
   "source": [
    "import numpy as np\n",
    "D1=np.load(\"windspeed_140m_D200m.npz\")\n",
    "D2=np.load(\"windspeed_140m_D1000m.npz\")\n",
    "\n",
    "windspeed=np.concatenate((D1[\"windspeed\"].mean(axis=0),D2[\"windspeed\"].mean(axis=0)))\n",
    "LatLong=np.concatenate((D1[\"LatLong\"],D2[\"LatLong\"]))\n",
    "np.savez(\"average_WS_140m.npz\",windspeed=windspeed,LatLong=LatLong)"
   ]
  }
 ],
 "metadata": {
  "kernelspec": {
   "display_name": "py37",
   "language": "python",
   "name": "python3"
  },
  "language_info": {
   "codemirror_mode": {
    "name": "ipython",
    "version": 3
   },
   "file_extension": ".py",
   "mimetype": "text/x-python",
   "name": "python",
   "nbconvert_exporter": "python",
   "pygments_lexer": "ipython3",
   "version": "3.9.18"
  }
 },
 "nbformat": 4,
 "nbformat_minor": 2
}
