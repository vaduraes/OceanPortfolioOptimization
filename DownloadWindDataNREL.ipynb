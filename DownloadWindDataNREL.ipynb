{
 "cells": [
  {
   "cell_type": "code",
   "execution_count": null,
   "metadata": {},
   "outputs": [],
   "source": [
    "#Download data from NREL wind toolkit\n",
    "import sys\n",
    "sys.path.append('./Tools')\n",
    "from DownloadNREL_Wind import DonwloadNREL_WindData\n",
    "\n",
    "\n",
    "ListOfAvailableData=[\"winddirection_100m\",\"winddirection_10m\",\"winddirection_120m\",\"winddirection_140m\",\"winddirection_160m\",\n",
    "                    \"winddirection_200m\",\"winddirection_40m\",\"winddirection_60m\",\"winddirection_80m\",\n",
    "                    \"windspeed_100m\",\"windspeed_10m\",\"windspeed_120m\",\"windspeed_140m\",\"windspeed_160m\",\"windspeed_200m\",\n",
    "                    \"windspeed_40m\",\"windspeed_60m\",\"windspeed_80m\"]\n",
    "\n",
    "\n",
    "InputDataPath=\"./InputData\"\n",
    "Data2Download=\"windspeed_100m\" #100, 140, 160\n",
    "SavePath=\"./InputData/Wind/\"+Data2Download+\".npz\"\n",
    "\n",
    "\n",
    "LatMinMax=(34, 34.5)   #(33, 37)\n",
    "LongMinMax=(-76.5,-76) #(-81,-73)\n",
    "DepthMinMax=(0,5000)   #(0,1000)\n",
    "\n",
    "DonwloadNREL_WindData(InputDataPath, SavePath, Data2Download=Data2Download, LatMinMax=LatMinMax, LongMinMax=LongMinMax, DepthMinMax=DepthMinMax)"
   ]
  }
 ],
 "metadata": {
  "kernelspec": {
   "display_name": "geo_env",
   "language": "python",
   "name": "python3"
  },
  "language_info": {
   "codemirror_mode": {
    "name": "ipython",
    "version": 3
   },
   "file_extension": ".py",
   "mimetype": "text/x-python",
   "name": "python",
   "nbconvert_exporter": "python",
   "pygments_lexer": "ipython3",
   "version": "3.11.3"
  },
  "orig_nbformat": 4
 },
 "nbformat": 4,
 "nbformat_minor": 2
}
