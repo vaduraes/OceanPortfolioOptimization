{
 "cells": [
  {
   "attachments": {},
   "cell_type": "markdown",
   "metadata": {},
   "source": [
    "# Libs and Inputs"
   ]
  },
  {
   "cell_type": "code",
   "execution_count": 7,
   "metadata": {},
   "outputs": [],
   "source": [
    "from __future__ import division\n",
    "from pyomo.environ import *\n",
    "import numpy as np\n",
    "import time\n",
    "from tqdm import tqdm\n",
    "from GetIdxInOutRadious import GetIdxOutRadious, GetIdxInRadious_V1\n",
    "import matlab.engine\n",
    "from multiprocessing import Pool\n",
    "import multiprocessing\n",
    "from tqdm import tqdm\n",
    "from joblib import Parallel, delayed\n",
    "import numpy as np\n",
    "import geopandas as gpd\n",
    "import matplotlib.pyplot as plt\n",
    "\n",
    "\n",
    "LCOE_Max=range(200,30,-2) #LCOEs investigated\n",
    "Radious=30 #Radious for the energy collection system\n",
    "\n",
    "ShapeFileCoast=\"./GEO_data/ne_10m_coastline.shp\"\n",
    "ShapeFileStates=\"./GEO_data/ne_10m_admin_1_states_provinces_lines.shp\"\n",
    "\n",
    "WindKiteTrsData=np.load('PreprocessedData.npz',allow_pickle=True)\n",
    "\n",
    "ResultsFileName='PortfolioOptimizationWindKite'\n",
    "\n",
    "# Tasks:\n",
    "#1. Create a limit in the number of turbines for each tech based on the max transmission (eg- wind 100, kite- 50)\n",
    "#2. Simulation 1- Optimize with only wind for a maximum num of turbines\n",
    "\n",
    "#3. Simulation 2- Optimize with wind and kite same transmission system\n",
    "#4. Simulation 3- Optimize with wind and kite kite with its own transmission system connecting to the offshore wind platform\n"
   ]
  },
  {
   "attachments": {},
   "cell_type": "markdown",
   "metadata": {},
   "source": [
    "# Stage 1 Optimization"
   ]
  },
  {
   "cell_type": "code",
   "execution_count": 2,
   "metadata": {},
   "outputs": [],
   "source": [
    "#LF kite and optimal kite design at each site location"
   ]
  },
  {
   "attachments": {},
   "cell_type": "markdown",
   "metadata": {},
   "source": [
    "## Prepare Data For the Optimization Model"
   ]
  },
  {
   "cell_type": "code",
   "execution_count": 8,
   "metadata": {},
   "outputs": [],
   "source": [
    "#Wind Data\n",
    "WindEnergy=WindKiteTrsData['WindEnergy']\n",
    "WindLatLong=WindKiteTrsData['WindLatLong']\n",
    "AnnualizedCostWind=WindKiteTrsData['AnnualizedCostWind']\n",
    "MaxNumWindPerSite=WindKiteTrsData['MaxNumWindPerSite']\n",
    "\n",
    "#Kite Data\n",
    "KiteEnergy=WindKiteTrsData['KiteEnergy']\n",
    "KiteLatLong=WindKiteTrsData['KiteLatLong']\n",
    "AnnualizedCostKite=WindKiteTrsData['AnnualizedCostKite']\n",
    "MaxNumKitesPerSite=WindKiteTrsData['MaxNumKitesPerSite']\n",
    "\n",
    "#Transmission Data\n",
    "AnnualizedCostTransmission=WindKiteTrsData['Wind_AnnualizedCostTransmission']\n",
    "TransLatLong=WindKiteTrsData['Wind_TransLatLong']\n",
    "EfficiencyTransmission=WindKiteTrsData['Wind_EfficiencyTransmission']\n",
    "MaxPowerTransmission=float(WindKiteTrsData['Wind_MaxPowerTransmission'])\n",
    "\n",
    "TimeStepHours=WindKiteTrsData['TimeStepHours'] #Number of hours for each time step"
   ]
  },
  {
   "cell_type": "code",
   "execution_count": 9,
   "metadata": {},
   "outputs": [],
   "source": [
    "#Vectorize maximum number of turbines per site location per technology\n",
    "Nu=np.concatenate((MaxNumWindPerSite,MaxNumKitesPerSite))\n",
    "\n",
    "#Vectorize annualized cost for each site location and per technology\n",
    "AnnCost=np.concatenate((AnnualizedCostWind,AnnualizedCostKite)) #Annualized cost [$/Year]\n",
    "\n",
    "#Vectorize energy generation in each site location and energy resource\n",
    "EnergyGeneration=np.concatenate((WindEnergy,KiteEnergy),axis=0) #MW ()\n",
    "\n",
    "NumWindSites=WindEnergy.shape[0]\n",
    "NumKiteSites=KiteEnergy.shape[0]\n",
    "\n",
    "NumTrasmissionSites=TransLatLong.shape[0]\n",
    "\n",
    "NumTimeSteps=WindEnergy.shape[1]"
   ]
  },
  {
   "attachments": {},
   "cell_type": "markdown",
   "metadata": {},
   "source": [
    "## Build Optimization Model Structure"
   ]
  },
  {
   "cell_type": "code",
   "execution_count": 17,
   "metadata": {},
   "outputs": [],
   "source": [
    "MILP = ConcreteModel()\n",
    "BigM=10000\n",
    "# Create Sets\n",
    "MILP.SiteWind = RangeSet(0,NumWindSites-1)\n",
    "MILP.SiteKite = RangeSet(0,NumKiteSites-1)\n",
    "MILP.SiteTrs  = RangeSet(0,NumTrasmissionSites-1)\n",
    "\n",
    "MILP.TimeSteps = RangeSet(0,NumTimeSteps-1)\n",
    "\n",
    "# Create Variables\n",
    "MILP.Y_Wind = Var(MILP.SiteWind, domain=NonNegativeIntegers)# Integer variable to track the number of wind turbines used per site location\n",
    "MILP.Y_Kite = Var(MILP.SiteKite, domain=NonNegativeIntegers)# Integer variable to track the number of wind turbines used per site location\n",
    "\n",
    "MILP.s = Var(MILP.SiteTrs, domain=Binary)# Binary variable to track the center of the energy collection system\n",
    "MILP.Delta = Var(MILP.TimeSteps, domain=NonNegativeReals) #Curtailment variable\n",
    "\n",
    "#Objective Function\n",
    "def objective_rule(MILP):   \n",
    "    EGWind=sum(MILP.Y_Wind[i]*np.average(WindEnergy[i,:]) for i in MILP.SiteWind) #Energy generation from wind turbines\n",
    "    EGKite=sum(MILP.Y_Kite[i]*np.average(KiteEnergy[i,:]) for i in MILP.SiteKite) #Energy generation from kite turbines\n",
    "\n",
    "    TotalCurtailment=sum(MILP.Delta[t] for t in MILP.TimeSteps)/NumTimeSteps #Average curtailment MW\n",
    "\n",
    "    Obj=(EGWind+EGKite-TotalCurtailment)#*24*365#Mwh/year\n",
    "    return Obj\n",
    "\n",
    "MILP.OBJ = Objective(rule = objective_rule, sense=maximize)\n",
    "\n",
    "#Constraints\n",
    "\n",
    "#Maximum number of turbines per site location wind\n",
    "def MaxTurbinesCell_Wind_rule(MILP,i):\n",
    "    return MILP.Y_Wind[i]<=MaxNumWindPerSite[i]\n",
    "MILP.Turbines_Cell_Wind = Constraint(MILP.SiteWind, rule=MaxTurbinesCell_Wind_rule)\n",
    "\n",
    "#Maximum number of turbines per site location kite\n",
    "def MaxTurbinesCell_Kite_rule(MILP,i):\n",
    "    return MILP.Y_Kite[i]<=MaxNumKitesPerSite[i]\n",
    "MILP.Turbines_Cell_Kite = Constraint(MILP.SiteKite, rule=MaxTurbinesCell_Kite_rule)\n",
    "\n",
    "\n",
    "#Curtailment constraint\n",
    "def Curtailment_rule(MILP,t):\n",
    "    EGWind=sum(MILP.Y_Wind[i]*WindEnergy[i,t] for i in MILP.SiteWind) #Energy generation from wind turbines\n",
    "    EGKite=sum(MILP.Y_Kite[i]*KiteEnergy[i,t] for i in MILP.SiteKite) #Energy generation from kite turbines\n",
    "\n",
    "    return -MILP.Delta[t]+ EGWind+ EGKite<=MaxPowerTransmission\n",
    "\n",
    "MILP.Curtailment = Constraint(MILP.TimeSteps, rule=Curtailment_rule)\n",
    "\n",
    "\n",
    "#---Choose center collection system - Start\n",
    "MILP.ChooseOneCircle= Constraint(expr=sum(MILP.s[i] for i in MILP.SiteTrs)==1)\n",
    "\n",
    "#Get the sites that are out of the radious of the center of the collection system\n",
    "IdxOutWind=GetIdxOutRadious(TransLatLong, WindLatLong,Radious)\n",
    "IdxOutKite=GetIdxOutRadious(TransLatLong, KiteLatLong,Radious)\n",
    "\n",
    "def MaximumRadious(MILP,i):  \n",
    "    SumWind_s=sum(MILP.Y_Wind[j] for j in IdxOutWind[i])\n",
    "    SumKite_s=sum(MILP.Y_Kite[j] for j in IdxOutKite[i])\n",
    "\n",
    "    return SumWind_s+SumKite_s<=(1-MILP.s[i])*BigM # 300 is a big M for the maximum total number of turbines installed       \n",
    "\n",
    "MILP.Maximum_Radious = Constraint(MILP.SiteTrs, rule=MaximumRadious)\n",
    "#---Choose center collection system - End\n",
    "\n",
    "\n",
    "#LCOE Target\n",
    "def LCOETarget_S1(MILP,LCOE_Max):  \n",
    "    EG_Wind=sum(MILP.Y_Wind[i]*np.average(WindEnergy[i,:]) for i in MILP.SiteWind) #Average MW for wind\n",
    "    EG_Kite=sum(MILP.Y_Kite[i]*np.average(KiteEnergy[i,:]) for i in MILP.SiteKite) #Average MW for kite\n",
    "    TotalCurtailment=sum(MILP.Delta[i] for i in MILP.TimeSteps)/NumTimeSteps #Average curtailment MW\n",
    "    \n",
    "    MWh=(EG_Kite+EG_Wind-TotalCurtailment)*24*365 #MWh\n",
    "\n",
    "    Cost_Wind=sum(MILP.Y_Wind[i]*AnnualizedCostWind[i] for i in MILP.SiteWind)\n",
    "    Cost_Kite=sum(MILP.Y_Kite[i]*AnnualizedCostKite[i] for i in MILP.SiteKite)\n",
    "    Cost_Transmission=sum(MILP.s[i]*AnnualizedCostTransmission[i] for i in MILP.SiteTrs)\n",
    "    Cost=Cost_Wind+Cost_Kite+Cost_Transmission\n",
    "\n",
    "    return Cost<=LCOE_Max*MWh  \n",
    "\n",
    "#Limit the number of turbines\n",
    "#MILP.SetNumTurbines= Constraint(expr=sum(MILP.Y_Kite[i] for i in MILP.SiteKite)==315) #optimal solution with only wind turbines\n",
    "#MILP.SetNumTurbines= Constraint(expr=sum(MILP.Y_Kite[i] for i in MILP.SiteKite)==122) #optimal solution with only wind turbines\n",
    "#MILP.SetNumTurbines= Constraint(expr=sum(MILP.Y_Wind[i] for i in MILP.SiteWind)==122)\n",
    "MILP.SetNumTurbines= Constraint(expr=sum(MILP.Y_Wind[i]*np.average(WindEnergy[i,:]) for i in MILP.SiteWind)>=315)\n",
    "\n",
    "opt = SolverFactory('gurobi', solver_io=\"python\")\n",
    "opt.options['mipgap'] = 0.05\n",
    "#opt.options['max_iter'] = 500"
   ]
  },
  {
   "attachments": {},
   "cell_type": "markdown",
   "metadata": {},
   "source": [
    "## Solve Portfolio Optimization Stage 1 "
   ]
  },
  {
   "cell_type": "code",
   "execution_count": 18,
   "metadata": {},
   "outputs": [
    {
     "name": "stderr",
     "output_type": "stream",
     "text": [
      "  0%|          | 0/85 [00:00<?, ?it/s]"
     ]
    },
    {
     "name": "stdout",
     "output_type": "stream",
     "text": [
      "Running Model With LCOE= 200.00\n"
     ]
    },
    {
     "name": "stderr",
     "output_type": "stream",
     "text": [
      "  1%|          | 1/85 [00:09<13:00,  9.29s/it]"
     ]
    },
    {
     "name": "stdout",
     "output_type": "stream",
     "text": [
      "MW Wind: 618.17,\n",
      "MW Kite: 903.01,\n",
      "MW Curtailment: 926.39,\n",
      "MW Total: 594.80\n",
      "\n",
      "Running Model With LCOE= 198.00\n"
     ]
    },
    {
     "name": "stderr",
     "output_type": "stream",
     "text": [
      "  2%|▏         | 2/85 [00:16<11:01,  7.97s/it]"
     ]
    },
    {
     "name": "stdout",
     "output_type": "stream",
     "text": [
      "MW Wind: 726.35,\n",
      "MW Kite: 633.63,\n",
      "MW Curtailment: 776.12,\n",
      "MW Total: 583.87\n",
      "\n",
      "Running Model With LCOE= 196.00\n"
     ]
    },
    {
     "name": "stderr",
     "output_type": "stream",
     "text": [
      "  4%|▎         | 3/85 [00:22<09:34,  7.00s/it]"
     ]
    },
    {
     "name": "stdout",
     "output_type": "stream",
     "text": [
      "MW Wind: 463.63,\n",
      "MW Kite: 553.84,\n",
      "MW Curtailment: 439.78,\n",
      "MW Total: 577.69\n",
      "\n",
      "Running Model With LCOE= 152.00\n"
     ]
    },
    {
     "name": "stderr",
     "output_type": "stream",
     "text": [
      " 29%|██▉       | 25/85 [00:27<00:41,  1.44it/s]"
     ]
    },
    {
     "name": "stdout",
     "output_type": "stream",
     "text": [
      "MW Wind: 316.81,\n",
      "MW Kite: 935.20,\n",
      "MW Curtailment: 659.30,\n",
      "MW Total: 592.71\n",
      "\n",
      "Running Model With LCOE= 150.00\n"
     ]
    },
    {
     "name": "stderr",
     "output_type": "stream",
     "text": [
      " 31%|███       | 26/85 [00:33<00:59,  1.00s/it]"
     ]
    },
    {
     "name": "stdout",
     "output_type": "stream",
     "text": [
      "MW Wind: 316.81,\n",
      "MW Kite: 940.20,\n",
      "MW Curtailment: 661.56,\n",
      "MW Total: 595.45\n",
      "\n",
      "Running Model With LCOE= 148.00\n"
     ]
    },
    {
     "name": "stderr",
     "output_type": "stream",
     "text": [
      " 32%|███▏      | 27/85 [00:39<01:18,  1.35s/it]"
     ]
    },
    {
     "name": "stdout",
     "output_type": "stream",
     "text": [
      "MW Wind: 316.81,\n",
      "MW Kite: 910.09,\n",
      "MW Curtailment: 631.97,\n",
      "MW Total: 594.93\n",
      "\n",
      "Running Model With LCOE= 146.00\n"
     ]
    },
    {
     "name": "stderr",
     "output_type": "stream",
     "text": [
      " 33%|███▎      | 28/85 [00:45<01:41,  1.78s/it]"
     ]
    },
    {
     "name": "stdout",
     "output_type": "stream",
     "text": [
      "MW Wind: 432.72,\n",
      "MW Kite: 633.63,\n",
      "MW Curtailment: 488.91,\n",
      "MW Total: 577.44\n",
      "\n",
      "Running Model With LCOE= 144.00\n"
     ]
    },
    {
     "name": "stderr",
     "output_type": "stream",
     "text": [
      " 34%|███▍      | 29/85 [00:51<02:08,  2.29s/it]"
     ]
    },
    {
     "name": "stdout",
     "output_type": "stream",
     "text": [
      "MW Wind: 316.81,\n",
      "MW Kite: 878.07,\n",
      "MW Curtailment: 601.41,\n",
      "MW Total: 593.47\n",
      "\n",
      "Running Model With LCOE= 142.00\n"
     ]
    },
    {
     "name": "stderr",
     "output_type": "stream",
     "text": [
      " 35%|███▌      | 30/85 [00:56<02:33,  2.79s/it]"
     ]
    },
    {
     "name": "stdout",
     "output_type": "stream",
     "text": [
      "MW Wind: 316.81,\n",
      "MW Kite: 859.62,\n",
      "MW Curtailment: 586.78,\n",
      "MW Total: 589.65\n",
      "\n",
      "Running Model With LCOE= 140.00\n"
     ]
    },
    {
     "name": "stderr",
     "output_type": "stream",
     "text": [
      " 36%|███▋      | 31/85 [01:02<02:59,  3.33s/it]"
     ]
    },
    {
     "name": "stdout",
     "output_type": "stream",
     "text": [
      "MW Wind: 316.81,\n",
      "MW Kite: 836.29,\n",
      "MW Curtailment: 560.99,\n",
      "MW Total: 592.11\n",
      "\n",
      "Running Model With LCOE= 138.00\n"
     ]
    },
    {
     "name": "stderr",
     "output_type": "stream",
     "text": [
      " 38%|███▊      | 32/85 [01:08<03:27,  3.92s/it]"
     ]
    },
    {
     "name": "stdout",
     "output_type": "stream",
     "text": [
      "MW Wind: 316.81,\n",
      "MW Kite: 860.91,\n",
      "MW Curtailment: 587.92,\n",
      "MW Total: 589.81\n",
      "\n",
      "Running Model With LCOE= 136.00\n"
     ]
    },
    {
     "name": "stderr",
     "output_type": "stream",
     "text": [
      " 39%|███▉      | 33/85 [01:14<03:46,  4.36s/it]"
     ]
    },
    {
     "name": "stdout",
     "output_type": "stream",
     "text": [
      "MW Wind: 316.81,\n",
      "MW Kite: 764.03,\n",
      "MW Curtailment: 494.40,\n",
      "MW Total: 586.45\n",
      "\n",
      "Running Model With LCOE= 134.00\n"
     ]
    },
    {
     "name": "stderr",
     "output_type": "stream",
     "text": [
      " 40%|████      | 34/85 [01:20<03:58,  4.68s/it]"
     ]
    },
    {
     "name": "stdout",
     "output_type": "stream",
     "text": [
      "MW Wind: 316.81,\n",
      "MW Kite: 757.18,\n",
      "MW Curtailment: 485.04,\n",
      "MW Total: 588.95\n",
      "\n",
      "Running Model With LCOE= 132.00\n"
     ]
    },
    {
     "name": "stderr",
     "output_type": "stream",
     "text": [
      " 41%|████      | 35/85 [01:26<04:07,  4.95s/it]"
     ]
    },
    {
     "name": "stdout",
     "output_type": "stream",
     "text": [
      "MW Wind: 316.81,\n",
      "MW Kite: 704.13,\n",
      "MW Curtailment: 436.70,\n",
      "MW Total: 584.25\n",
      "\n",
      "Running Model With LCOE= 130.00\n"
     ]
    },
    {
     "name": "stderr",
     "output_type": "stream",
     "text": [
      " 42%|████▏     | 36/85 [01:32<04:14,  5.20s/it]"
     ]
    },
    {
     "name": "stdout",
     "output_type": "stream",
     "text": [
      "MW Wind: 316.81,\n",
      "MW Kite: 717.45,\n",
      "MW Curtailment: 447.96,\n",
      "MW Total: 586.30\n",
      "\n",
      "Running Model With LCOE= 128.00\n"
     ]
    },
    {
     "name": "stderr",
     "output_type": "stream",
     "text": [
      " 44%|████▎     | 37/85 [01:38<04:19,  5.41s/it]"
     ]
    },
    {
     "name": "stdout",
     "output_type": "stream",
     "text": [
      "MW Wind: 316.81,\n",
      "MW Kite: 647.43,\n",
      "MW Curtailment: 389.78,\n",
      "MW Total: 574.46\n",
      "\n",
      "Running Model With LCOE= 126.00\n"
     ]
    },
    {
     "name": "stderr",
     "output_type": "stream",
     "text": [
      " 45%|████▍     | 38/85 [01:43<04:18,  5.50s/it]"
     ]
    },
    {
     "name": "stdout",
     "output_type": "stream",
     "text": [
      "MW Wind: 316.81,\n",
      "MW Kite: 674.80,\n",
      "MW Curtailment: 408.91,\n",
      "MW Total: 582.71\n",
      "\n",
      "Running Model With LCOE= 124.00\n"
     ]
    },
    {
     "name": "stderr",
     "output_type": "stream",
     "text": [
      " 46%|████▌     | 39/85 [01:50<04:22,  5.70s/it]"
     ]
    },
    {
     "name": "stdout",
     "output_type": "stream",
     "text": [
      "MW Wind: 316.81,\n",
      "MW Kite: 652.33,\n",
      "MW Curtailment: 389.15,\n",
      "MW Total: 580.00\n",
      "\n",
      "Running Model With LCOE= 122.00\n"
     ]
    },
    {
     "name": "stderr",
     "output_type": "stream",
     "text": [
      " 47%|████▋     | 40/85 [01:56<04:21,  5.80s/it]"
     ]
    },
    {
     "name": "stdout",
     "output_type": "stream",
     "text": [
      "MW Wind: 316.81,\n",
      "MW Kite: 693.87,\n",
      "MW Curtailment: 431.99,\n",
      "MW Total: 578.70\n",
      "\n",
      "Running Model With LCOE= 120.00\n"
     ]
    },
    {
     "name": "stderr",
     "output_type": "stream",
     "text": [
      " 48%|████▊     | 41/85 [02:02<04:20,  5.92s/it]"
     ]
    },
    {
     "name": "stdout",
     "output_type": "stream",
     "text": [
      "MW Wind: 316.81,\n",
      "MW Kite: 563.49,\n",
      "MW Curtailment: 311.86,\n",
      "MW Total: 568.44\n",
      "\n",
      "Running Model With LCOE= 118.00\n"
     ]
    },
    {
     "name": "stderr",
     "output_type": "stream",
     "text": [
      " 49%|████▉     | 42/85 [02:08<04:12,  5.87s/it]"
     ]
    },
    {
     "name": "stdout",
     "output_type": "stream",
     "text": [
      "MW Wind: 316.81,\n",
      "MW Kite: 580.82,\n",
      "MW Curtailment: 326.84,\n",
      "MW Total: 570.80\n",
      "\n",
      "Running Model With LCOE= 116.00\n"
     ]
    },
    {
     "name": "stderr",
     "output_type": "stream",
     "text": [
      " 51%|█████     | 43/85 [02:13<04:00,  5.73s/it]"
     ]
    },
    {
     "name": "stdout",
     "output_type": "stream",
     "text": [
      "MW Wind: 316.81,\n",
      "MW Kite: 567.30,\n",
      "MW Curtailment: 316.85,\n",
      "MW Total: 567.26\n",
      "\n",
      "Running Model With LCOE= 114.00\n"
     ]
    },
    {
     "name": "stderr",
     "output_type": "stream",
     "text": [
      " 52%|█████▏    | 44/85 [02:19<03:55,  5.75s/it]"
     ]
    },
    {
     "name": "stdout",
     "output_type": "stream",
     "text": [
      "MW Wind: 316.81,\n",
      "MW Kite: 545.18,\n",
      "MW Curtailment: 298.96,\n",
      "MW Total: 563.03\n",
      "\n",
      "Running Model With LCOE= 112.00\n"
     ]
    },
    {
     "name": "stderr",
     "output_type": "stream",
     "text": [
      " 53%|█████▎    | 45/85 [02:24<03:46,  5.66s/it]"
     ]
    },
    {
     "name": "stdout",
     "output_type": "stream",
     "text": [
      "MW Wind: 316.81,\n",
      "MW Kite: 550.88,\n",
      "MW Curtailment: 304.42,\n",
      "MW Total: 563.27\n",
      "\n",
      "Running Model With LCOE= 110.00\n"
     ]
    },
    {
     "name": "stderr",
     "output_type": "stream",
     "text": [
      " 54%|█████▍    | 46/85 [02:30<03:38,  5.61s/it]"
     ]
    },
    {
     "name": "stdout",
     "output_type": "stream",
     "text": [
      "MW Wind: 316.81,\n",
      "MW Kite: 536.86,\n",
      "MW Curtailment: 294.79,\n",
      "MW Total: 558.87\n",
      "\n",
      "Running Model With LCOE= 108.00\n"
     ]
    },
    {
     "name": "stderr",
     "output_type": "stream",
     "text": [
      " 55%|█████▌    | 47/85 [02:35<03:32,  5.60s/it]"
     ]
    },
    {
     "name": "stdout",
     "output_type": "stream",
     "text": [
      "MW Wind: 316.81,\n",
      "MW Kite: 524.28,\n",
      "MW Curtailment: 285.97,\n",
      "MW Total: 555.12\n",
      "\n",
      "Running Model With LCOE= 106.00\n"
     ]
    },
    {
     "name": "stderr",
     "output_type": "stream",
     "text": [
      " 56%|█████▋    | 48/85 [02:41<03:29,  5.66s/it]"
     ]
    },
    {
     "name": "stdout",
     "output_type": "stream",
     "text": [
      "MW Wind: 316.81,\n",
      "MW Kite: 492.35,\n",
      "MW Curtailment: 259.47,\n",
      "MW Total: 549.70\n",
      "\n",
      "Running Model With LCOE= 104.00\n"
     ]
    },
    {
     "name": "stderr",
     "output_type": "stream",
     "text": [
      " 58%|█████▊    | 49/85 [02:47<03:28,  5.79s/it]"
     ]
    },
    {
     "name": "stdout",
     "output_type": "stream",
     "text": [
      "MW Wind: 316.81,\n",
      "MW Kite: 458.70,\n",
      "MW Curtailment: 231.80,\n",
      "MW Total: 543.72\n",
      "\n",
      "Running Model With LCOE= 102.00\n"
     ]
    },
    {
     "name": "stderr",
     "output_type": "stream",
     "text": [
      " 59%|█████▉    | 50/85 [02:53<03:26,  5.90s/it]"
     ]
    },
    {
     "name": "stdout",
     "output_type": "stream",
     "text": [
      "MW Wind: 316.81,\n",
      "MW Kite: 421.41,\n",
      "MW Curtailment: 201.88,\n",
      "MW Total: 536.35\n",
      "\n",
      "Running Model With LCOE= 100.00\n"
     ]
    },
    {
     "name": "stderr",
     "output_type": "stream",
     "text": [
      " 60%|██████    | 51/85 [03:00<03:24,  6.01s/it]"
     ]
    },
    {
     "name": "stdout",
     "output_type": "stream",
     "text": [
      "MW Wind: 316.81,\n",
      "MW Kite: 337.46,\n",
      "MW Curtailment: 140.01,\n",
      "MW Total: 514.26\n",
      "\n",
      "Running Model With LCOE= 98.00\n"
     ]
    },
    {
     "name": "stderr",
     "output_type": "stream",
     "text": [
      " 61%|██████    | 52/85 [03:06<03:20,  6.08s/it]"
     ]
    },
    {
     "name": "stdout",
     "output_type": "stream",
     "text": [
      "MW Wind: 316.81,\n",
      "MW Kite: 326.30,\n",
      "MW Curtailment: 132.07,\n",
      "MW Total: 511.05\n",
      "\n",
      "Running Model With LCOE= 96.00\n"
     ]
    },
    {
     "name": "stderr",
     "output_type": "stream",
     "text": [
      " 62%|██████▏   | 53/85 [03:12<03:16,  6.14s/it]"
     ]
    },
    {
     "name": "stdout",
     "output_type": "stream",
     "text": [
      "MW Wind: 316.81,\n",
      "MW Kite: 196.61,\n",
      "MW Curtailment: 64.08,\n",
      "MW Total: 449.34\n",
      "\n",
      "Running Model With LCOE= 94.00\n",
      "WARNING: Loading a SolverResults object with a warning status into\n",
      "    model.name=\"unknown\";\n",
      "      - termination condition: infeasibleOrUnbounded\n",
      "      - message from solver: <undefined>\n"
     ]
    },
    {
     "name": "stderr",
     "output_type": "stream",
     "text": [
      " 62%|██████▏   | 53/85 [03:18<01:59,  3.74s/it]\n"
     ]
    }
   ],
   "source": [
    "SaveFeasibility, Save_LCOETarget, Save_LCOE_Achieved, SaveTotalMWAvg = list(), list(), list(), list()\n",
    "SaveYWind, SaveYKite, SaveYTrans, SaveCurtail = list(), list(), list(), list()\n",
    "\n",
    "LowestLCOE=10**10\n",
    "for LCOE_Idx in tqdm(range(len(LCOE_Max))):\n",
    "    LCOETarget=LCOE_Max[LCOE_Idx]\n",
    "    \n",
    "    if LCOETarget<LowestLCOE:    \n",
    "        Bypass=0\n",
    "        #Upperbound For the LCOE Activate Constraint\n",
    "        LCOE_Target=LCOETarget_S1(MILP,LCOETarget)\n",
    "        MILP.LCOE_Target = Constraint(rule=LCOE_Target)\n",
    "        print(\"Running Model With LCOE= %.2f\" % LCOETarget)\n",
    "        \n",
    "        try:\n",
    "            results=opt.solve(MILP, tee=False)\n",
    "        except:\n",
    "            Bypass=1\n",
    "            MILP.del_component(MILP.LCOE_Target)  \n",
    "    \n",
    "        if Bypass==0:\n",
    "            if (results.solver.status == SolverStatus.ok) and (results.solver.termination_condition == TerminationCondition.optimal):\n",
    "                SaveFeasibility.append(1)\n",
    "                Save_LCOETarget.append(LCOETarget)\n",
    "                \n",
    "                Optimal_Y_Kite =np.array([MILP.Y_Kite.get_values()[j] for j in MILP.SiteKite])\n",
    "                Optimal_Y_Wind =np.array([MILP.Y_Wind.get_values()[j] for j in MILP.SiteWind])\n",
    "                Optimal_Y_Trans=np.array([MILP.s.get_values()[j] for j in MILP.SiteTrs])\n",
    "                Curtailment=np.array([MILP.Delta.get_values()[j] for j in MILP.TimeSteps])\n",
    "\n",
    "                SaveYWind.append(Optimal_Y_Wind)\n",
    "                SaveYKite.append(Optimal_Y_Kite)\n",
    "                SaveYTrans.append(Optimal_Y_Trans)\n",
    "                SaveCurtail.append(Curtailment)\n",
    "\n",
    "                #Current LCOE\n",
    "                EG_Wind=np.sum(Optimal_Y_Wind*np.average(WindEnergy,axis=1)) #MW avg\n",
    "                EG_Kite=np.sum(Optimal_Y_Kite*np.average(KiteEnergy,axis=1)) #MW avg\n",
    "                TotalCurtailment=np.sum(Curtailment)/NumTimeSteps #MW avg\n",
    "                MWh=(EG_Kite+EG_Wind-TotalCurtailment)*24*365 #MWh\n",
    "\n",
    "                Cost_Wind  = sum(Optimal_Y_Wind*AnnualizedCostWind)\n",
    "                Cost_Kite  = sum(Optimal_Y_Kite*AnnualizedCostKite)\n",
    "                Cost_Trans = sum(Optimal_Y_Trans*AnnualizedCostTransmission)\n",
    "\n",
    "                Cost=Cost_Wind+Cost_Kite+Cost_Trans\n",
    "                CurrentLCOE=Cost/MWh\n",
    "                \n",
    "                Save_LCOE_Achieved.append(CurrentLCOE)\n",
    "                SaveTotalMWAvg.append(value(MILP.OBJ))\n",
    "                LowestLCOE=CurrentLCOE\n",
    "                \n",
    "                print(\"MW Wind: %.2f,\\nMW Kite: %.2f,\\nMW Curtailment: %.2f,\\nMW Total: %.2f\\n\" % (EG_Wind,EG_Kite,TotalCurtailment,EG_Wind+EG_Kite-TotalCurtailment))\n",
    "\n",
    "                \n",
    "                #Delete constraint for its modification in the next step of the for loop\n",
    "                MILP.del_component(MILP.LCOE_Target)\n",
    "            \n",
    "            else:# Something else is wrong\n",
    "                MILP.del_component(MILP.LCOE_Target)\n",
    "                SaveFeasibility.append(0)\n",
    "                Save_LCOETarget.append(None)\n",
    "                Save_LCOE_Achieved.append(None)\n",
    "                SaveYWind.append(None)\n",
    "                SaveYKite.append(None)\n",
    "                SaveYTrans.append(None)\n",
    "                SaveCurtail.append(None)    \n",
    "                SaveTotalMWAvg.append(None)     \n",
    "\n",
    "                break\n"
   ]
  },
  {
   "cell_type": "code",
   "execution_count": 19,
   "metadata": {},
   "outputs": [
    {
     "name": "stderr",
     "output_type": "stream",
     "text": [
      "c:\\Users\\Remote\\anaconda3\\envs\\Gurobi\\lib\\site-packages\\numpy\\lib\\npyio.py:696: VisibleDeprecationWarning: Creating an ndarray from ragged nested sequences (which is a list-or-tuple of lists-or-tuples-or ndarrays with different lengths or shapes) is deprecated. If you meant to do this, you must specify 'dtype=object' when creating the ndarray.\n",
      "  val = np.asanyarray(val)\n"
     ]
    }
   ],
   "source": [
    "#Save Results\n",
    "np.savez(\"./ResultsPortOPT/\"+ResultsFileName +\"Stage1LF\"+ \".npz\", \n",
    "        #Wind Data\n",
    "        WindEnergy=WindEnergy,\n",
    "        WindLatLong=WindLatLong,\n",
    "        AnnualizedCostWind=AnnualizedCostWind,\n",
    "        MaxNumWindPerSite=MaxNumWindPerSite,\n",
    "        #Kite Data\n",
    "        KiteEnergy=KiteEnergy,\n",
    "        KiteLatLong=KiteLatLong,\n",
    "        AnnualizedCostKite=AnnualizedCostKite,\n",
    "        MaxNumKitesPerSite=MaxNumKitesPerSite,\n",
    "        #Transmission Data\n",
    "        AnnualizedCostTransmission=AnnualizedCostTransmission,\n",
    "        TransLatLong=TransLatLong,\n",
    "        EfficiencyTransmission=EfficiencyTransmission,\n",
    "        MaxPowerTransmission=MaxPowerTransmission,\n",
    "        TimeStepHours=TimeStepHours,\n",
    "        #Solutions\n",
    "        SaveFeasibility=SaveFeasibility,\n",
    "        Save_LCOETarget=Save_LCOETarget,\n",
    "        Save_LCOE_Achieved=Save_LCOE_Achieved,\n",
    "        SaveYWind=SaveYWind,\n",
    "        SaveYKite=SaveYKite,\n",
    "        SaveYTrans=SaveYTrans,\n",
    "        SaveCurtail=SaveCurtail,\n",
    "        SaveTotalMWAvg=SaveTotalMWAvg)\n",
    "\n"
   ]
  },
  {
   "attachments": {},
   "cell_type": "markdown",
   "metadata": {},
   "source": [
    "# Stage 2 Optimization"
   ]
  },
  {
   "attachments": {},
   "cell_type": "markdown",
   "metadata": {},
   "source": [
    "## Convert Stage 1 Solution to Stage 2 Input"
   ]
  },
  {
   "cell_type": "code",
   "execution_count": 21,
   "metadata": {},
   "outputs": [],
   "source": [
    "#Data for Stage 2\n",
    "CaseInvestigated=-2\n",
    "MaxNumDesigns=1\n",
    "CaseKite_Idx=np.where(SaveYKite[CaseInvestigated])[0]\n",
    "CaseTrans_Idx=np.where(SaveYTrans[CaseInvestigated])[0][0]\n",
    "\n",
    "IdxInWind=GetIdxInRadious_V1(TransLatLong[CaseTrans_Idx,:], WindLatLong, Radious) #Kites inside radious of energy collection system\n",
    "IdxInKite=GetIdxInRadious_V1(TransLatLong[CaseTrans_Idx,:], KiteLatLong, Radious) #Kites inside radious of energy collection system\n",
    "\n",
    "#transmission location\n",
    "TransLoc=np.where(SaveYTrans[CaseInvestigated])[0][0]\n",
    "\n",
    "#update wind data\n",
    "NumWindSites_s2=len(IdxInWind)\n",
    "WindEnergy_s2=WindEnergy[IdxInWind,:]\n",
    "WindLatLong_s2=WindLatLong[IdxInWind,:]\n",
    "AnnualizedCostWind_s2=AnnualizedCostWind[IdxInWind]\n",
    "MaxNumWindPerSite_s2=MaxNumWindPerSite[IdxInWind]\n",
    "\n",
    "#update kite data\n",
    "NumKiteSites_s2=len(IdxInKite)\n",
    "NumKiteDesigns_s2=len(IdxInKite)\n",
    "MaxNumKitesPerSite_s2=MaxNumKitesPerSite[IdxInKite]\n",
    "KiteLatLong_s2=KiteLatLong[IdxInKite,:]\n",
    "AnnualizedCostKite_s2=AnnualizedCostKite[IdxInKite]\n",
    "\n",
    "KiteEnergy_s2=np.zeros((NumKiteSites_s2,NumKiteDesigns_s2,NumTimeSteps))\n",
    "LCOETarget=Save_LCOETarget[CaseInvestigated]\n",
    "\n",
    "DataStage2_Kite=[]\n",
    "for i in range(len(IdxInKite)):\n",
    "    site=IdxInKite[i]\n",
    "    for j in range(len(IdxInKite)):\n",
    "        design=IdxInKite[j]\n",
    "\n",
    "        DataStage2_Kite.append({\"X\":WindKiteTrsData[\"X_Y_Vecs\"][site,0],\n",
    "                                \"Y\":WindKiteTrsData[\"X_Y_Vecs\"][site,1],\n",
    "                                \"Desgin\":design,\n",
    "                                \"Site\":site,\n",
    "                                \"uopt\": WindKiteTrsData[\"uopt_vecs\"][design,:],\n",
    "                                \"SiteIdx_s2\":i,\n",
    "                                \"DesignIdx_s2\":j})   \n"
   ]
  },
  {
   "cell_type": "code",
   "execution_count": 10,
   "metadata": {},
   "outputs": [
    {
     "name": "stdout",
     "output_type": "stream",
     "text": [
      "0.00 % complete\n",
      "16.53 % complete\n",
      "33.06 % complete\n",
      "49.59 % complete\n",
      "66.12 % complete\n",
      "82.64 % complete\n",
      "99.17 % complete\n",
      "100.00 % complete\n"
     ]
    }
   ],
   "source": [
    "# I have 64GB of RAM, so I can run 10 envs at the same time. \n",
    "#2500 runs = 30 minutes\n",
    "\n",
    "def UpdateGenerationTS (Data, NumEnvs=15):\n",
    "    Envs=[matlab.engine.start_matlab() for i in range(NumEnvs)] #Create envs\n",
    "    for i in range(NumEnvs):\n",
    "        Envs[i].cd(r'C:\\Users\\Remote\\Desktop\\Projects\\OceanProject4_1_Ver\\PortOpt_KiteWind_MaxGenLCOE\\KiteLF_Optimization', nargout=0)\n",
    "        Envs[i].eval(\"File='DataSetPlatform.mat';\"+\"load(File);\" ,nargout=0)\n",
    "\n",
    "    cmd1=[]\n",
    "    cmd2=[]\n",
    "\n",
    "    for i in range(len(Data)):\n",
    "        X=Data[i][\"X\"]\n",
    "        Y=Data[i][\"Y\"]\n",
    "        uopt  =Data[i][\"uopt\"]\n",
    "\n",
    "        cmd1_tmp = str('xSite =['+str(X)+','+str(Y)+'];')\n",
    "        cmd2_tmp = str('uGeo =['+str(uopt[0])+','+str(uopt[1])+','+str(uopt[2])+','+str(uopt[3])+','+str(15000)+'];')\n",
    "        cmd1.append(cmd1_tmp)\n",
    "        cmd2.append(cmd2_tmp)\n",
    "\n",
    "    G_count=0\n",
    "    NumRuns=0\n",
    "    while G_count!=len(Data):\n",
    "\n",
    "        G_count=G_count+NumRuns\n",
    "\n",
    "        print(\"%.2f %% complete\" % (G_count/len(Data)*100))\n",
    "\n",
    "        NumRuns=np.min([len(Envs),len(Data)-G_count]) #Number of runs to do in parallel\n",
    "        \n",
    "        for i in range(0,NumRuns,1):\n",
    "            Envs[i].eval(cmd1[G_count+i],nargout=0) #Inputs\n",
    "            Envs[i].eval(cmd2[G_count+i],nargout=0) #Inputs\n",
    "\n",
    "        #Separate loop to run in parallel (only for running in parallel)\n",
    "        for i in range(0,NumRuns,1):\n",
    "            Envs[i].powerFunc_Python(nargout=0,background=True) #Solve problem in background\n",
    "\n",
    "        for i in range(0,NumRuns,1):   \n",
    "            Jopt_vec  =Envs[i].workspace[\"Jopt_vec\"][0]\n",
    "            theta_vec =Envs[i].workspace[\"theta_vec\"][0]\n",
    "            l_vec     =Envs[i].workspace[\"l_vec\"][0]\n",
    "\n",
    "            Data[G_count+i][\"Jopt_vec\"]=Jopt_vec\n",
    "            Data[G_count+i][\"theta_vec\"]=theta_vec\n",
    "            Data[G_count+i][\"l_vec\"]=l_vec\n",
    "\n",
    "    for i in range(NumEnvs):\n",
    "        Envs[i].quit()\n",
    "\n",
    "    return Data\n",
    "\n",
    "Data=UpdateGenerationTS(DataStage2_Kite)"
   ]
  },
  {
   "cell_type": "code",
   "execution_count": 22,
   "metadata": {},
   "outputs": [],
   "source": [
    "for i in range(len(Data)):\n",
    "    SiteIdx_s2=Data[i][\"SiteIdx_s2\"]\n",
    "    DesignIdx_s2=Data[i][\"DesignIdx_s2\"]\n",
    "    KiteEnergy_s2[SiteIdx_s2,DesignIdx_s2,:]=np.asarray(Data[i][\"Jopt_vec\"])[0]/1000 #MW"
   ]
  },
  {
   "attachments": {},
   "cell_type": "markdown",
   "metadata": {},
   "source": [
    "## Optimize with limited designs"
   ]
  },
  {
   "cell_type": "code",
   "execution_count": 23,
   "metadata": {},
   "outputs": [
    {
     "name": "stdout",
     "output_type": "stream",
     "text": [
      "Set parameter MIPGap to value 0.05\n",
      "Gurobi Optimizer version 9.5.2 build v9.5.2rc0 (win64)\n",
      "Thread count: 16 physical cores, 32 logical processors, using up to 32 threads\n",
      "Optimize a model with 298 rows, 405 columns and 27826 nonzeros\n",
      "Model fingerprint: 0x1d535054\n",
      "Variable types: 87 continuous, 318 integer (11 binary)\n",
      "Coefficient statistics:\n",
      "  Matrix range     [3e-02, 5e+05]\n",
      "  Objective range  [1e-02, 3e+00]\n",
      "  Bounds range     [1e+00, 1e+00]\n",
      "  RHS range        [3e+00, 1e+07]\n",
      "Presolve removed 261 rows and 260 columns\n",
      "Presolve time: 0.01s\n",
      "Presolved: 37 rows, 145 columns, 544 nonzeros\n",
      "Variable types: 13 continuous, 132 integer (11 binary)\n",
      "\n",
      "Root relaxation: objective 5.104442e+02, 16 iterations, 0.00 seconds (0.00 work units)\n",
      "\n",
      "    Nodes    |    Current Node    |     Objective Bounds      |     Work\n",
      " Expl Unexpl |  Obj  Depth IntInf | Incumbent    BestBd   Gap | It/Node Time\n",
      "\n",
      "     0     0  510.44418    0    1          -  510.44418      -     -    0s\n",
      "H    0     0                     507.9652311  510.44418  0.49%     -    0s\n",
      "\n",
      "Explored 1 nodes (16 simplex iterations) in 0.02 seconds (0.02 work units)\n",
      "Thread count was 32 (of 32 available processors)\n",
      "\n",
      "Solution count 1: 507.965 \n",
      "\n",
      "Optimal solution found (tolerance 5.00e-02)\n",
      "Best objective 5.079652311475e+02, best bound 5.104441843308e+02, gap 0.4880%\n"
     ]
    }
   ],
   "source": [
    "MILP_s2 = ConcreteModel()\n",
    "BM=BigM\n",
    "# Create Sets\n",
    "MILP_s2.SiteWind = RangeSet(0,NumWindSites_s2-1)\n",
    "MILP_s2.SiteKite = RangeSet(0,NumKiteSites_s2-1)\n",
    "MILP_s2.Designs  = RangeSet(0,NumKiteDesigns_s2-1)\n",
    "MILP_s2.TimeSteps = RangeSet(0,NumTimeSteps-1)\n",
    "\n",
    "# Create Variables\n",
    "MILP_s2.Y_Wind = Var(MILP_s2.SiteWind, domain=NonNegativeIntegers)# Integer variable to track the number of wind turbines used per site location\n",
    "MILP_s2.Y_Kite = Var(MILP_s2.SiteKite, MILP_s2.Designs, domain=NonNegativeIntegers)# Integer variable to track the number of wind turbines used per site location\n",
    "\n",
    "MILP_s2.w = Var(MILP_s2.Designs , domain=Binary)# Binary variable to track the center of the energy collection system\n",
    "\n",
    "MILP_s2.Delta = Var(MILP_s2.TimeSteps, domain=NonNegativeReals) #Curtailment variable\n",
    "\n",
    "#Objective Function\n",
    "def objective_rule(MILP_s2):   \n",
    "    EGWind=sum(MILP_s2.Y_Wind[i]*np.average(WindEnergy_s2[i,:]) for i in MILP_s2.SiteWind) #Energy generation from wind turbines\n",
    "    EGKite=sum(MILP_s2.Y_Kite[i,d]*np.average(KiteEnergy_s2[i,d,:]) for i in MILP_s2.SiteKite for d in MILP_s2.Designs) #Energy generation from kite turbines\n",
    "\n",
    "    TotalCurtailment=sum(MILP_s2.Delta[t] for t in MILP_s2.TimeSteps)/NumTimeSteps #Average curtailment MW\n",
    "\n",
    "    Obj=(EGWind + EGKite - TotalCurtailment)#*24*365#Mwh/year\n",
    "    return Obj\n",
    "\n",
    "MILP_s2.OBJ = Objective(rule = objective_rule, sense=maximize)\n",
    "\n",
    "#Constraints\n",
    "#Maximum number of turbines per site location wind\n",
    "def MaxTurbinesCell_Wind_rule(MILP_s2,i):\n",
    "    return MILP_s2.Y_Wind[i]<=MaxNumWindPerSite_s2[i]\n",
    "MILP_s2.Turbines_Cell_Wind = Constraint(MILP_s2.SiteWind, rule=MaxTurbinesCell_Wind_rule)\n",
    "\n",
    "#Maximum number of turbines per site location kite\n",
    "def MaxTurbinesCell_Kite_rule(MILP_s2,i):\n",
    "    return sum(MILP_s2.Y_Kite[i,d] for d in MILP_s2.Designs) <= MaxNumKitesPerSite_s2[i]\n",
    "MILP_s2.Turbines_Cell_Kite = Constraint(MILP_s2.SiteKite, rule=MaxTurbinesCell_Kite_rule)\n",
    "\n",
    "#Curtailment constraint\n",
    "def Curtailment_rule(MILP_s2,t):\n",
    "    EGWind=sum(MILP_s2.Y_Wind[i]*WindEnergy_s2[i,t] for i in MILP_s2.SiteWind) #Energy generation from wind turbines\n",
    "    EGKite=sum(MILP_s2.Y_Kite[i,d]*np.average(KiteEnergy_s2[i,d,:]) for i in MILP_s2.SiteKite for d in MILP_s2.Designs) #Energy generation from kite turbines\n",
    "    return -MILP_s2.Delta[t]+ EGWind+ EGKite<=MaxPowerTransmission\n",
    "MILP_s2.Curtailment = Constraint(MILP_s2.TimeSteps, rule=Curtailment_rule)\n",
    "\n",
    "#---Choose center collection system - End\n",
    "\n",
    "#LCOE Target\n",
    "def LCOETarget_S1(MILP_s2,LCOE_Max):  \n",
    "    EG_Wind=sum(MILP_s2.Y_Wind[i]*np.average(WindEnergy[i,:]) for i in MILP_s2.SiteWind) #Average MW for wind\n",
    "    EG_Kite=sum(MILP_s2.Y_Kite[i,d]*np.average(KiteEnergy_s2[i,d,:]) for i in MILP_s2.SiteKite for d in MILP_s2.Designs) #Average MW for kite\n",
    "    TotalCurtailment=sum(MILP_s2.Delta[i] for i in MILP_s2.TimeSteps)/NumTimeSteps #Average curtailment MW\n",
    "    \n",
    "    MWh=(EG_Kite+EG_Wind-TotalCurtailment)*24*365 #MWh\n",
    "\n",
    "    Cost_Wind=sum(MILP_s2.Y_Wind[i]*AnnualizedCostWind[i] for i in MILP_s2.SiteWind)\n",
    "    Cost_Kite=sum(MILP_s2.Y_Kite[i,d]*AnnualizedCostKite[d] for i in MILP_s2.SiteKite for d in MILP_s2.Designs)\n",
    "    Cost_Transmission=AnnualizedCostTransmission[TransLoc]\n",
    "    Cost=Cost_Wind+Cost_Kite+Cost_Transmission\n",
    "\n",
    "    return Cost<=LCOE_Max*MWh # 300 is a big M for the total number of turbines installed       \n",
    "\n",
    "LCOE_Target=LCOETarget_S1(MILP_s2,LCOETarget)\n",
    "MILP_s2.LCOE_Target = Constraint(rule=LCOE_Target)\n",
    "\n",
    "def TrackDesigns(MILP_s2,d):  \n",
    "    return sum(MILP_s2.Y_Kite[i,d] for i in MILP_s2.SiteKite)<=MILP_s2.w[d]*BM \n",
    "MILP_s2.TrackDesigns = Constraint(MILP_s2.Designs, rule=TrackDesigns)\n",
    "\n",
    "def CountDesigns(MILP_s2):  \n",
    "    return sum(MILP_s2.w[d] for d in MILP_s2.Designs)<=MaxNumDesigns\n",
    "MILP_s2.CountDesigns = Constraint(rule=CountDesigns)\n",
    "\n",
    "#MILP_s2.SetNumTurbines= Constraint(expr=sum(MILP_s2.Y_Kite[i,d] for i in MILP_s2.SiteKite for d in MILP_s2.Designs)==100)\n",
    "MILP_s2.SetNumTurbines= Constraint(expr=sum(MILP_s2.Y_Wind[i] for i in MILP_s2.SiteWind)==200)\n",
    "\n",
    "#---Choose center collection system - End\n",
    "#\n",
    "opt = SolverFactory('gurobi', solver_io=\"python\")\n",
    "opt.options['mipgap'] = 0.05\n",
    "#opt.options['max_iter'] = 500\n",
    "results=opt.solve(MILP_s2, tee=True)"
   ]
  },
  {
   "cell_type": "code",
   "execution_count": 24,
   "metadata": {},
   "outputs": [],
   "source": [
    "Optimal_Y_Kite=np.zeros((NumKiteSites_s2, NumKiteDesigns_s2))\n",
    "for i in MILP_s2.SiteKite:\n",
    "    for d in MILP_s2.Designs:\n",
    "        Optimal_Y_Kite[i,d]=MILP_s2.Y_Kite.get_values()[i,d]\n",
    "\n",
    "\n",
    "Optimal_Y_Wind =np.array([MILP_s2.Y_Wind.get_values()[j] for j in MILP_s2.SiteWind])\n",
    "Curtailment=np.array([MILP_s2.Delta.get_values()[j] for j in MILP_s2.TimeSteps])\n",
    "Designs=np.array([MILP_s2.w.get_values()[d] for d in MILP_s2.Designs])\n"
   ]
  },
  {
   "cell_type": "code",
   "execution_count": 25,
   "metadata": {},
   "outputs": [
    {
     "name": "stdout",
     "output_type": "stream",
     "text": [
      "MW NL Design: 495.08,  LCOE NL Design: 130.00 \n",
      "MW L Design: 507.97,  LCOE L Design: 129.78 \n"
     ]
    }
   ],
   "source": [
    "EG_Wind=sum(Optimal_Y_Wind[i]*np.average(WindEnergy[i,:]) for i in MILP_s2.SiteWind) #Average MW for wind\n",
    "EG_Kite=sum(Optimal_Y_Kite[i,d]*np.average(KiteEnergy_s2[i,d,:]) for i in MILP_s2.SiteKite for d in MILP_s2.Designs) #Average MW for kite\n",
    "TotalCurtailment=sum(Curtailment[i] for i in MILP_s2.TimeSteps)/NumTimeSteps #Average curtailment MW\n",
    "\n",
    "MW=(EG_Kite+EG_Wind-TotalCurtailment)\n",
    "MWh=(EG_Kite+EG_Wind-TotalCurtailment)*24*365 #MWh\n",
    "Cost_Wind=sum(Optimal_Y_Wind[i]*AnnualizedCostWind[i] for i in MILP_s2.SiteWind)\n",
    "Cost_Kite=sum(Optimal_Y_Kite[i,d]*AnnualizedCostKite[d] for i in MILP_s2.SiteKite for d in MILP_s2.Designs)\n",
    "Cost_Transmission=AnnualizedCostTransmission[TransLoc]\n",
    "Cost=Cost_Wind+Cost_Kite+Cost_Transmission\n",
    "CurrentLCOE=Cost/MWh\n",
    "\n",
    "print(\"MW NL Design: %.2f,  LCOE NL Design: %.2f \\nMW L Design: %.2f,  LCOE L Design: %.2f \"%(SaveTotalMWAvg[CaseInvestigated],Save_LCOE_Achieved[CaseInvestigated],MW,CurrentLCOE))"
   ]
  }
 ],
 "metadata": {
  "interpreter": {
   "hash": "b7e4da0be000042da30986b125ac998c2888ee96c4216c9a0b66eb1cc0e56268"
  },
  "kernelspec": {
   "display_name": "Python 3.7.10 ('Gurobi_py37': conda)",
   "language": "python",
   "name": "python3"
  },
  "language_info": {
   "codemirror_mode": {
    "name": "ipython",
    "version": 3
   },
   "file_extension": ".py",
   "mimetype": "text/x-python",
   "name": "python",
   "nbconvert_exporter": "python",
   "pygments_lexer": "ipython3",
   "version": "3.10.6"
  },
  "orig_nbformat": 4
 },
 "nbformat": 4,
 "nbformat_minor": 2
}
