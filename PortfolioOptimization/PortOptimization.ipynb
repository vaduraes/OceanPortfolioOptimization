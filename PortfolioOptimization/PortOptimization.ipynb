{
 "cells": [
  {
   "attachments": {},
   "cell_type": "markdown",
   "metadata": {},
   "source": [
    "# Libs and Inputs"
   ]
  },
  {
   "cell_type": "code",
   "execution_count": 18,
   "metadata": {},
   "outputs": [],
   "source": [
    "from __future__ import division\n",
    "from pyomo.environ import *\n",
    "import numpy as np\n",
    "import time\n",
    "from tqdm import tqdm\n",
    "from GetIdxOutRadious import GetIdxOutRadious\n",
    "\n",
    "LCOE_Max=range(300,30,-2) #LCOEs investigated\n",
    "Radious=40 #Radious for the energy collection system\n",
    "\n",
    "ShapeFileCoast=\"./GEO_data/ne_10m_coastline.shp\"\n",
    "ShapeFileStates=\"./GEO_data/ne_10m_admin_1_states_provinces_lines.shp\"\n",
    "\n",
    "WindKiteTrsData=np.load('PreprocessedData.npz',allow_pickle=True)\n",
    "\n",
    "ResultsFileName='PortfolioOptimizationWindKite'"
   ]
  },
  {
   "attachments": {},
   "cell_type": "markdown",
   "metadata": {},
   "source": [
    "# Stage 1 Optimization"
   ]
  },
  {
   "cell_type": "code",
   "execution_count": 19,
   "metadata": {},
   "outputs": [],
   "source": [
    "#LF kite and optimal kite design at each site location"
   ]
  },
  {
   "attachments": {},
   "cell_type": "markdown",
   "metadata": {},
   "source": [
    "## Prepare Data For the Optimization Model"
   ]
  },
  {
   "cell_type": "code",
   "execution_count": 20,
   "metadata": {},
   "outputs": [],
   "source": [
    "#Wind Data\n",
    "WindEnergy=WindKiteTrsData['WindEnergy']\n",
    "WindLatLong=WindKiteTrsData['WindLatLong']\n",
    "AnnualizedCostWind=WindKiteTrsData['AnnualizedCostWind']\n",
    "MaxNumWindPerSite=WindKiteTrsData['MaxNumWindPerSite']\n",
    "\n",
    "#Kite Data\n",
    "KiteEnergy=WindKiteTrsData['KiteEnergy']\n",
    "KiteLatLong=WindKiteTrsData['KiteLatLong']\n",
    "AnnualizedCostKite=WindKiteTrsData['AnnualizedCostKite']\n",
    "MaxNumKitesPerSite=WindKiteTrsData['MaxNumKitesPerSite']\n",
    "\n",
    "#Transmission Data\n",
    "AnnualizedCostTransmission=WindKiteTrsData['AnnualizedCostTransmission']\n",
    "TransLatLong=WindKiteTrsData['TransLatLong']\n",
    "EfficiencyTransmission=WindKiteTrsData['EfficiencyTransmission']\n",
    "MaxPowerTransmission=float(WindKiteTrsData['MaxPowerTransmission'])\n",
    "\n",
    "TimeStepHours=WindKiteTrsData['TimeStepHours'] #Number of hours for each time step"
   ]
  },
  {
   "cell_type": "code",
   "execution_count": 21,
   "metadata": {},
   "outputs": [],
   "source": [
    "#Vectorize maximum number of turbines per site location per technology\n",
    "Nu=np.concatenate((MaxNumWindPerSite,MaxNumKitesPerSite))\n",
    "\n",
    "#Vectorize annualized cost for each site location and per technology\n",
    "AnnCost=np.concatenate((AnnualizedCostWind,AnnualizedCostKite)) #Annualized cost [$/Year]\n",
    "\n",
    "#Vectorize energy generation in each site location and energy resource\n",
    "EnergyGeneration=np.concatenate((WindEnergy,KiteEnergy),axis=0) #MW ()\n",
    "\n",
    "NumWindSites=WindEnergy.shape[0]\n",
    "NumKiteSites=KiteEnergy.shape[0]\n",
    "\n",
    "NumTrasmissionSites=TransLatLong.shape[0]\n",
    "\n",
    "NumTimeSteps=WindEnergy.shape[1]"
   ]
  },
  {
   "attachments": {},
   "cell_type": "markdown",
   "metadata": {},
   "source": [
    "## Build Optimization Model Structure"
   ]
  },
  {
   "cell_type": "code",
   "execution_count": 22,
   "metadata": {},
   "outputs": [],
   "source": [
    "MILP = ConcreteModel()\n",
    "\n",
    "# Create Sets\n",
    "MILP.SiteWind = RangeSet(0,NumWindSites-1)\n",
    "MILP.SiteKite = RangeSet(0,NumKiteSites-1)\n",
    "MILP.SiteTrs  = RangeSet(0,NumTrasmissionSites-1)\n",
    "\n",
    "MILP.TimeSteps = RangeSet(0,NumTimeSteps-1)\n",
    "\n",
    "# Create Variables\n",
    "MILP.Y_Wind = Var(MILP.SiteWind, domain=NonNegativeIntegers)# Integer variable to track the number of wind turbines used per site location\n",
    "MILP.Y_Kite = Var(MILP.SiteKite, domain=NonNegativeIntegers)# Integer variable to track the number of wind turbines used per site location\n",
    "\n",
    "MILP.s = Var(MILP.SiteTrs, domain=Binary)# Binary variable to track the center of the energy collection system\n",
    "MILP.Delta = Var(MILP.TimeSteps, domain=NonNegativeReals) #Curtailment variable\n",
    "\n",
    "#Objective Function\n",
    "def objective_rule(MILP):   \n",
    "    EGWind=sum(MILP.Y_Wind[i]*np.average(WindEnergy[i,:]) for i in MILP.SiteWind) #Energy generation from wind turbines\n",
    "    EGKite=sum(MILP.Y_Kite[i]*np.average(KiteEnergy[i,:]) for i in MILP.SiteKite) #Energy generation from kite turbines\n",
    "\n",
    "    TotalCurtailment=sum(MILP.Delta[t] for t in MILP.TimeSteps)/NumTimeSteps #Average curtailment MW\n",
    "\n",
    "    Obj=(EGWind+EGKite-TotalCurtailment)#*24*365#Mwh/year\n",
    "    return Obj\n",
    "\n",
    "MILP.OBJ = Objective(rule = objective_rule, sense=maximize)\n",
    "\n",
    "#Constraints\n",
    "\n",
    "#Maximum number of turbines per site location wind\n",
    "def MaxTurbinesCell_Wind_rule(MILP,i):\n",
    "    return MILP.Y_Wind[i]<=MaxNumWindPerSite[i]\n",
    "MILP.Turbines_Cell_Wind = Constraint(MILP.SiteWind, rule=MaxTurbinesCell_Wind_rule)\n",
    "\n",
    "#Maximum number of turbines per site location kite\n",
    "def MaxTurbinesCell_Kite_rule(MILP,i):\n",
    "    return MILP.Y_Kite[i]<=MaxNumKitesPerSite[i]\n",
    "MILP.Turbines_Cell_Kite = Constraint(MILP.SiteKite, rule=MaxTurbinesCell_Kite_rule)\n",
    "\n",
    "\n",
    "#Curtailment constraint\n",
    "def Curtailment_rule(MILP,t):\n",
    "    EGWind=sum(MILP.Y_Wind[i]*WindEnergy[i,t] for i in MILP.SiteWind) #Energy generation from wind turbines\n",
    "    EGKite=sum(MILP.Y_Kite[i]*KiteEnergy[i,t] for i in MILP.SiteKite) #Energy generation from kite turbines\n",
    "\n",
    "    return -MILP.Delta[t]+ EGWind+ EGKite<=MaxPowerTransmission\n",
    "\n",
    "MILP.Curtailment = Constraint(MILP.TimeSteps, rule=Curtailment_rule)\n",
    "\n",
    "\n",
    "#---Choose center collection system - Start\n",
    "MILP.ChooseOneCircle= Constraint(expr=sum(MILP.s[i] for i in MILP.SiteTrs)==1)\n",
    "\n",
    "#Get the sites that are out of the radious of the center of the collection system\n",
    "IdxOutWind=GetIdxOutRadious(TransLatLong, WindLatLong,Radious)\n",
    "IdxOutKite=GetIdxOutRadious(TransLatLong, KiteLatLong,Radious)\n",
    "\n",
    "def MaximumRadious(MILP,i):  \n",
    "    SumWind_s=sum(MILP.Y_Wind[j] for j in IdxOutWind[i])\n",
    "    SumKite_s=sum(MILP.Y_Kite[j] for j in IdxOutKite[i])\n",
    "\n",
    "    return SumWind_s+SumKite_s<=(1-MILP.s[i])*300 # 300 is a big M for the maximum total number of turbines installed       \n",
    "\n",
    "MILP.Maximum_Radious = Constraint(MILP.SiteTrs, rule=MaximumRadious)\n",
    "#---Choose center collection system - End\n",
    "\n",
    "#LCOE Target\n",
    "def LCOETarget_S1(MILP,LCOE_Max):  \n",
    "    EG_Wind=sum(MILP.Y_Wind[i]*np.average(WindEnergy[i,:]) for i in MILP.SiteWind) #Average MW for wind\n",
    "    EG_Kite=sum(MILP.Y_Kite[i]*np.average(KiteEnergy[i,:]) for i in MILP.SiteKite) #Average MW for kite\n",
    "    TotalCurtailment=sum(MILP.Delta[i] for i in MILP.TimeSteps)/NumTimeSteps #Average curtailment MW\n",
    "    \n",
    "    MWh=(EG_Kite+EG_Wind-TotalCurtailment)*24*365 #MWh\n",
    "\n",
    "    Cost_Wind=sum(MILP.Y_Wind[i]*AnnualizedCostWind[i] for i in MILP.SiteWind)\n",
    "    Cost_Kite=sum(MILP.Y_Kite[i]*AnnualizedCostKite[i] for i in MILP.SiteKite)\n",
    "    Cost_Transmission=sum(MILP.s[i]*AnnualizedCostTransmission[i] for i in MILP.SiteTrs)\n",
    "    Cost=Cost_Wind+Cost_Kite+Cost_Transmission\n",
    "\n",
    "    return Cost<=LCOE_Max*MWh # 300 is a big M for the total number of turbines installed       \n",
    "\n",
    "#\n",
    "opt = SolverFactory('gurobi', solver_io=\"python\")\n",
    "opt.options['mipgap'] = 0.05\n",
    "#opt.options['max_iter'] = 500"
   ]
  },
  {
   "attachments": {},
   "cell_type": "markdown",
   "metadata": {},
   "source": [
    "## Solve Portfolio Optimization Stage 1 "
   ]
  },
  {
   "cell_type": "code",
   "execution_count": 23,
   "metadata": {},
   "outputs": [
    {
     "name": "stderr",
     "output_type": "stream",
     "text": [
      "  0%|          | 0/135 [00:00<?, ?it/s]"
     ]
    },
    {
     "name": "stdout",
     "output_type": "stream",
     "text": [
      "Running Model With LCOE= 300.00\n"
     ]
    },
    {
     "name": "stderr",
     "output_type": "stream",
     "text": [
      "  1%|          | 1/135 [00:05<11:44,  5.25s/it]"
     ]
    },
    {
     "name": "stdout",
     "output_type": "stream",
     "text": [
      "Running Model With LCOE= 298.00\n"
     ]
    },
    {
     "name": "stderr",
     "output_type": "stream",
     "text": [
      "  1%|▏         | 2/135 [00:10<11:37,  5.24s/it]"
     ]
    },
    {
     "name": "stdout",
     "output_type": "stream",
     "text": [
      "Running Model With LCOE= 296.00\n"
     ]
    },
    {
     "name": "stderr",
     "output_type": "stream",
     "text": [
      "  2%|▏         | 3/135 [00:15<11:36,  5.28s/it]"
     ]
    },
    {
     "name": "stdout",
     "output_type": "stream",
     "text": [
      "Running Model With LCOE= 294.00\n"
     ]
    },
    {
     "name": "stderr",
     "output_type": "stream",
     "text": [
      "  3%|▎         | 4/135 [00:21<11:41,  5.35s/it]"
     ]
    },
    {
     "name": "stdout",
     "output_type": "stream",
     "text": [
      "Running Model With LCOE= 292.00\n"
     ]
    },
    {
     "name": "stderr",
     "output_type": "stream",
     "text": [
      "  4%|▎         | 5/135 [00:26<11:26,  5.28s/it]"
     ]
    },
    {
     "name": "stdout",
     "output_type": "stream",
     "text": [
      "Running Model With LCOE= 262.00\n"
     ]
    },
    {
     "name": "stderr",
     "output_type": "stream",
     "text": [
      " 15%|█▍        | 20/135 [00:31<01:46,  1.08it/s]"
     ]
    },
    {
     "name": "stdout",
     "output_type": "stream",
     "text": [
      "Running Model With LCOE= 260.00\n"
     ]
    },
    {
     "name": "stderr",
     "output_type": "stream",
     "text": [
      " 16%|█▌        | 21/135 [00:37<02:24,  1.27s/it]"
     ]
    },
    {
     "name": "stdout",
     "output_type": "stream",
     "text": [
      "Running Model With LCOE= 258.00\n"
     ]
    },
    {
     "name": "stderr",
     "output_type": "stream",
     "text": [
      " 16%|█▋        | 22/135 [00:42<03:07,  1.66s/it]"
     ]
    },
    {
     "name": "stdout",
     "output_type": "stream",
     "text": [
      "Running Model With LCOE= 256.00\n"
     ]
    },
    {
     "name": "stderr",
     "output_type": "stream",
     "text": [
      " 17%|█▋        | 23/135 [00:47<03:54,  2.10s/it]"
     ]
    },
    {
     "name": "stdout",
     "output_type": "stream",
     "text": [
      "Running Model With LCOE= 254.00\n"
     ]
    },
    {
     "name": "stderr",
     "output_type": "stream",
     "text": [
      " 18%|█▊        | 24/135 [00:52<04:48,  2.60s/it]"
     ]
    },
    {
     "name": "stdout",
     "output_type": "stream",
     "text": [
      "Running Model With LCOE= 252.00\n"
     ]
    },
    {
     "name": "stderr",
     "output_type": "stream",
     "text": [
      " 19%|█▊        | 25/135 [00:58<05:37,  3.07s/it]"
     ]
    },
    {
     "name": "stdout",
     "output_type": "stream",
     "text": [
      "Running Model With LCOE= 250.00\n"
     ]
    },
    {
     "name": "stderr",
     "output_type": "stream",
     "text": [
      " 19%|█▉        | 26/135 [01:03<06:20,  3.50s/it]"
     ]
    },
    {
     "name": "stdout",
     "output_type": "stream",
     "text": [
      "Running Model With LCOE= 248.00\n"
     ]
    },
    {
     "name": "stderr",
     "output_type": "stream",
     "text": [
      " 20%|██        | 27/135 [01:08<06:59,  3.88s/it]"
     ]
    },
    {
     "name": "stdout",
     "output_type": "stream",
     "text": [
      "Running Model With LCOE= 246.00\n"
     ]
    },
    {
     "name": "stderr",
     "output_type": "stream",
     "text": [
      " 21%|██        | 28/135 [01:13<07:33,  4.24s/it]"
     ]
    },
    {
     "name": "stdout",
     "output_type": "stream",
     "text": [
      "Running Model With LCOE= 244.00\n"
     ]
    },
    {
     "name": "stderr",
     "output_type": "stream",
     "text": [
      " 21%|██▏       | 29/135 [01:19<07:53,  4.47s/it]"
     ]
    },
    {
     "name": "stdout",
     "output_type": "stream",
     "text": [
      "Running Model With LCOE= 242.00\n"
     ]
    },
    {
     "name": "stderr",
     "output_type": "stream",
     "text": [
      " 22%|██▏       | 30/135 [01:24<08:16,  4.73s/it]"
     ]
    },
    {
     "name": "stdout",
     "output_type": "stream",
     "text": [
      "Running Model With LCOE= 240.00\n"
     ]
    },
    {
     "name": "stderr",
     "output_type": "stream",
     "text": [
      " 23%|██▎       | 31/135 [01:29<08:30,  4.91s/it]"
     ]
    },
    {
     "name": "stdout",
     "output_type": "stream",
     "text": [
      "Running Model With LCOE= 238.00\n"
     ]
    },
    {
     "name": "stderr",
     "output_type": "stream",
     "text": [
      " 24%|██▎       | 32/135 [01:35<08:39,  5.05s/it]"
     ]
    },
    {
     "name": "stdout",
     "output_type": "stream",
     "text": [
      "Running Model With LCOE= 236.00\n"
     ]
    },
    {
     "name": "stderr",
     "output_type": "stream",
     "text": [
      " 24%|██▍       | 33/135 [01:53<15:02,  8.84s/it]"
     ]
    },
    {
     "name": "stdout",
     "output_type": "stream",
     "text": [
      "Running Model With LCOE= 234.00\n"
     ]
    },
    {
     "name": "stderr",
     "output_type": "stream",
     "text": [
      " 25%|██▌       | 34/135 [02:19<23:17, 13.84s/it]"
     ]
    },
    {
     "name": "stdout",
     "output_type": "stream",
     "text": [
      "Running Model With LCOE= 232.00\n"
     ]
    },
    {
     "name": "stderr",
     "output_type": "stream",
     "text": [
      " 26%|██▌       | 35/135 [02:44<28:45, 17.25s/it]"
     ]
    },
    {
     "name": "stdout",
     "output_type": "stream",
     "text": [
      "Running Model With LCOE= 230.00\n"
     ]
    },
    {
     "name": "stderr",
     "output_type": "stream",
     "text": [
      " 27%|██▋       | 36/135 [03:01<28:15, 17.13s/it]"
     ]
    },
    {
     "name": "stdout",
     "output_type": "stream",
     "text": [
      "Running Model With LCOE= 228.00\n"
     ]
    },
    {
     "name": "stderr",
     "output_type": "stream",
     "text": [
      " 27%|██▋       | 37/135 [03:25<31:21, 19.20s/it]"
     ]
    },
    {
     "name": "stdout",
     "output_type": "stream",
     "text": [
      "Running Model With LCOE= 226.00\n"
     ]
    },
    {
     "name": "stderr",
     "output_type": "stream",
     "text": [
      " 28%|██▊       | 38/135 [03:53<35:03, 21.68s/it]"
     ]
    },
    {
     "name": "stdout",
     "output_type": "stream",
     "text": [
      "Running Model With LCOE= 224.00\n"
     ]
    },
    {
     "name": "stderr",
     "output_type": "stream",
     "text": [
      " 29%|██▉       | 39/135 [04:21<37:38, 23.53s/it]"
     ]
    },
    {
     "name": "stdout",
     "output_type": "stream",
     "text": [
      "Running Model With LCOE= 222.00\n"
     ]
    },
    {
     "name": "stderr",
     "output_type": "stream",
     "text": [
      " 30%|██▉       | 40/135 [04:46<38:07, 24.08s/it]"
     ]
    },
    {
     "name": "stdout",
     "output_type": "stream",
     "text": [
      "Running Model With LCOE= 220.00\n"
     ]
    },
    {
     "name": "stderr",
     "output_type": "stream",
     "text": [
      " 30%|███       | 41/135 [05:24<44:19, 28.29s/it]"
     ]
    },
    {
     "name": "stdout",
     "output_type": "stream",
     "text": [
      "Running Model With LCOE= 218.00\n"
     ]
    },
    {
     "name": "stderr",
     "output_type": "stream",
     "text": [
      " 31%|███       | 42/135 [05:59<46:44, 30.15s/it]"
     ]
    },
    {
     "name": "stdout",
     "output_type": "stream",
     "text": [
      "Running Model With LCOE= 216.00\n"
     ]
    },
    {
     "name": "stderr",
     "output_type": "stream",
     "text": [
      " 32%|███▏      | 43/135 [06:34<48:33, 31.67s/it]"
     ]
    },
    {
     "name": "stdout",
     "output_type": "stream",
     "text": [
      "Running Model With LCOE= 214.00\n"
     ]
    },
    {
     "name": "stderr",
     "output_type": "stream",
     "text": [
      " 33%|███▎      | 44/135 [07:15<52:28, 34.60s/it]"
     ]
    },
    {
     "name": "stdout",
     "output_type": "stream",
     "text": [
      "Running Model With LCOE= 212.00\n"
     ]
    },
    {
     "name": "stderr",
     "output_type": "stream",
     "text": [
      " 33%|███▎      | 45/135 [07:53<53:03, 35.38s/it]"
     ]
    },
    {
     "name": "stdout",
     "output_type": "stream",
     "text": [
      "Running Model With LCOE= 210.00\n"
     ]
    },
    {
     "name": "stderr",
     "output_type": "stream",
     "text": [
      " 34%|███▍      | 46/135 [08:37<56:28, 38.08s/it]"
     ]
    },
    {
     "name": "stdout",
     "output_type": "stream",
     "text": [
      "Running Model With LCOE= 208.00\n"
     ]
    },
    {
     "name": "stderr",
     "output_type": "stream",
     "text": [
      " 35%|███▍      | 47/135 [09:21<58:35, 39.95s/it]"
     ]
    },
    {
     "name": "stdout",
     "output_type": "stream",
     "text": [
      "Running Model With LCOE= 206.00\n"
     ]
    },
    {
     "name": "stderr",
     "output_type": "stream",
     "text": [
      " 36%|███▌      | 48/135 [10:00<57:34, 39.71s/it]"
     ]
    },
    {
     "name": "stdout",
     "output_type": "stream",
     "text": [
      "Running Model With LCOE= 204.00\n"
     ]
    },
    {
     "name": "stderr",
     "output_type": "stream",
     "text": [
      " 36%|███▋      | 49/135 [10:03<41:02, 28.64s/it]"
     ]
    },
    {
     "name": "stdout",
     "output_type": "stream",
     "text": [
      "Running Model With LCOE= 202.00\n"
     ]
    }
   ],
   "source": [
    "SaveFeasibility, Save_LCOETarget, Save_LCOE_Achieved, SaveTotalMWAvg = list(), list(), list(), list()\n",
    "SaveYWind, SaveYKite, SaveYTrans, SaveCurtail = list(), list(), list(), list()\n",
    "\n",
    "LowestLCOE=10**10\n",
    "for LCOE_Idx in tqdm(range(len(LCOE_Max))):\n",
    "    LCOETarget=LCOE_Max[LCOE_Idx]\n",
    "    \n",
    "    if LCOETarget<LowestLCOE:    \n",
    "        Bypass=0\n",
    "        #Upperbound For the LCOE Activate Constraint\n",
    "        LCOE_Target=LCOETarget_S1(MILP,LCOETarget)\n",
    "        MILP.LCOE_Target = Constraint(rule=LCOE_Target)\n",
    "        print(\"Running Model With LCOE= %.2f\" % LCOETarget)\n",
    "        \n",
    "        try:\n",
    "            results=opt.solve(MILP, tee=False)\n",
    "        except:\n",
    "            Bypass=1\n",
    "            MILP.del_component(MILP.LCOE_Target)  \n",
    "    \n",
    "        if Bypass==0:\n",
    "            if (results.solver.status == SolverStatus.ok) and (results.solver.termination_condition == TerminationCondition.optimal):\n",
    "                SaveFeasibility.append(1)\n",
    "                Save_LCOETarget.append(LCOETarget)\n",
    "                \n",
    "                Optimal_Y_Kite =np.array([MILP.Y_Kite.get_values()[j] for j in MILP.SiteKite])\n",
    "                Optimal_Y_Wind =np.array([MILP.Y_Wind.get_values()[j] for j in MILP.SiteWind])\n",
    "                Optimal_Y_Trans=np.array([MILP.s.get_values()[j] for j in MILP.SiteTrs])\n",
    "                Curtailment=np.array([MILP.Delta.get_values()[j] for j in MILP.TimeSteps])\n",
    "\n",
    "                SaveYWind.append(Optimal_Y_Wind)\n",
    "                SaveYKite.append(Optimal_Y_Kite)\n",
    "                SaveYTrans.append(Optimal_Y_Trans)\n",
    "                SaveCurtail.append(Curtailment)\n",
    "\n",
    "                #Current LCOE\n",
    "                EG_Wind=np.sum(Optimal_Y_Wind*np.average(WindEnergy,axis=1)) #MW avg\n",
    "                EG_Kite=np.sum(Optimal_Y_Kite*np.average(KiteEnergy,axis=1)) #MW avg\n",
    "                TotalCurtailment=np.sum(Curtailment)/NumTimeSteps #MW avg\n",
    "                MWh=(EG_Kite+EG_Wind-TotalCurtailment)*24*365 #MWh\n",
    "\n",
    "                Cost_Wind  = sum(Optimal_Y_Wind*AnnualizedCostWind)\n",
    "                Cost_Kite  = sum(Optimal_Y_Kite*AnnualizedCostKite)\n",
    "                Cost_Trans = sum(Optimal_Y_Trans*AnnualizedCostTransmission)\n",
    "\n",
    "                Cost=Cost_Wind+Cost_Kite+Cost_Trans\n",
    "                CurrentLCOE=Cost/MWh\n",
    "                \n",
    "                Save_LCOE_Achieved.append(CurrentLCOE)\n",
    "                SaveTotalMWAvg.append(value(MILP.OBJ))\n",
    "                LowestLCOE=CurrentLCOE\n",
    "                \n",
    "                print(\"MW Wind: %.2f,\\n MW Kite: %.2f,\\n MW Curtailment: %.2f,\\n MW Total: %.2f\" % (EG_Wind,EG_Kite,TotalCurtailment,EG_Wind+EG_Kite-TotalCurtailment))\n",
    "\n",
    "                \n",
    "                #Delete constraint for its modification in the next step of the for loop\n",
    "                MILP.del_component(MILP.LCOE_Target)\n",
    "            \n",
    "            else:# Something else is wrong\n",
    "                MILP.del_component(MILP.LCOE_Target)\n",
    "                SaveFeasibility.append(0)\n",
    "                Save_LCOETarget.append(None)\n",
    "                Save_LCOE_Achieved.append(None)\n",
    "                SaveYWind.append(None)\n",
    "                SaveYKite.append(None)\n",
    "                SaveYTrans.append(None)\n",
    "                SaveCurtail.append(None)    \n",
    "                SaveTotalMWAvg.append(None)     \n",
    "\n",
    "                break\n"
   ]
  },
  {
   "cell_type": "code",
   "execution_count": null,
   "metadata": {},
   "outputs": [],
   "source": [
    "#Save Results\n",
    "np.savez(\"./ResultsPortOpt/\"+ResultsFileName +\"Stage1LF\"+ \".npz\", \n",
    "        #Wind Data\n",
    "        WindEnergy=WindEnergy,\n",
    "        WindLatLong=WindLatLong,\n",
    "        AnnualizedCostWind=AnnualizedCostWind,\n",
    "        MaxNumWindPerSite=MaxNumWindPerSite,\n",
    "        #Kite Data\n",
    "        KiteEnergy=KiteEnergy,\n",
    "        KiteLatLong=KiteLatLong,\n",
    "        AnnualizedCostKite=AnnualizedCostKite,\n",
    "        MaxNumKitesPerSite=MaxNumKitesPerSite,\n",
    "        #Transmission Data\n",
    "        AnnualizedCostTransmission=AnnualizedCostTransmission,\n",
    "        TransLatLong=TransLatLong,\n",
    "        EfficiencyTransmission=EfficiencyTransmission,\n",
    "        MaxPowerTransmission=MaxPowerTransmission,\n",
    "        TimeStepHours=TimeStepHours,\n",
    "        #Solutions\n",
    "        SaveFeasibility=SaveFeasibility,\n",
    "        Save_LCOETarget=Save_LCOETarget,\n",
    "        Save_LCOE_Achieved=Save_LCOE_Achieved,\n",
    "        SaveYWind=SaveYWind,\n",
    "        SaveYKite=SaveYKite,\n",
    "        SaveYTrans=SaveYTrans,\n",
    "        SaveCurtail=SaveCurtail,\n",
    "        SaveTotalMWAvg=SaveTotalMWAvg)\n"
   ]
  },
  {
   "attachments": {},
   "cell_type": "markdown",
   "metadata": {},
   "source": [
    "# Stage 2 Optimization"
   ]
  },
  {
   "cell_type": "code",
   "execution_count": null,
   "metadata": {},
   "outputs": [
    {
     "data": {
      "text/plain": [
       "[330.8561075260045]"
      ]
     },
     "execution_count": 8,
     "metadata": {},
     "output_type": "execute_result"
    }
   ],
   "source": [
    "Save_LCOE_Achieved"
   ]
  }
 ],
 "metadata": {
  "interpreter": {
   "hash": "b7e4da0be000042da30986b125ac998c2888ee96c4216c9a0b66eb1cc0e56268"
  },
  "kernelspec": {
   "display_name": "Python 3.7.10 ('Gurobi_py37': conda)",
   "language": "python",
   "name": "python3"
  },
  "language_info": {
   "codemirror_mode": {
    "name": "ipython",
    "version": 3
   },
   "file_extension": ".py",
   "mimetype": "text/x-python",
   "name": "python",
   "nbconvert_exporter": "python",
   "pygments_lexer": "ipython3",
   "version": "3.10.6"
  },
  "orig_nbformat": 4
 },
 "nbformat": 4,
 "nbformat_minor": 2
}
