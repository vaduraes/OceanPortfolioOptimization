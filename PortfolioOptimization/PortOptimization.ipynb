{
 "cells": [
  {
   "attachments": {},
   "cell_type": "markdown",
   "metadata": {},
   "source": [
    "# Libs and Inputs"
   ]
  },
  {
   "cell_type": "code",
   "execution_count": 50,
   "metadata": {},
   "outputs": [],
   "source": [
    "from __future__ import division\n",
    "from pyomo.environ import *\n",
    "import numpy as np\n",
    "import time\n",
    "from tqdm import tqdm\n",
    "from GetIdxInOutRadious import GetIdxOutRadious, GetIdxInRadious_V1\n",
    "import matlab.engine\n",
    "from multiprocessing import Pool\n",
    "import multiprocessing\n",
    "from tqdm import tqdm\n",
    "from joblib import Parallel, delayed\n",
    "import numpy as np\n",
    "import geopandas as gpd\n",
    "import matplotlib.pyplot as plt\n",
    "\n",
    "\n",
    "LCOE_Max=range(200,30,-2) #LCOEs investigated\n",
    "Radious=30 #Radious for the energy collection system\n",
    "\n",
    "ShapeFileCoast=\"./GEO_data/ne_10m_coastline.shp\"\n",
    "ShapeFileStates=\"./GEO_data/ne_10m_admin_1_states_provinces_lines.shp\"\n",
    "\n",
    "WindKiteTrsData=np.load('PreprocessedData.npz',allow_pickle=True)\n",
    "\n",
    "ResultsFileName='PortfolioOptimizationWindKite'\n",
    "\n",
    "# Tasks:\n",
    "#1. Create a limit in the number of turbines for each tech based on the max transmission (eg- wind 100, kite- 50)\n",
    "#2. Simulation 1- Optimize with only wind for a maximum num of turbines\n",
    "\n",
    "#3. Simulation 2- Optimize with wind and kite same transmission system\n",
    "#4. Simulation 3- Optimize with wind and kite kite with its own transmission system connecting to the offshore wind platform\n"
   ]
  },
  {
   "attachments": {},
   "cell_type": "markdown",
   "metadata": {},
   "source": [
    "# Stage 1 Optimization"
   ]
  },
  {
   "cell_type": "code",
   "execution_count": 2,
   "metadata": {},
   "outputs": [],
   "source": [
    "#LF kite and optimal kite design at each site location"
   ]
  },
  {
   "attachments": {},
   "cell_type": "markdown",
   "metadata": {},
   "source": [
    "## Prepare Data For the Optimization Model"
   ]
  },
  {
   "cell_type": "code",
   "execution_count": 51,
   "metadata": {},
   "outputs": [],
   "source": [
    "#Wind Data\n",
    "WindEnergy=WindKiteTrsData['WindEnergy']\n",
    "WindLatLong=WindKiteTrsData['WindLatLong']\n",
    "AnnualizedCostWind=WindKiteTrsData['AnnualizedCostWind']\n",
    "MaxNumWindPerSite=WindKiteTrsData['MaxNumWindPerSite']\n",
    "\n",
    "#Kite Data\n",
    "KiteEnergy=WindKiteTrsData['KiteEnergy']\n",
    "KiteLatLong=WindKiteTrsData['KiteLatLong']\n",
    "AnnualizedCostKite=WindKiteTrsData['AnnualizedCostKite']\n",
    "MaxNumKitesPerSite=WindKiteTrsData['MaxNumKitesPerSite']\n",
    "\n",
    "#Transmission Data\n",
    "AnnualizedCostTransmission=WindKiteTrsData['Wind_AnnualizedCostTransmission']\n",
    "TransLatLong=WindKiteTrsData['Wind_TransLatLong']\n",
    "EfficiencyTransmission=WindKiteTrsData['Wind_EfficiencyTransmission']\n",
    "MaxPowerTransmission=float(WindKiteTrsData['Wind_MaxPowerTransmission'])\n",
    "\n",
    "TimeStepHours=WindKiteTrsData['TimeStepHours'] #Number of hours for each time step"
   ]
  },
  {
   "cell_type": "code",
   "execution_count": 52,
   "metadata": {},
   "outputs": [],
   "source": [
    "#Vectorize maximum number of turbines per site location per technology\n",
    "Nu=np.concatenate((MaxNumWindPerSite,MaxNumKitesPerSite))\n",
    "\n",
    "#Vectorize annualized cost for each site location and per technology\n",
    "AnnCost=np.concatenate((AnnualizedCostWind,AnnualizedCostKite)) #Annualized cost [$/Year]\n",
    "\n",
    "#Vectorize energy generation in each site location and energy resource\n",
    "EnergyGeneration=np.concatenate((WindEnergy,KiteEnergy),axis=0) #MW ()\n",
    "\n",
    "NumWindSites=WindEnergy.shape[0]\n",
    "NumKiteSites=KiteEnergy.shape[0]\n",
    "\n",
    "NumTrasmissionSites=TransLatLong.shape[0]\n",
    "\n",
    "NumTimeSteps=WindEnergy.shape[1]"
   ]
  },
  {
   "attachments": {},
   "cell_type": "markdown",
   "metadata": {},
   "source": [
    "## Build Optimization Model Structure"
   ]
  },
  {
   "cell_type": "code",
   "execution_count": 53,
   "metadata": {},
   "outputs": [],
   "source": [
    "MILP = ConcreteModel()\n",
    "BigM=10000\n",
    "# Create Sets\n",
    "MILP.SiteWind = RangeSet(0,NumWindSites-1)\n",
    "MILP.SiteKite = RangeSet(0,NumKiteSites-1)\n",
    "MILP.SiteTrs  = RangeSet(0,NumTrasmissionSites-1)\n",
    "\n",
    "MILP.TimeSteps = RangeSet(0,NumTimeSteps-1)\n",
    "\n",
    "# Create Variables\n",
    "MILP.Y_Wind = Var(MILP.SiteWind, domain=NonNegativeIntegers)# Integer variable to track the number of wind turbines used per site location\n",
    "MILP.Y_Kite = Var(MILP.SiteKite, domain=NonNegativeIntegers)# Integer variable to track the number of wind turbines used per site location\n",
    "\n",
    "MILP.s = Var(MILP.SiteTrs, domain=Binary)# Binary variable to track the center of the energy collection system\n",
    "MILP.Delta = Var(MILP.TimeSteps, domain=NonNegativeReals) #Curtailment variable\n",
    "\n",
    "#Objective Function\n",
    "def objective_rule(MILP):   \n",
    "    EGWind=sum(MILP.Y_Wind[i]*np.average(WindEnergy[i,:]) for i in MILP.SiteWind) #Energy generation from wind turbines\n",
    "    EGKite=sum(MILP.Y_Kite[i]*np.average(KiteEnergy[i,:]) for i in MILP.SiteKite) #Energy generation from kite turbines\n",
    "\n",
    "    TotalCurtailment=sum(MILP.Delta[t] for t in MILP.TimeSteps)/NumTimeSteps #Average curtailment MW\n",
    "\n",
    "    Obj=(EGWind+EGKite-TotalCurtailment)#*24*365#Mwh/year\n",
    "    return Obj\n",
    "\n",
    "MILP.OBJ = Objective(rule = objective_rule, sense=maximize)\n",
    "\n",
    "#Constraints\n",
    "\n",
    "#Maximum number of turbines per site location wind\n",
    "def MaxTurbinesCell_Wind_rule(MILP,i):\n",
    "    return MILP.Y_Wind[i]<=MaxNumWindPerSite[i]\n",
    "MILP.Turbines_Cell_Wind = Constraint(MILP.SiteWind, rule=MaxTurbinesCell_Wind_rule)\n",
    "\n",
    "#Maximum number of turbines per site location kite\n",
    "def MaxTurbinesCell_Kite_rule(MILP,i):\n",
    "    return MILP.Y_Kite[i]<=MaxNumKitesPerSite[i]\n",
    "MILP.Turbines_Cell_Kite = Constraint(MILP.SiteKite, rule=MaxTurbinesCell_Kite_rule)\n",
    "\n",
    "\n",
    "#Curtailment constraint\n",
    "def Curtailment_rule(MILP,t):\n",
    "    EGWind=sum(MILP.Y_Wind[i]*WindEnergy[i,t] for i in MILP.SiteWind) #Energy generation from wind turbines\n",
    "    EGKite=sum(MILP.Y_Kite[i]*KiteEnergy[i,t] for i in MILP.SiteKite) #Energy generation from kite turbines\n",
    "\n",
    "    return -MILP.Delta[t]+ EGWind+ EGKite<=MaxPowerTransmission\n",
    "\n",
    "MILP.Curtailment = Constraint(MILP.TimeSteps, rule=Curtailment_rule)\n",
    "\n",
    "\n",
    "#---Choose center collection system - Start\n",
    "MILP.ChooseOneCircle= Constraint(expr=sum(MILP.s[i] for i in MILP.SiteTrs)==1)\n",
    "\n",
    "#Get the sites that are out of the radious of the center of the collection system\n",
    "IdxOutWind=GetIdxOutRadious(TransLatLong, WindLatLong,Radious)\n",
    "IdxOutKite=GetIdxOutRadious(TransLatLong, KiteLatLong,Radious)\n",
    "\n",
    "def MaximumRadious(MILP,i):  \n",
    "    SumWind_s=sum(MILP.Y_Wind[j] for j in IdxOutWind[i])\n",
    "    SumKite_s=sum(MILP.Y_Kite[j] for j in IdxOutKite[i])\n",
    "\n",
    "    return SumWind_s+SumKite_s<=(1-MILP.s[i])*BigM # 300 is a big M for the maximum total number of turbines installed       \n",
    "\n",
    "MILP.Maximum_Radious = Constraint(MILP.SiteTrs, rule=MaximumRadious)\n",
    "#---Choose center collection system - End\n",
    "\n",
    "\n",
    "#LCOE Target\n",
    "def LCOETarget_S1(MILP,LCOE_Max):  \n",
    "    EG_Wind=sum(MILP.Y_Wind[i]*np.average(WindEnergy[i,:]) for i in MILP.SiteWind) #Average MW for wind\n",
    "    EG_Kite=sum(MILP.Y_Kite[i]*np.average(KiteEnergy[i,:]) for i in MILP.SiteKite) #Average MW for kite\n",
    "    TotalCurtailment=sum(MILP.Delta[i] for i in MILP.TimeSteps)/NumTimeSteps #Average curtailment MW\n",
    "    \n",
    "    MWh=(EG_Kite+EG_Wind-TotalCurtailment)*24*365 #MWh\n",
    "\n",
    "    Cost_Wind=sum(MILP.Y_Wind[i]*AnnualizedCostWind[i] for i in MILP.SiteWind)\n",
    "    Cost_Kite=sum(MILP.Y_Kite[i]*AnnualizedCostKite[i] for i in MILP.SiteKite)\n",
    "    Cost_Transmission=sum(MILP.s[i]*AnnualizedCostTransmission[i] for i in MILP.SiteTrs)\n",
    "    Cost=Cost_Wind+Cost_Kite+Cost_Transmission\n",
    "\n",
    "    return Cost<=LCOE_Max*MWh  \n",
    "\n",
    "#MILP.SetNumTurbines= Constraint(expr=sum(MILP.Y_Kite[i] for i in MILP.SiteKite)==100)\n",
    "MILP.SetNumTurbines= Constraint(expr=sum(MILP.Y_Wind[i] for i in MILP.SiteWind)==200)\n",
    "\n",
    "opt = SolverFactory('gurobi', solver_io=\"python\")\n",
    "opt.options['mipgap'] = 0.05\n",
    "#opt.options['max_iter'] = 500"
   ]
  },
  {
   "attachments": {},
   "cell_type": "markdown",
   "metadata": {},
   "source": [
    "## Solve Portfolio Optimization Stage 1 "
   ]
  },
  {
   "cell_type": "code",
   "execution_count": 54,
   "metadata": {},
   "outputs": [
    {
     "name": "stderr",
     "output_type": "stream",
     "text": [
      "  0%|          | 0/85 [00:00<?, ?it/s]"
     ]
    },
    {
     "name": "stdout",
     "output_type": "stream",
     "text": [
      "Running Model With LCOE= 200.00\n"
     ]
    },
    {
     "name": "stderr",
     "output_type": "stream",
     "text": [
      "  1%|          | 1/85 [00:05<08:04,  5.77s/it]"
     ]
    },
    {
     "name": "stdout",
     "output_type": "stream",
     "text": [
      "MW Wind: 515.15,\n",
      "MW Kite: 798.27,\n",
      "MW Curtailment: 722.01,\n",
      "MW Total: 591.41\n",
      "\n",
      "Running Model With LCOE= 178.00\n"
     ]
    },
    {
     "name": "stderr",
     "output_type": "stream",
     "text": [
      " 14%|█▍        | 12/85 [00:11<01:01,  1.19it/s]"
     ]
    },
    {
     "name": "stdout",
     "output_type": "stream",
     "text": [
      "MW Wind: 515.15,\n",
      "MW Kite: 685.85,\n",
      "MW Curtailment: 617.29,\n",
      "MW Total: 583.71\n",
      "\n",
      "Running Model With LCOE= 164.00\n"
     ]
    },
    {
     "name": "stderr",
     "output_type": "stream",
     "text": [
      " 22%|██▏       | 19/85 [00:17<00:57,  1.15it/s]"
     ]
    },
    {
     "name": "stdout",
     "output_type": "stream",
     "text": [
      "MW Wind: 515.15,\n",
      "MW Kite: 633.63,\n",
      "MW Curtailment: 568.71,\n",
      "MW Total: 580.07\n",
      "\n",
      "Running Model With LCOE= 160.00\n"
     ]
    },
    {
     "name": "stderr",
     "output_type": "stream",
     "text": [
      " 25%|██▍       | 21/85 [00:23<01:15,  1.18s/it]"
     ]
    },
    {
     "name": "stdout",
     "output_type": "stream",
     "text": [
      "MW Wind: 515.15,\n",
      "MW Kite: 664.53,\n",
      "MW Curtailment: 595.73,\n",
      "MW Total: 583.94\n",
      "\n",
      "Running Model With LCOE= 158.00\n"
     ]
    },
    {
     "name": "stderr",
     "output_type": "stream",
     "text": [
      " 26%|██▌       | 22/85 [00:29<01:44,  1.65s/it]"
     ]
    },
    {
     "name": "stdout",
     "output_type": "stream",
     "text": [
      "MW Wind: 515.15,\n",
      "MW Kite: 642.67,\n",
      "MW Curtailment: 573.68,\n",
      "MW Total: 584.13\n",
      "\n",
      "Running Model With LCOE= 156.00\n"
     ]
    },
    {
     "name": "stderr",
     "output_type": "stream",
     "text": [
      " 27%|██▋       | 23/85 [00:35<02:15,  2.18s/it]"
     ]
    },
    {
     "name": "stdout",
     "output_type": "stream",
     "text": [
      "MW Wind: 515.15,\n",
      "MW Kite: 605.44,\n",
      "MW Curtailment: 538.54,\n",
      "MW Total: 582.04\n",
      "\n",
      "Running Model With LCOE= 154.00\n"
     ]
    },
    {
     "name": "stderr",
     "output_type": "stream",
     "text": [
      " 28%|██▊       | 24/85 [00:42<03:00,  2.95s/it]"
     ]
    },
    {
     "name": "stdout",
     "output_type": "stream",
     "text": [
      "MW Wind: 515.15,\n",
      "MW Kite: 571.15,\n",
      "MW Curtailment: 506.58,\n",
      "MW Total: 579.71\n",
      "\n",
      "Running Model With LCOE= 152.00\n"
     ]
    },
    {
     "name": "stderr",
     "output_type": "stream",
     "text": [
      " 29%|██▉       | 25/85 [00:48<03:27,  3.46s/it]"
     ]
    },
    {
     "name": "stdout",
     "output_type": "stream",
     "text": [
      "MW Wind: 515.15,\n",
      "MW Kite: 627.18,\n",
      "MW Curtailment: 562.98,\n",
      "MW Total: 579.34\n",
      "\n",
      "Running Model With LCOE= 150.00\n"
     ]
    },
    {
     "name": "stderr",
     "output_type": "stream",
     "text": [
      " 31%|███       | 26/85 [00:54<03:54,  3.98s/it]"
     ]
    },
    {
     "name": "stdout",
     "output_type": "stream",
     "text": [
      "MW Wind: 515.15,\n",
      "MW Kite: 596.58,\n",
      "MW Curtailment: 535.92,\n",
      "MW Total: 575.81\n",
      "\n",
      "Running Model With LCOE= 148.00\n"
     ]
    },
    {
     "name": "stderr",
     "output_type": "stream",
     "text": [
      " 32%|███▏      | 27/85 [01:00<04:20,  4.50s/it]"
     ]
    },
    {
     "name": "stdout",
     "output_type": "stream",
     "text": [
      "MW Wind: 515.15,\n",
      "MW Kite: 571.47,\n",
      "MW Curtailment: 512.15,\n",
      "MW Total: 574.47\n",
      "\n",
      "Running Model With LCOE= 146.00\n"
     ]
    },
    {
     "name": "stderr",
     "output_type": "stream",
     "text": [
      " 33%|███▎      | 28/85 [01:06<04:42,  4.95s/it]"
     ]
    },
    {
     "name": "stdout",
     "output_type": "stream",
     "text": [
      "MW Wind: 515.15,\n",
      "MW Kite: 553.30,\n",
      "MW Curtailment: 497.75,\n",
      "MW Total: 570.70\n",
      "\n",
      "Running Model With LCOE= 144.00\n"
     ]
    },
    {
     "name": "stderr",
     "output_type": "stream",
     "text": [
      " 34%|███▍      | 29/85 [01:12<04:51,  5.20s/it]"
     ]
    },
    {
     "name": "stdout",
     "output_type": "stream",
     "text": [
      "MW Wind: 515.15,\n",
      "MW Kite: 510.27,\n",
      "MW Curtailment: 459.43,\n",
      "MW Total: 565.99\n",
      "\n",
      "Running Model With LCOE= 142.00\n"
     ]
    },
    {
     "name": "stderr",
     "output_type": "stream",
     "text": [
      " 35%|███▌      | 30/85 [01:20<05:22,  5.87s/it]"
     ]
    },
    {
     "name": "stdout",
     "output_type": "stream",
     "text": [
      "MW Wind: 515.15,\n",
      "MW Kite: 483.66,\n",
      "MW Curtailment: 436.59,\n",
      "MW Total: 562.22\n",
      "\n",
      "Running Model With LCOE= 140.00\n"
     ]
    },
    {
     "name": "stderr",
     "output_type": "stream",
     "text": [
      " 36%|███▋      | 31/85 [01:28<05:51,  6.51s/it]"
     ]
    },
    {
     "name": "stdout",
     "output_type": "stream",
     "text": [
      "MW Wind: 515.15,\n",
      "MW Kite: 464.18,\n",
      "MW Curtailment: 420.59,\n",
      "MW Total: 558.73\n",
      "\n",
      "Running Model With LCOE= 138.00\n"
     ]
    },
    {
     "name": "stderr",
     "output_type": "stream",
     "text": [
      " 38%|███▊      | 32/85 [01:36<06:06,  6.91s/it]"
     ]
    },
    {
     "name": "stdout",
     "output_type": "stream",
     "text": [
      "MW Wind: 515.15,\n",
      "MW Kite: 435.65,\n",
      "MW Curtailment: 396.15,\n",
      "MW Total: 554.64\n",
      "\n",
      "Running Model With LCOE= 136.00\n"
     ]
    },
    {
     "name": "stderr",
     "output_type": "stream",
     "text": [
      " 39%|███▉      | 33/85 [01:44<06:22,  7.36s/it]"
     ]
    },
    {
     "name": "stdout",
     "output_type": "stream",
     "text": [
      "MW Wind: 515.15,\n",
      "MW Kite: 403.73,\n",
      "MW Curtailment: 369.40,\n",
      "MW Total: 549.48\n",
      "\n",
      "Running Model With LCOE= 134.00\n"
     ]
    },
    {
     "name": "stderr",
     "output_type": "stream",
     "text": [
      " 40%|████      | 34/85 [01:53<06:34,  7.73s/it]"
     ]
    },
    {
     "name": "stdout",
     "output_type": "stream",
     "text": [
      "MW Wind: 515.15,\n",
      "MW Kite: 360.23,\n",
      "MW Curtailment: 333.72,\n",
      "MW Total: 541.65\n",
      "\n",
      "Running Model With LCOE= 132.00\n"
     ]
    },
    {
     "name": "stderr",
     "output_type": "stream",
     "text": [
      " 41%|████      | 35/85 [02:02<06:47,  8.14s/it]"
     ]
    },
    {
     "name": "stdout",
     "output_type": "stream",
     "text": [
      "MW Wind: 515.15,\n",
      "MW Kite: 308.41,\n",
      "MW Curtailment: 293.03,\n",
      "MW Total: 530.53\n",
      "\n",
      "Running Model With LCOE= 130.00\n"
     ]
    },
    {
     "name": "stderr",
     "output_type": "stream",
     "text": [
      " 42%|████▏     | 36/85 [02:11<06:43,  8.23s/it]"
     ]
    },
    {
     "name": "stdout",
     "output_type": "stream",
     "text": [
      "MW Wind: 515.15,\n",
      "MW Kite: 197.79,\n",
      "MW Curtailment: 217.85,\n",
      "MW Total: 495.08\n",
      "\n",
      "Running Model With LCOE= 128.00\n",
      "WARNING: Loading a SolverResults object with a warning status into\n",
      "    model.name=\"unknown\";\n",
      "      - termination condition: infeasibleOrUnbounded\n",
      "      - message from solver: <undefined>\n"
     ]
    },
    {
     "name": "stderr",
     "output_type": "stream",
     "text": [
      " 42%|████▏     | 36/85 [02:18<03:08,  3.85s/it]\n"
     ]
    }
   ],
   "source": [
    "SaveFeasibility, Save_LCOETarget, Save_LCOE_Achieved, SaveTotalMWAvg = list(), list(), list(), list()\n",
    "SaveYWind, SaveYKite, SaveYTrans, SaveCurtail = list(), list(), list(), list()\n",
    "\n",
    "LowestLCOE=10**10\n",
    "for LCOE_Idx in tqdm(range(len(LCOE_Max))):\n",
    "    LCOETarget=LCOE_Max[LCOE_Idx]\n",
    "    \n",
    "    if LCOETarget<LowestLCOE:    \n",
    "        Bypass=0\n",
    "        #Upperbound For the LCOE Activate Constraint\n",
    "        LCOE_Target=LCOETarget_S1(MILP,LCOETarget)\n",
    "        MILP.LCOE_Target = Constraint(rule=LCOE_Target)\n",
    "        print(\"Running Model With LCOE= %.2f\" % LCOETarget)\n",
    "        \n",
    "        try:\n",
    "            results=opt.solve(MILP, tee=False)\n",
    "        except:\n",
    "            Bypass=1\n",
    "            MILP.del_component(MILP.LCOE_Target)  \n",
    "    \n",
    "        if Bypass==0:\n",
    "            if (results.solver.status == SolverStatus.ok) and (results.solver.termination_condition == TerminationCondition.optimal):\n",
    "                SaveFeasibility.append(1)\n",
    "                Save_LCOETarget.append(LCOETarget)\n",
    "                \n",
    "                Optimal_Y_Kite =np.array([MILP.Y_Kite.get_values()[j] for j in MILP.SiteKite])\n",
    "                Optimal_Y_Wind =np.array([MILP.Y_Wind.get_values()[j] for j in MILP.SiteWind])\n",
    "                Optimal_Y_Trans=np.array([MILP.s.get_values()[j] for j in MILP.SiteTrs])\n",
    "                Curtailment=np.array([MILP.Delta.get_values()[j] for j in MILP.TimeSteps])\n",
    "\n",
    "                SaveYWind.append(Optimal_Y_Wind)\n",
    "                SaveYKite.append(Optimal_Y_Kite)\n",
    "                SaveYTrans.append(Optimal_Y_Trans)\n",
    "                SaveCurtail.append(Curtailment)\n",
    "\n",
    "                #Current LCOE\n",
    "                EG_Wind=np.sum(Optimal_Y_Wind*np.average(WindEnergy,axis=1)) #MW avg\n",
    "                EG_Kite=np.sum(Optimal_Y_Kite*np.average(KiteEnergy,axis=1)) #MW avg\n",
    "                TotalCurtailment=np.sum(Curtailment)/NumTimeSteps #MW avg\n",
    "                MWh=(EG_Kite+EG_Wind-TotalCurtailment)*24*365 #MWh\n",
    "\n",
    "                Cost_Wind  = sum(Optimal_Y_Wind*AnnualizedCostWind)\n",
    "                Cost_Kite  = sum(Optimal_Y_Kite*AnnualizedCostKite)\n",
    "                Cost_Trans = sum(Optimal_Y_Trans*AnnualizedCostTransmission)\n",
    "\n",
    "                Cost=Cost_Wind+Cost_Kite+Cost_Trans\n",
    "                CurrentLCOE=Cost/MWh\n",
    "                \n",
    "                Save_LCOE_Achieved.append(CurrentLCOE)\n",
    "                SaveTotalMWAvg.append(value(MILP.OBJ))\n",
    "                LowestLCOE=CurrentLCOE\n",
    "                \n",
    "                print(\"MW Wind: %.2f,\\nMW Kite: %.2f,\\nMW Curtailment: %.2f,\\nMW Total: %.2f\\n\" % (EG_Wind,EG_Kite,TotalCurtailment,EG_Wind+EG_Kite-TotalCurtailment))\n",
    "\n",
    "                \n",
    "                #Delete constraint for its modification in the next step of the for loop\n",
    "                MILP.del_component(MILP.LCOE_Target)\n",
    "            \n",
    "            else:# Something else is wrong\n",
    "                MILP.del_component(MILP.LCOE_Target)\n",
    "                SaveFeasibility.append(0)\n",
    "                Save_LCOETarget.append(None)\n",
    "                Save_LCOE_Achieved.append(None)\n",
    "                SaveYWind.append(None)\n",
    "                SaveYKite.append(None)\n",
    "                SaveYTrans.append(None)\n",
    "                SaveCurtail.append(None)    \n",
    "                SaveTotalMWAvg.append(None)     \n",
    "\n",
    "                break\n"
   ]
  },
  {
   "cell_type": "code",
   "execution_count": 55,
   "metadata": {},
   "outputs": [],
   "source": [
    "#Save Results\n",
    "np.savez(\"./ResultsPortOpt/\"+ResultsFileName +\"Stage1LF\"+ \".npz\", \n",
    "        #Wind Data\n",
    "        WindEnergy=WindEnergy,\n",
    "        WindLatLong=WindLatLong,\n",
    "        AnnualizedCostWind=AnnualizedCostWind,\n",
    "        MaxNumWindPerSite=MaxNumWindPerSite,\n",
    "        #Kite Data\n",
    "        KiteEnergy=KiteEnergy,\n",
    "        KiteLatLong=KiteLatLong,\n",
    "        AnnualizedCostKite=AnnualizedCostKite,\n",
    "        MaxNumKitesPerSite=MaxNumKitesPerSite,\n",
    "        #Transmission Data\n",
    "        AnnualizedCostTransmission=AnnualizedCostTransmission,\n",
    "        TransLatLong=TransLatLong,\n",
    "        EfficiencyTransmission=EfficiencyTransmission,\n",
    "        MaxPowerTransmission=MaxPowerTransmission,\n",
    "        TimeStepHours=TimeStepHours,\n",
    "        #Solutions\n",
    "        SaveFeasibility=SaveFeasibility,\n",
    "        Save_LCOETarget=Save_LCOETarget,\n",
    "        Save_LCOE_Achieved=Save_LCOE_Achieved,\n",
    "        SaveYWind=SaveYWind,\n",
    "        SaveYKite=SaveYKite,\n",
    "        SaveYTrans=SaveYTrans,\n",
    "        SaveCurtail=SaveCurtail,\n",
    "        SaveTotalMWAvg=SaveTotalMWAvg)\n"
   ]
  },
  {
   "attachments": {},
   "cell_type": "markdown",
   "metadata": {},
   "source": [
    "# Stage 2 Optimization"
   ]
  },
  {
   "attachments": {},
   "cell_type": "markdown",
   "metadata": {},
   "source": [
    "## Convert Stage 1 Solution to Stage 2 Input"
   ]
  },
  {
   "cell_type": "code",
   "execution_count": 127,
   "metadata": {},
   "outputs": [],
   "source": [
    "#Data for Stage 2\n",
    "CaseInvestigated=2\n",
    "MaxNumDesigns=1\n",
    "CaseKite_Idx=np.where(SaveYKite[CaseInvestigated])[0]\n",
    "CaseTrans_Idx=np.where(SaveYTrans[CaseInvestigated])[0][0]\n",
    "\n",
    "IdxInWind=GetIdxInRadious_V1(TransLatLong[CaseTrans_Idx,:], WindLatLong, Radious) #Kites inside radious of energy collection system\n",
    "IdxInKite=GetIdxInRadious_V1(TransLatLong[CaseTrans_Idx,:], KiteLatLong, Radious) #Kites inside radious of energy collection system\n",
    "\n",
    "#transmission location\n",
    "TransLoc=np.where(SaveYTrans[CaseInvestigated])[0][0]\n",
    "\n",
    "#update wind data\n",
    "NumWindSites_s2=len(IdxInWind)\n",
    "WindEnergy_s2=WindEnergy[IdxInWind,:]\n",
    "WindLatLong_s2=WindLatLong[IdxInWind,:]\n",
    "AnnualizedCostWind_s2=AnnualizedCostWind[IdxInWind]\n",
    "MaxNumWindPerSite_s2=MaxNumWindPerSite[IdxInWind]\n",
    "\n",
    "#update kite data\n",
    "NumKiteSites_s2=len(IdxInKite)\n",
    "NumKiteDesigns_s2=len(IdxInKite)\n",
    "MaxNumKitesPerSite_s2=MaxNumKitesPerSite[IdxInKite]\n",
    "KiteLatLong_s2=KiteLatLong[IdxInKite,:]\n",
    "AnnualizedCostKite_s2=AnnualizedCostKite[IdxInKite]\n",
    "\n",
    "KiteEnergy_s2=np.zeros((NumKiteSites_s2,NumKiteDesigns_s2,NumTimeSteps))\n",
    "\n",
    "DataStage2_Kite=[]\n",
    "for i in range(len(IdxInKite)):\n",
    "    site=IdxInKite[i]\n",
    "    for j in range(len(IdxInKite)):\n",
    "        design=IdxInKite[j]\n",
    "\n",
    "        DataStage2_Kite.append({\"X\":WindKiteTrsData[\"X_Y_Vecs\"][site,0],\n",
    "                                \"Y\":WindKiteTrsData[\"X_Y_Vecs\"][site,1],\n",
    "                                \"Desgin\":design,\n",
    "                                \"Site\":site,\n",
    "                                \"uopt\": WindKiteTrsData[\"uopt_vecs\"][design,:],\n",
    "                                \"SiteIdx_s2\":i,\n",
    "                                \"DesignIdx_s2\":j})   \n"
   ]
  },
  {
   "cell_type": "code",
   "execution_count": null,
   "metadata": {},
   "outputs": [],
   "source": [
    "# I have 64GB of RAM, so I can run 10 envs at the same time. \n",
    "#2500 runs = 30 minutes\n",
    "\n",
    "def UpdateGenerationTS (Data, NumEnvs=15):\n",
    "    Envs=[matlab.engine.start_matlab() for i in range(NumEnvs)] #Create envs\n",
    "    for i in range(NumEnvs):\n",
    "        Envs[i].cd(r'C:\\Users\\Remote\\Desktop\\Projects\\OceanProject4_1_Ver\\PortOpt_KiteWind_MaxGenLCOE\\KiteLF_Optimization', nargout=0)\n",
    "        Envs[i].eval(\"File='DataSetPlatform.mat';\"+\"load(File);\" ,nargout=0)\n",
    "\n",
    "    cmd1=[]\n",
    "    cmd2=[]\n",
    "\n",
    "    for i in range(len(Data)):\n",
    "        X=Data[i][\"X\"]\n",
    "        Y=Data[i][\"Y\"]\n",
    "        uopt  =Data[i][\"uopt\"]\n",
    "\n",
    "        cmd1_tmp = str('xSite =['+str(X)+','+str(Y)+'];')\n",
    "        cmd2_tmp = str('uGeo =['+str(uopt[0])+','+str(uopt[1])+','+str(uopt[2])+','+str(uopt[3])+','+str(15000)+'];')\n",
    "        cmd1.append(cmd1_tmp)\n",
    "        cmd2.append(cmd2_tmp)\n",
    "\n",
    "    G_count=0\n",
    "    NumRuns=0\n",
    "    while G_count!=len(Data):\n",
    "\n",
    "        G_count=G_count+NumRuns\n",
    "\n",
    "        print(\"%.2f %% complete\" % (G_count/len(Data)*100))\n",
    "\n",
    "        NumRuns=np.min([len(Envs),len(Data)-G_count]) #Number of runs to do in parallel\n",
    "        \n",
    "        for i in range(0,NumRuns,1):\n",
    "            Envs[i].eval(cmd1[G_count+i],nargout=0) #Inputs\n",
    "            Envs[i].eval(cmd2[G_count+i],nargout=0) #Inputs\n",
    "\n",
    "        #Separate loop to run in parallel (only for running in parallel)\n",
    "        for i in range(0,NumRuns,1):\n",
    "            Envs[i].powerFunc_Python(nargout=0,background=True) #Solve problem in background\n",
    "\n",
    "        for i in range(0,NumRuns,1):   \n",
    "            Jopt_vec  =Envs[i].workspace[\"Jopt_vec\"][0]\n",
    "            theta_vec =Envs[i].workspace[\"theta_vec\"][0]\n",
    "            l_vec     =Envs[i].workspace[\"l_vec\"][0]\n",
    "\n",
    "            Data[G_count+i][\"Jopt_vec\"]=Jopt_vec\n",
    "            Data[G_count+i][\"theta_vec\"]=theta_vec\n",
    "            Data[G_count+i][\"l_vec\"]=l_vec\n",
    "\n",
    "    for i in range(NumEnvs):\n",
    "        Envs[i].quit()\n",
    "\n",
    "    return Data\n",
    "\n",
    "Data=UpdateGenerationTS(DataStage2_Kite)"
   ]
  },
  {
   "cell_type": "code",
   "execution_count": null,
   "metadata": {},
   "outputs": [],
   "source": [
    "for i in range(len(Data)):\n",
    "    SiteIdx_s2=Data[i][\"SiteIdx_s2\"]\n",
    "    DesignIdx_s2=Data[i][\"DesignIdx_s2\"]\n",
    "    KiteEnergy_s2[SiteIdx_s2,DesignIdx_s2,:]=np.asarray(Data[i][\"Jopt_vec\"])[0]/1000 #MW"
   ]
  },
  {
   "attachments": {},
   "cell_type": "markdown",
   "metadata": {},
   "source": [
    "## Optimize with limited designs"
   ]
  },
  {
   "cell_type": "code",
   "execution_count": null,
   "metadata": {},
   "outputs": [
    {
     "name": "stdout",
     "output_type": "stream",
     "text": [
      "Set parameter MIPGap to value 0.05\n",
      "Gurobi Optimizer version 9.5.2 build v9.5.2rc0 (win64)\n",
      "Thread count: 16 physical cores, 32 logical processors, using up to 32 threads\n",
      "Optimize a model with 3075 rows, 3074 columns and 1546196 nonzeros\n",
      "Model fingerprint: 0xeb034278\n",
      "Variable types: 87 continuous, 2987 integer (554 binary)\n",
      "Coefficient statistics:\n",
      "  Matrix range     [3e-10, 1e+04]\n",
      "  Objective range  [1e-02, 3e+00]\n",
      "  Bounds range     [1e+00, 1e+00]\n",
      "  RHS range        [1e+00, 1e+04]\n",
      "Warning: Model contains large matrix coefficient range\n",
      "         Consider reformulating model or setting NumericFocus parameter\n",
      "         to avoid numerical issues.\n",
      "Found heuristic solution: objective 19.9766393\n",
      "Presolve removed 2946 rows and 2658 columns\n",
      "Presolve time: 0.38s\n",
      "Presolved: 129 rows, 416 columns, 40153 nonzeros\n",
      "Variable types: 87 continuous, 329 integer (19 binary)\n",
      "Found heuristic solution: objective 21.8061166\n",
      "\n",
      "Root relaxation: objective 1.000000e+02, 11 iterations, 0.00 seconds (0.00 work units)\n",
      "\n",
      "    Nodes    |    Current Node    |     Objective Bounds      |     Work\n",
      " Expl Unexpl |  Obj  Depth IntInf | Incumbent    BestBd   Gap | It/Node Time\n",
      "\n",
      "     0     0  100.00000    0    4   21.80612  100.00000   359%     -    0s\n",
      "H    0     0                      41.3543182  100.00000   142%     -    0s\n",
      "H    0     0                      43.9215091  100.00000   128%     -    0s\n",
      "H    0     0                      46.1742739  100.00000   117%     -    0s\n",
      "H    0     0                     100.0000000  100.00000  0.00%     -    0s\n",
      "\n",
      "Cutting planes:\n",
      "  Gomory: 1\n",
      "  Implied bound: 3\n",
      "  MIR: 21\n",
      "  Relax-and-lift: 163\n",
      "\n",
      "Explored 1 nodes (11 simplex iterations) in 0.46 seconds (0.76 work units)\n",
      "Thread count was 32 (of 32 available processors)\n",
      "\n",
      "Solution count 6: 100 46.1743 43.9215 ... 19.9766\n",
      "\n",
      "Optimal solution found (tolerance 5.00e-02)\n",
      "Best objective 1.000000000000e+02, best bound 1.000000000000e+02, gap 0.0000%\n"
     ]
    }
   ],
   "source": [
    "MILP_s2 = ConcreteModel()\n",
    "BM=BigM\n",
    "# Create Sets\n",
    "MILP_s2.SiteWind = RangeSet(0,NumWindSites_s2-1)\n",
    "MILP_s2.SiteKite = RangeSet(0,NumKiteSites_s2-1)\n",
    "MILP_s2.Designs  = RangeSet(0,NumKiteDesigns_s2-1)\n",
    "MILP_s2.TimeSteps = RangeSet(0,NumTimeSteps-1)\n",
    "\n",
    "# Create Variables\n",
    "MILP_s2.Y_Wind = Var(MILP_s2.SiteWind, domain=NonNegativeIntegers)# Integer variable to track the number of wind turbines used per site location\n",
    "MILP_s2.Y_Kite = Var(MILP_s2.SiteKite, MILP_s2.Designs, domain=NonNegativeIntegers)# Integer variable to track the number of wind turbines used per site location\n",
    "\n",
    "MILP_s2.w = Var(MILP_s2.Designs , domain=Binary)# Binary variable to track the center of the energy collection system\n",
    "\n",
    "MILP_s2.Delta = Var(MILP_s2.TimeSteps, domain=NonNegativeReals) #Curtailment variable\n",
    "\n",
    "#Objective Function\n",
    "def objective_rule(MILP_s2):   \n",
    "    EGWind=sum(MILP_s2.Y_Wind[i]*np.average(WindEnergy_s2[i,:]) for i in MILP_s2.SiteWind) #Energy generation from wind turbines\n",
    "    EGKite=sum(MILP_s2.Y_Kite[i,d]*np.average(KiteEnergy_s2[i,d,:]) for i in MILP_s2.SiteKite for d in MILP_s2.Designs) #Energy generation from kite turbines\n",
    "\n",
    "    TotalCurtailment=sum(MILP_s2.Delta[t] for t in MILP_s2.TimeSteps)/NumTimeSteps #Average curtailment MW\n",
    "\n",
    "    Obj=(EGWind + EGKite - TotalCurtailment)#*24*365#Mwh/year\n",
    "    return Obj\n",
    "\n",
    "MILP_s2.OBJ = Objective(rule = objective_rule, sense=maximize)\n",
    "\n",
    "#Constraints\n",
    "#Maximum number of turbines per site location wind\n",
    "def MaxTurbinesCell_Wind_rule(MILP_s2,i):\n",
    "    return MILP_s2.Y_Wind[i]<=MaxNumWindPerSite_s2[i]\n",
    "MILP_s2.Turbines_Cell_Wind = Constraint(MILP_s2.SiteWind, rule=MaxTurbinesCell_Wind_rule)\n",
    "\n",
    "#Maximum number of turbines per site location kite\n",
    "def MaxTurbinesCell_Kite_rule(MILP_s2,i):\n",
    "    return sum(MILP_s2.Y_Kite[i,d] for d in MILP_s2.Designs) <= MaxNumKitesPerSite_s2[i]\n",
    "MILP_s2.Turbines_Cell_Kite = Constraint(MILP_s2.SiteKite, rule=MaxTurbinesCell_Kite_rule)\n",
    "\n",
    "#Curtailment constraint\n",
    "def Curtailment_rule(MILP_s2,t):\n",
    "    EGWind=sum(MILP_s2.Y_Wind[i]*WindEnergy_s2[i,t] for i in MILP_s2.SiteWind) #Energy generation from wind turbines\n",
    "    EGKite=sum(MILP_s2.Y_Kite[i,d]*np.average(KiteEnergy_s2[i,d,:]) for i in MILP_s2.SiteKite for d in MILP_s2.Designs) #Energy generation from kite turbines\n",
    "    return -MILP_s2.Delta[t]+ EGWind+ EGKite<=MaxPowerTransmission\n",
    "MILP_s2.Curtailment = Constraint(MILP_s2.TimeSteps, rule=Curtailment_rule)\n",
    "\n",
    "#---Choose center collection system - End\n",
    "\n",
    "#LCOE Target\n",
    "def LCOETarget_S1(MILP_s2,LCOE_Max):  \n",
    "    EG_Wind=sum(MILP_s2.Y_Wind[i]*np.average(WindEnergy[i,:]) for i in MILP_s2.SiteWind) #Average MW for wind\n",
    "    EG_Kite=sum(MILP_s2.Y_Kite[i,d]*np.average(KiteEnergy_s2[i,d,:]) for i in MILP_s2.SiteKite for d in MILP_s2.Designs) #Average MW for kite\n",
    "    TotalCurtailment=sum(MILP_s2.Delta[i] for i in MILP_s2.TimeSteps)/NumTimeSteps #Average curtailment MW\n",
    "    \n",
    "    MWh=(EG_Kite+EG_Wind-TotalCurtailment)*24*365 #MWh\n",
    "\n",
    "    Cost_Wind=sum(MILP_s2.Y_Wind[i]*AnnualizedCostWind[i] for i in MILP_s2.SiteWind)\n",
    "    Cost_Kite=sum(MILP_s2.Y_Kite[i,d]*AnnualizedCostKite[d] for i in MILP_s2.SiteKite for d in MILP_s2.Designs)\n",
    "    Cost_Transmission=AnnualizedCostTransmission[TransLoc]\n",
    "    Cost=Cost_Wind+Cost_Kite+Cost_Transmission\n",
    "\n",
    "    return Cost<=LCOE_Max*MWh # 300 is a big M for the total number of turbines installed       \n",
    "\n",
    "LCOE_Target=LCOETarget_S1(MILP_s2,LCOETarget)\n",
    "MILP_s2.LCOE_Target = Constraint(rule=LCOE_Target)\n",
    "\n",
    "def TrackDesigns(MILP_s2,d):  \n",
    "    return sum(MILP_s2.Y_Kite[i,d] for i in MILP_s2.SiteKite)<=MILP_s2.w[d]*BM \n",
    "MILP_s2.TrackDesigns = Constraint(MILP_s2.Designs, rule=TrackDesigns)\n",
    "\n",
    "def CountDesigns(MILP_s2):  \n",
    "    return sum(MILP_s2.w[d] for d in MILP_s2.Designs)<=MaxNumDesigns\n",
    "MILP_s2.CountDesigns = Constraint(rule=CountDesigns)\n",
    "#---Choose center collection system - End\n",
    "#\n",
    "opt = SolverFactory('gurobi', solver_io=\"python\")\n",
    "opt.options['mipgap'] = 0.05\n",
    "#opt.options['max_iter'] = 500\n",
    "results=opt.solve(MILP, tee=True)"
   ]
  }
 ],
 "metadata": {
  "interpreter": {
   "hash": "b7e4da0be000042da30986b125ac998c2888ee96c4216c9a0b66eb1cc0e56268"
  },
  "kernelspec": {
   "display_name": "Python 3.7.10 ('Gurobi_py37': conda)",
   "language": "python",
   "name": "python3"
  },
  "language_info": {
   "codemirror_mode": {
    "name": "ipython",
    "version": 3
   },
   "file_extension": ".py",
   "mimetype": "text/x-python",
   "name": "python",
   "nbconvert_exporter": "python",
   "pygments_lexer": "ipython3",
   "version": "3.10.6"
  },
  "orig_nbformat": 4
 },
 "nbformat": 4,
 "nbformat_minor": 2
}
