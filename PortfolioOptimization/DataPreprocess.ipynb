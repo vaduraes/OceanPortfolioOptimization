{
 "cells": [
  {
   "attachments": {},
   "cell_type": "markdown",
   "metadata": {},
   "source": [
    "# Libs and Inputs"
   ]
  },
  {
   "cell_type": "code",
   "execution_count": 54,
   "metadata": {},
   "outputs": [],
   "source": [
    "#Environment PyMatlab\n",
    "from __future__ import division\n",
    "import numpy as np\n",
    "import time\n",
    "from tqdm import tqdm\n",
    "\n",
    "MaxLCOE_Kite= 200 # $/MWh, Max LCOE for a kite location to be considered by the optimization model\n",
    "MaxLCOE_Wind= 300 # $/MWh, Max LCOE for a kite location to be considered by the optimization model\n",
    "\n",
    "MaxPowerTransmissionWind=600 #MW Maximum input power to the transmission system\n",
    "MaxPowerTransmissionKite=60 #MW Maximum input power to the transmission system\n",
    "ResultsFileName='PortfolioOptimizationWindWaveOcean'\n",
    "\n",
    "ShapeFileCoast=\"./GEO_data/ne_10m_coastline.shp\"\n",
    "ShapeFileStates=\"./GEO_data/ne_10m_admin_1_states_provinces_lines.shp\"\n",
    "WindNpzPath='../Wind_AE/WindEnergyNREL_100m_Haliade150_6MW.npz'\n",
    "KiteLFGenerationNpzPath ='../KiteLF_Optimization/LF_KiteTimeSeriesGeneration.npz'\n",
    "TransmissionNpzPathWind ='../Transmission/Transmission_'+str(MaxPowerTransmissionWind)+'MW.npz'\n",
    "TransmissionNpzPathKite ='../Transmission/Transmission_'+str(MaxPowerTransmissionKite)+'MW.npz'"
   ]
  },
  {
   "attachments": {},
   "cell_type": "markdown",
   "metadata": {},
   "source": [
    "# Kite"
   ]
  },
  {
   "cell_type": "code",
   "execution_count": 50,
   "metadata": {},
   "outputs": [],
   "source": [
    "KiteLFGenerationNpz=np.load(KiteLFGenerationNpzPath, allow_pickle=True)\n",
    "lat=KiteLFGenerationNpz[\"lat\"][0]\n",
    "long=KiteLFGenerationNpz[\"long\"][0]\n",
    "AnnualizedCostKite=[]\n",
    "KiteLatLong=[] #[#Kite Sites,2]\n",
    "KiteEnergy =[] #[#Kite Sites, Length of Time Series] units (MW)\n",
    "MaxNumKitesPerSite=[] #[#Kite Sites] Maximum Number of Kites that can be placed at each site (Default 100)\n",
    "CLCDs=[]\n",
    "LCOEs_kite=[]\n",
    "theta_vecs=[]\n",
    "l_vecs=[]\n",
    "uopt_vecs=[]\n",
    "X_Y_Vecs=[]\n",
    "mFuse_vec=[]\n",
    "mWing_vec=[]\n",
    "Power_LF_AVG=[]\n",
    "\n",
    "\n",
    "KiteResults=KiteLFGenerationNpz[\"Results\"]\n",
    "\n",
    "for i in range(len(KiteResults)):\n",
    "    KiteData=KiteResults[i]\n",
    "    X=KiteData[\"X\"]\n",
    "    Y=KiteData[\"Y\"]\n",
    "    Latitude=lat[X-1]\n",
    "    Longitude=long[Y-1]\n",
    "    uopt=np.asarray(KiteData[\"uopt\"])[0]\n",
    "    mFuse=KiteData[\"mFuse\"]\n",
    "    mWing=KiteData[\"mWing\"]\n",
    "    LCOE=KiteData[\"LCOEBest\"]*1000 # $/Mwh\n",
    "    CLCD     =np.asarray(KiteData[\"CLCD\"])[0]\n",
    "    Jopt_vec =np.asarray(KiteData[\"Jopt_vec\"])[0] #Kwh\n",
    "    theta_vec=np.asarray(KiteData[\"theta_vec\"])[0]\n",
    "    l_vec    =np.asarray(KiteData[\"l_vec\"])[0]\n",
    "    Power=KiteData[\"Power\"]/1000\n",
    "\n",
    "    if LCOE<=MaxLCOE_Kite:\n",
    "        KiteLatLong.append([Latitude,Longitude])\n",
    "        KiteEnergy.append(Jopt_vec/1000) #MW\n",
    "        MaxNumKitesPerSite.append(100)\n",
    "        CLCDs.append(CLCD)\n",
    "        LCOEs_kite.append(LCOE)\n",
    "        theta_vecs.append(theta_vec)\n",
    "        l_vecs.append(l_vec)\n",
    "        uopt_vecs.append(uopt)\n",
    "        X_Y_Vecs.append([X,Y])\n",
    "        mFuse_vec.append(mFuse)\n",
    "        mWing_vec.append(mWing)\n",
    "        Power_LF_AVG.append(KiteData[\"Power\"]/1000)\n",
    "\n",
    "        #Reconstruct the annualized cost\n",
    "        AverageGen=KiteData[\"Power\"]/1000\n",
    "        AnnualizedCostKite.append(LCOE*8760*AverageGen) # $/year"
   ]
  },
  {
   "attachments": {},
   "cell_type": "markdown",
   "metadata": {},
   "source": [
    "# Wind"
   ]
  },
  {
   "cell_type": "code",
   "execution_count": 51,
   "metadata": {},
   "outputs": [],
   "source": [
    "WindNpz=np.load(WindNpzPath, allow_pickle=True)\n",
    "WindEnergy=WindNpz[\"WindEnergy\"]*6 #MW\n",
    "WindLatLong=WindNpz[\"LatLong\"]\n",
    "AnnualizedCostWind=WindNpz[\"AnnualizedCostWind\"]*10**6 # $/Year\n",
    "WindEnergy_Adjusted=np.zeros((WindEnergy.shape[0],87))\n",
    "\n",
    "\n",
    "#sample wind energy such that it has 87 time steps as in the kite data (default until we fix the kite data)\n",
    "for i in range(87):\n",
    "    WindEnergy_Adjusted[:,i]=np.average(WindEnergy[:,4*i:4*(i+1)])\n",
    "\n",
    "MaxNumWindPerSite=[4]*WindEnergy_Adjusted.shape[0]\n",
    "LCOE_Wind=AnnualizedCostWind/(np.average(WindEnergy_Adjusted,axis=1)*8760) # $/MWh"
   ]
  },
  {
   "attachments": {},
   "cell_type": "markdown",
   "metadata": {},
   "source": [
    "# Transmission"
   ]
  },
  {
   "cell_type": "code",
   "execution_count": 52,
   "metadata": {},
   "outputs": [],
   "source": [
    "Wind_TransmissionNpz=np.load(TransmissionNpzPathWind, allow_pickle=True)\n",
    "Wind_TransLatLong=Wind_TransmissionNpz[\"LatLong\"]\n",
    "Wind_EfficiencyTransmission=Wind_TransmissionNpz[\"S_Efficiency\"]\n",
    "Wind_AnnualizedCostTransmission=Wind_TransmissionNpz[\"S_BestACost\"]*10**6 #M$/Year to $/Year\n",
    "\n",
    "Kite_TransmissionNpz=np.load(TransmissionNpzPathKite, allow_pickle=True)\n",
    "Kite_TransLatLong=Kite_TransmissionNpz[\"LatLong\"]\n",
    "Kite_EfficiencyTransmission=Kite_TransmissionNpz[\"S_Efficiency\"]\n",
    "Kite_AnnualizedCostTransmission=Kite_TransmissionNpz[\"S_BestACost\"]*10**6 #M$/Year to $/Year\n",
    "\n"
   ]
  },
  {
   "attachments": {},
   "cell_type": "markdown",
   "metadata": {},
   "source": [
    "# Save In a Single NPZ"
   ]
  },
  {
   "cell_type": "code",
   "execution_count": 53,
   "metadata": {},
   "outputs": [],
   "source": [
    "np.savez(\"PreprocessedData.npz\",WindEnergy=WindEnergy_Adjusted,WindLatLong=WindLatLong, AnnualizedCostWind=AnnualizedCostWind,\n",
    "         LCOE_Wind=LCOE_Wind,MaxNumWindPerSite=MaxNumWindPerSite,\n",
    "         KiteEnergy=KiteEnergy,KiteLatLong=KiteLatLong, AnnualizedCostKite=AnnualizedCostKite,\n",
    "         LCOEs_kite=LCOEs_kite,MaxNumKitesPerSite=MaxNumKitesPerSite, CLCDs=CLCDs,theta_vecs=theta_vecs,l_vecs=l_vecs,\n",
    "         uopt_vecs=uopt_vecs,X_Y_Vecs=X_Y_Vecs,mFuse_vec=mFuse_vec,mWing_vec=mWing_vec,Power_LF_AVG=Power_LF_AVG,\n",
    "         Wind_AnnualizedCostTransmission=Wind_AnnualizedCostTransmission,Wind_TransLatLong=Wind_TransLatLong,Wind_EfficiencyTransmission=Wind_EfficiencyTransmission,\n",
    "         Kite_TransLatLong=Kite_TransLatLong, Kite_EfficiencyTransmission=Kite_EfficiencyTransmission, Kite_AnnualizedCostTransmission=Kite_AnnualizedCostTransmission,\n",
    "         Wind_MaxPowerTransmission=MaxPowerTransmissionWind,Kite_MaxPowerTransmission=MaxPowerTransmissionKite,\n",
    "         TimeStepHours=4.19)\n"
   ]
  }
 ],
 "metadata": {
  "interpreter": {
   "hash": "b7e4da0be000042da30986b125ac998c2888ee96c4216c9a0b66eb1cc0e56268"
  },
  "kernelspec": {
   "display_name": "Python 3.7.10 ('Gurobi_py37': conda)",
   "language": "python",
   "name": "python3"
  },
  "language_info": {
   "codemirror_mode": {
    "name": "ipython",
    "version": 3
   },
   "file_extension": ".py",
   "mimetype": "text/x-python",
   "name": "python",
   "nbconvert_exporter": "python",
   "pygments_lexer": "ipython3",
   "version": "3.9.15"
  },
  "orig_nbformat": 4
 },
 "nbformat": 4,
 "nbformat_minor": 2
}
