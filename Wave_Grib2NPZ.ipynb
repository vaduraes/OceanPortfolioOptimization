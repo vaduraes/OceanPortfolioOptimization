{
 "cells": [
  {
   "cell_type": "code",
   "execution_count": 1,
   "metadata": {},
   "outputs": [
    {
     "name": "stderr",
     "output_type": "stream",
     "text": [
      "100%|██████████| 163/163 [05:10<00:00,  1.91s/it]\n"
     ]
    },
    {
     "name": "stdout",
     "output_type": "stream",
     "text": [
      "\n",
      " Calculating distance to shore for viable site locations\n"
     ]
    },
    {
     "name": "stderr",
     "output_type": "stream",
     "text": [
      "100%|██████████| 360/360 [00:06<00:00, 52.18it/s]\n"
     ]
    },
    {
     "name": "stdout",
     "output_type": "stream",
     "text": [
      "\n",
      " Calculating water depth at each point\n"
     ]
    },
    {
     "name": "stderr",
     "output_type": "stream",
     "text": [
      "100%|██████████| 720/720 [00:08<00:00, 86.88it/s]\n"
     ]
    }
   ],
   "source": [
    "#Run on py37 (pygrib works on windows but it is tricky to install)\n",
    "\n",
    "import numpy as np\n",
    "import sys\n",
    "import datetime as dt\n",
    "from datetime import datetime, timedelta\n",
    "from dateutil.relativedelta import relativedelta\n",
    "\n",
    "sys.path.append('./Tools')\n",
    "from WaveGrib2Npz import ConvertGrib2NPZ_WWIII\n",
    "from GeneralGeoTools import GetDepth, GetDistanceToShore\n",
    "\n",
    "\n",
    "LatMinMax=(33, 37)\n",
    "LongMinMax=(-81,-73)\n",
    "FromDate=dt.date(2005, 7, 1) #Older data are not available #FromDate=dt.date(2005, 2, 1)\n",
    "ToDate=dt.date(2019, 1, 1)\n",
    "SavePath=\"./InputData/Wave/WWIII_2005_2019.npz\"\n",
    "InputDataPath=\"./InputData\"\n",
    "\n",
    "ConvertGrib2NPZ_WWIII(FromDate, ToDate, SavePath=SavePath, LatMinMax=(33, 37), LongMinMax=(-81,-73), DepthMinMax=(1,1000),InputDataPath=InputDataPath)"
   ]
  },
  {
   "cell_type": "code",
   "execution_count": 2,
   "metadata": {},
   "outputs": [],
   "source": [
    "Data=np.load(SavePath, allow_pickle=True)\n",
    "Hs=Data['Hs']\n",
    "Tp=Data['Tp']\n",
    "LatLong=Data['LatLong']\n",
    "DateTimeList=Data['DateTimeList']\n",
    "Depth=Data['Depth']\n",
    "DistanceShore=Data['DistanceShore']"
   ]
  }
 ],
 "metadata": {
  "kernelspec": {
   "display_name": "geo_env",
   "language": "python",
   "name": "python3"
  },
  "language_info": {
   "codemirror_mode": {
    "name": "ipython",
    "version": 3
   },
   "file_extension": ".py",
   "mimetype": "text/x-python",
   "name": "python",
   "nbconvert_exporter": "python",
   "pygments_lexer": "ipython3",
   "version": "3.9.18"
  }
 },
 "nbformat": 4,
 "nbformat_minor": 2
}
